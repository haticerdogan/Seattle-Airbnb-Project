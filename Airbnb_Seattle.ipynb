{
  "nbformat": 4,
  "nbformat_minor": 0,
  "metadata": {
    "colab": {
      "name": "Airbnb-Seattle.ipynb",
      "provenance": [],
      "collapsed_sections": [],
      "machine_shape": "hm",
      "authorship_tag": "ABX9TyPBo6tW5jfL6CKqrLdnsJqw",
      "include_colab_link": true
    },
    "kernelspec": {
      "name": "python3",
      "display_name": "Python 3"
    },
    "language_info": {
      "name": "python"
    },
    "accelerator": "GPU"
  },
  "cells": [
    {
      "cell_type": "markdown",
      "metadata": {
        "id": "view-in-github",
        "colab_type": "text"
      },
      "source": [
        "<a href=\"https://colab.research.google.com/github/haticerdogan/Seattle-Airbnb-Recommender/blob/main/Airbnb_Seattle.ipynb\" target=\"_parent\"><img src=\"https://colab.research.google.com/assets/colab-badge.svg\" alt=\"Open In Colab\"/></a>"
      ]
    },
    {
      "cell_type": "code",
      "execution_count": null,
      "metadata": {
        "colab": {
          "base_uri": "https://localhost:8080/"
        },
        "id": "S2xmNNnmjzKp",
        "outputId": "95a1b4bb-f077-45e7-dd98-b638305ef1c2"
      },
      "outputs": [
        {
          "output_type": "stream",
          "name": "stdout",
          "text": [
            "Drive already mounted at /content/drive; to attempt to forcibly remount, call drive.mount(\"/content/drive\", force_remount=True).\n"
          ]
        }
      ],
      "source": [
        "from google.colab import drive\n",
        "drive.mount('/content/drive')"
      ]
    },
    {
      "cell_type": "code",
      "source": [
        "! git clone https://github.com/haticerdogan/Seattle-Airbnb-Project.git"
      ],
      "metadata": {
        "colab": {
          "base_uri": "https://localhost:8080/"
        },
        "id": "qwAFSy4dj6Vq",
        "outputId": "48c3c7f4-fab1-4760-bd62-08a702a07f8e"
      },
      "execution_count": null,
      "outputs": [
        {
          "output_type": "stream",
          "name": "stdout",
          "text": [
            "Cloning into 'Seattle-Airbnb-Project'...\n",
            "remote: Enumerating objects: 20, done.\u001b[K\n",
            "remote: Counting objects: 100% (20/20), done.\u001b[K\n",
            "remote: Compressing objects: 100% (16/16), done.\u001b[K\n",
            "remote: Total 20 (delta 2), reused 10 (delta 0), pack-reused 0\u001b[K\n",
            "Unpacking objects: 100% (20/20), done.\n"
          ]
        }
      ]
    },
    {
      "cell_type": "code",
      "source": [
        "%cd 'Seattle-Airbnb-Project'"
      ],
      "metadata": {
        "colab": {
          "base_uri": "https://localhost:8080/"
        },
        "id": "OCvHL-3lk_u-",
        "outputId": "748e51fc-47f9-4993-9f51-18f5e620276c"
      },
      "execution_count": null,
      "outputs": [
        {
          "output_type": "stream",
          "name": "stdout",
          "text": [
            "/content/Seattle-Airbnb-Project\n"
          ]
        }
      ]
    },
    {
      "cell_type": "markdown",
      "source": [
        "## HOME AWAY FROM HOME\n",
        "\n",
        "\n",
        "Airbnb, which is short for \"Air Bed and Breakfast\", is an online platform that makes it easy to list and rent local homes by connecting hosts and guests. Seattle, WA is one of the most urban and modern cities in the United States. As many people visit Seattle, demand for searching and booking Airbnb listings increases.\n",
        "\n",
        "The purpose of this project is to predict the booking rates of listings based on their features and provide Airbnb hosts with insights that will increase both booking rates and guests' pleasure with valuable improvements.\n",
        "\n",
        "The process starts with cleaning the data, pre-processing and vectorizing the text columns followed by a Machine Learning pipeline using regression algorithms that predict the booking rate of Airbnb listings in the Seattle Metro area. Models predict the mean booking rate for a given property listing for the year. Baseline regression models are evaluated first hyperparameters are tuned with RandomizedSeachCV to find the optimal hyperparameters with the lowest cross validated Mean Squared Error (MSE). The independent variables affecting the booking rate of listings consists of 3 components:\n",
        "\n",
        "1. Text columns that give an overview of each listing on Airbnb which are preprocessed and vectorized using Natural Language Processing (NLP).\n",
        "2. Numerical columns such as cleaning fee, daily price and price for additional people.\n",
        "3. Categorical columns such as whether host of a particular listing is a superhost or not, bed type, and property type.\n",
        "\n"
      ],
      "metadata": {
        "id": "uoBl8A8W4y1G"
      }
    },
    {
      "cell_type": "code",
      "source": [
        "import pandas as pd\n",
        "import numpy as np\n",
        "import matplotlib.pyplot as plt\n",
        "import seaborn as sns\n",
        "pd.set_option(\"display.max_columns\" , None)\n",
        "import warnings\n",
        "warnings.filterwarnings('ignore')"
      ],
      "metadata": {
        "id": "a5yNpDeslNfM"
      },
      "execution_count": null,
      "outputs": []
    },
    {
      "cell_type": "markdown",
      "source": [
        "### Preprocessing Calendar Data"
      ],
      "metadata": {
        "id": "SMUCJnqox2_s"
      }
    },
    {
      "cell_type": "code",
      "source": [
        "calendar = pd.read_csv('Data/calendar.csv')\n",
        "calendar.head()"
      ],
      "metadata": {
        "colab": {
          "base_uri": "https://localhost:8080/",
          "height": 206
        },
        "id": "EWZzu4FWufFb",
        "outputId": "81f03448-bd5a-4330-a39b-abf589b360ce"
      },
      "execution_count": null,
      "outputs": [
        {
          "output_type": "execute_result",
          "data": {
            "text/plain": [
              "   listing_id        date available   price\n",
              "0      241032  2016-01-04         t  $85.00\n",
              "1      241032  2016-01-05         t  $85.00\n",
              "2      241032  2016-01-06         f     NaN\n",
              "3      241032  2016-01-07         f     NaN\n",
              "4      241032  2016-01-08         f     NaN"
            ],
            "text/html": [
              "\n",
              "  <div id=\"df-283c6592-c5ba-46ba-b18a-aae143232c06\">\n",
              "    <div class=\"colab-df-container\">\n",
              "      <div>\n",
              "<style scoped>\n",
              "    .dataframe tbody tr th:only-of-type {\n",
              "        vertical-align: middle;\n",
              "    }\n",
              "\n",
              "    .dataframe tbody tr th {\n",
              "        vertical-align: top;\n",
              "    }\n",
              "\n",
              "    .dataframe thead th {\n",
              "        text-align: right;\n",
              "    }\n",
              "</style>\n",
              "<table border=\"1\" class=\"dataframe\">\n",
              "  <thead>\n",
              "    <tr style=\"text-align: right;\">\n",
              "      <th></th>\n",
              "      <th>listing_id</th>\n",
              "      <th>date</th>\n",
              "      <th>available</th>\n",
              "      <th>price</th>\n",
              "    </tr>\n",
              "  </thead>\n",
              "  <tbody>\n",
              "    <tr>\n",
              "      <th>0</th>\n",
              "      <td>241032</td>\n",
              "      <td>2016-01-04</td>\n",
              "      <td>t</td>\n",
              "      <td>$85.00</td>\n",
              "    </tr>\n",
              "    <tr>\n",
              "      <th>1</th>\n",
              "      <td>241032</td>\n",
              "      <td>2016-01-05</td>\n",
              "      <td>t</td>\n",
              "      <td>$85.00</td>\n",
              "    </tr>\n",
              "    <tr>\n",
              "      <th>2</th>\n",
              "      <td>241032</td>\n",
              "      <td>2016-01-06</td>\n",
              "      <td>f</td>\n",
              "      <td>NaN</td>\n",
              "    </tr>\n",
              "    <tr>\n",
              "      <th>3</th>\n",
              "      <td>241032</td>\n",
              "      <td>2016-01-07</td>\n",
              "      <td>f</td>\n",
              "      <td>NaN</td>\n",
              "    </tr>\n",
              "    <tr>\n",
              "      <th>4</th>\n",
              "      <td>241032</td>\n",
              "      <td>2016-01-08</td>\n",
              "      <td>f</td>\n",
              "      <td>NaN</td>\n",
              "    </tr>\n",
              "  </tbody>\n",
              "</table>\n",
              "</div>\n",
              "      <button class=\"colab-df-convert\" onclick=\"convertToInteractive('df-283c6592-c5ba-46ba-b18a-aae143232c06')\"\n",
              "              title=\"Convert this dataframe to an interactive table.\"\n",
              "              style=\"display:none;\">\n",
              "        \n",
              "  <svg xmlns=\"http://www.w3.org/2000/svg\" height=\"24px\"viewBox=\"0 0 24 24\"\n",
              "       width=\"24px\">\n",
              "    <path d=\"M0 0h24v24H0V0z\" fill=\"none\"/>\n",
              "    <path d=\"M18.56 5.44l.94 2.06.94-2.06 2.06-.94-2.06-.94-.94-2.06-.94 2.06-2.06.94zm-11 1L8.5 8.5l.94-2.06 2.06-.94-2.06-.94L8.5 2.5l-.94 2.06-2.06.94zm10 10l.94 2.06.94-2.06 2.06-.94-2.06-.94-.94-2.06-.94 2.06-2.06.94z\"/><path d=\"M17.41 7.96l-1.37-1.37c-.4-.4-.92-.59-1.43-.59-.52 0-1.04.2-1.43.59L10.3 9.45l-7.72 7.72c-.78.78-.78 2.05 0 2.83L4 21.41c.39.39.9.59 1.41.59.51 0 1.02-.2 1.41-.59l7.78-7.78 2.81-2.81c.8-.78.8-2.07 0-2.86zM5.41 20L4 18.59l7.72-7.72 1.47 1.35L5.41 20z\"/>\n",
              "  </svg>\n",
              "      </button>\n",
              "      \n",
              "  <style>\n",
              "    .colab-df-container {\n",
              "      display:flex;\n",
              "      flex-wrap:wrap;\n",
              "      gap: 12px;\n",
              "    }\n",
              "\n",
              "    .colab-df-convert {\n",
              "      background-color: #E8F0FE;\n",
              "      border: none;\n",
              "      border-radius: 50%;\n",
              "      cursor: pointer;\n",
              "      display: none;\n",
              "      fill: #1967D2;\n",
              "      height: 32px;\n",
              "      padding: 0 0 0 0;\n",
              "      width: 32px;\n",
              "    }\n",
              "\n",
              "    .colab-df-convert:hover {\n",
              "      background-color: #E2EBFA;\n",
              "      box-shadow: 0px 1px 2px rgba(60, 64, 67, 0.3), 0px 1px 3px 1px rgba(60, 64, 67, 0.15);\n",
              "      fill: #174EA6;\n",
              "    }\n",
              "\n",
              "    [theme=dark] .colab-df-convert {\n",
              "      background-color: #3B4455;\n",
              "      fill: #D2E3FC;\n",
              "    }\n",
              "\n",
              "    [theme=dark] .colab-df-convert:hover {\n",
              "      background-color: #434B5C;\n",
              "      box-shadow: 0px 1px 3px 1px rgba(0, 0, 0, 0.15);\n",
              "      filter: drop-shadow(0px 1px 2px rgba(0, 0, 0, 0.3));\n",
              "      fill: #FFFFFF;\n",
              "    }\n",
              "  </style>\n",
              "\n",
              "      <script>\n",
              "        const buttonEl =\n",
              "          document.querySelector('#df-283c6592-c5ba-46ba-b18a-aae143232c06 button.colab-df-convert');\n",
              "        buttonEl.style.display =\n",
              "          google.colab.kernel.accessAllowed ? 'block' : 'none';\n",
              "\n",
              "        async function convertToInteractive(key) {\n",
              "          const element = document.querySelector('#df-283c6592-c5ba-46ba-b18a-aae143232c06');\n",
              "          const dataTable =\n",
              "            await google.colab.kernel.invokeFunction('convertToInteractive',\n",
              "                                                     [key], {});\n",
              "          if (!dataTable) return;\n",
              "\n",
              "          const docLinkHtml = 'Like what you see? Visit the ' +\n",
              "            '<a target=\"_blank\" href=https://colab.research.google.com/notebooks/data_table.ipynb>data table notebook</a>'\n",
              "            + ' to learn more about interactive tables.';\n",
              "          element.innerHTML = '';\n",
              "          dataTable['output_type'] = 'display_data';\n",
              "          await google.colab.output.renderOutput(dataTable, element);\n",
              "          const docLink = document.createElement('div');\n",
              "          docLink.innerHTML = docLinkHtml;\n",
              "          element.appendChild(docLink);\n",
              "        }\n",
              "      </script>\n",
              "    </div>\n",
              "  </div>\n",
              "  "
            ]
          },
          "metadata": {},
          "execution_count": 6
        }
      ]
    },
    {
      "cell_type": "code",
      "source": [
        "# Lots of null values in price column since it is daily data, we do not expect it to change a lot \n",
        "# I will be forward filling null values so if there is a change in price the next row would be filled with changed price\n",
        "calendar.isna().sum()"
      ],
      "metadata": {
        "colab": {
          "base_uri": "https://localhost:8080/"
        },
        "id": "VgFs2LaGvIN9",
        "outputId": "bc0bb5fc-308b-4262-8bf5-9524b7e8b5d9"
      },
      "execution_count": null,
      "outputs": [
        {
          "output_type": "execute_result",
          "data": {
            "text/plain": [
              "listing_id         0\n",
              "date               0\n",
              "available          0\n",
              "price         459028\n",
              "dtype: int64"
            ]
          },
          "metadata": {},
          "execution_count": 7
        }
      ]
    },
    {
      "cell_type": "markdown",
      "source": [
        "Prediction target is yearly booking rate for a listing. Using available column, I assigned 0 for available listings and 1 for unavailable which will show whether a listing was booked or not for a given day."
      ],
      "metadata": {
        "id": "y40OO9BFAQvI"
      }
    },
    {
      "cell_type": "code",
      "source": [
        "# Forward filling null values in price column and removing $ sign \n",
        "# Binary mapping for available column whether it is booked or not \n",
        "calendar['price'] = calendar['price'].replace('[\\$,]','',regex=True).astype(float)\n",
        "calendar['price'] = calendar['price'].fillna(method='ffill')\n",
        "calendar['booked'] = calendar['available'].map({'t': 0, 'f': 1})\n",
        "calendar.drop('available', axis = 1, inplace = True)"
      ],
      "metadata": {
        "id": "lgDlxn9Bus6Q"
      },
      "execution_count": null,
      "outputs": []
    },
    {
      "cell_type": "code",
      "source": [
        "calendar.head()"
      ],
      "metadata": {
        "colab": {
          "base_uri": "https://localhost:8080/",
          "height": 206
        },
        "id": "GDLh8rf1xk2q",
        "outputId": "c0f8d1c6-4474-4786-ab14-314aa62f40f4"
      },
      "execution_count": null,
      "outputs": [
        {
          "output_type": "execute_result",
          "data": {
            "text/plain": [
              "   listing_id        date  price  booked\n",
              "0      241032  2016-01-04   85.0       0\n",
              "1      241032  2016-01-05   85.0       0\n",
              "2      241032  2016-01-06   85.0       1\n",
              "3      241032  2016-01-07   85.0       1\n",
              "4      241032  2016-01-08   85.0       1"
            ],
            "text/html": [
              "\n",
              "  <div id=\"df-b8d3a46d-9499-480f-8c58-c595fea77cb4\">\n",
              "    <div class=\"colab-df-container\">\n",
              "      <div>\n",
              "<style scoped>\n",
              "    .dataframe tbody tr th:only-of-type {\n",
              "        vertical-align: middle;\n",
              "    }\n",
              "\n",
              "    .dataframe tbody tr th {\n",
              "        vertical-align: top;\n",
              "    }\n",
              "\n",
              "    .dataframe thead th {\n",
              "        text-align: right;\n",
              "    }\n",
              "</style>\n",
              "<table border=\"1\" class=\"dataframe\">\n",
              "  <thead>\n",
              "    <tr style=\"text-align: right;\">\n",
              "      <th></th>\n",
              "      <th>listing_id</th>\n",
              "      <th>date</th>\n",
              "      <th>price</th>\n",
              "      <th>booked</th>\n",
              "    </tr>\n",
              "  </thead>\n",
              "  <tbody>\n",
              "    <tr>\n",
              "      <th>0</th>\n",
              "      <td>241032</td>\n",
              "      <td>2016-01-04</td>\n",
              "      <td>85.0</td>\n",
              "      <td>0</td>\n",
              "    </tr>\n",
              "    <tr>\n",
              "      <th>1</th>\n",
              "      <td>241032</td>\n",
              "      <td>2016-01-05</td>\n",
              "      <td>85.0</td>\n",
              "      <td>0</td>\n",
              "    </tr>\n",
              "    <tr>\n",
              "      <th>2</th>\n",
              "      <td>241032</td>\n",
              "      <td>2016-01-06</td>\n",
              "      <td>85.0</td>\n",
              "      <td>1</td>\n",
              "    </tr>\n",
              "    <tr>\n",
              "      <th>3</th>\n",
              "      <td>241032</td>\n",
              "      <td>2016-01-07</td>\n",
              "      <td>85.0</td>\n",
              "      <td>1</td>\n",
              "    </tr>\n",
              "    <tr>\n",
              "      <th>4</th>\n",
              "      <td>241032</td>\n",
              "      <td>2016-01-08</td>\n",
              "      <td>85.0</td>\n",
              "      <td>1</td>\n",
              "    </tr>\n",
              "  </tbody>\n",
              "</table>\n",
              "</div>\n",
              "      <button class=\"colab-df-convert\" onclick=\"convertToInteractive('df-b8d3a46d-9499-480f-8c58-c595fea77cb4')\"\n",
              "              title=\"Convert this dataframe to an interactive table.\"\n",
              "              style=\"display:none;\">\n",
              "        \n",
              "  <svg xmlns=\"http://www.w3.org/2000/svg\" height=\"24px\"viewBox=\"0 0 24 24\"\n",
              "       width=\"24px\">\n",
              "    <path d=\"M0 0h24v24H0V0z\" fill=\"none\"/>\n",
              "    <path d=\"M18.56 5.44l.94 2.06.94-2.06 2.06-.94-2.06-.94-.94-2.06-.94 2.06-2.06.94zm-11 1L8.5 8.5l.94-2.06 2.06-.94-2.06-.94L8.5 2.5l-.94 2.06-2.06.94zm10 10l.94 2.06.94-2.06 2.06-.94-2.06-.94-.94-2.06-.94 2.06-2.06.94z\"/><path d=\"M17.41 7.96l-1.37-1.37c-.4-.4-.92-.59-1.43-.59-.52 0-1.04.2-1.43.59L10.3 9.45l-7.72 7.72c-.78.78-.78 2.05 0 2.83L4 21.41c.39.39.9.59 1.41.59.51 0 1.02-.2 1.41-.59l7.78-7.78 2.81-2.81c.8-.78.8-2.07 0-2.86zM5.41 20L4 18.59l7.72-7.72 1.47 1.35L5.41 20z\"/>\n",
              "  </svg>\n",
              "      </button>\n",
              "      \n",
              "  <style>\n",
              "    .colab-df-container {\n",
              "      display:flex;\n",
              "      flex-wrap:wrap;\n",
              "      gap: 12px;\n",
              "    }\n",
              "\n",
              "    .colab-df-convert {\n",
              "      background-color: #E8F0FE;\n",
              "      border: none;\n",
              "      border-radius: 50%;\n",
              "      cursor: pointer;\n",
              "      display: none;\n",
              "      fill: #1967D2;\n",
              "      height: 32px;\n",
              "      padding: 0 0 0 0;\n",
              "      width: 32px;\n",
              "    }\n",
              "\n",
              "    .colab-df-convert:hover {\n",
              "      background-color: #E2EBFA;\n",
              "      box-shadow: 0px 1px 2px rgba(60, 64, 67, 0.3), 0px 1px 3px 1px rgba(60, 64, 67, 0.15);\n",
              "      fill: #174EA6;\n",
              "    }\n",
              "\n",
              "    [theme=dark] .colab-df-convert {\n",
              "      background-color: #3B4455;\n",
              "      fill: #D2E3FC;\n",
              "    }\n",
              "\n",
              "    [theme=dark] .colab-df-convert:hover {\n",
              "      background-color: #434B5C;\n",
              "      box-shadow: 0px 1px 3px 1px rgba(0, 0, 0, 0.15);\n",
              "      filter: drop-shadow(0px 1px 2px rgba(0, 0, 0, 0.3));\n",
              "      fill: #FFFFFF;\n",
              "    }\n",
              "  </style>\n",
              "\n",
              "      <script>\n",
              "        const buttonEl =\n",
              "          document.querySelector('#df-b8d3a46d-9499-480f-8c58-c595fea77cb4 button.colab-df-convert');\n",
              "        buttonEl.style.display =\n",
              "          google.colab.kernel.accessAllowed ? 'block' : 'none';\n",
              "\n",
              "        async function convertToInteractive(key) {\n",
              "          const element = document.querySelector('#df-b8d3a46d-9499-480f-8c58-c595fea77cb4');\n",
              "          const dataTable =\n",
              "            await google.colab.kernel.invokeFunction('convertToInteractive',\n",
              "                                                     [key], {});\n",
              "          if (!dataTable) return;\n",
              "\n",
              "          const docLinkHtml = 'Like what you see? Visit the ' +\n",
              "            '<a target=\"_blank\" href=https://colab.research.google.com/notebooks/data_table.ipynb>data table notebook</a>'\n",
              "            + ' to learn more about interactive tables.';\n",
              "          element.innerHTML = '';\n",
              "          dataTable['output_type'] = 'display_data';\n",
              "          await google.colab.output.renderOutput(dataTable, element);\n",
              "          const docLink = document.createElement('div');\n",
              "          docLink.innerHTML = docLinkHtml;\n",
              "          element.appendChild(docLink);\n",
              "        }\n",
              "      </script>\n",
              "    </div>\n",
              "  </div>\n",
              "  "
            ]
          },
          "metadata": {},
          "execution_count": 9
        }
      ]
    },
    {
      "cell_type": "code",
      "source": [
        "# Taking mean booking rate of each listing \n",
        "calendar['booking_rate'] = calendar[['listing_id', 'booked']].groupby('listing_id').mean()\n",
        "# Average booking rate per day \n",
        "booking_rate_trends = calendar[['date', 'booked']].groupby(['date']).mean().reset_index()\n",
        "booking_rate_trends.head()"
      ],
      "metadata": {
        "colab": {
          "base_uri": "https://localhost:8080/",
          "height": 206
        },
        "id": "MGj3yrs3tCOK",
        "outputId": "1aa65d29-81f4-437e-8831-7baacf9f2558"
      },
      "execution_count": null,
      "outputs": [
        {
          "output_type": "execute_result",
          "data": {
            "text/plain": [
              "         date    booked\n",
              "0  2016-01-04  0.545574\n",
              "1  2016-01-05  0.511001\n",
              "2  2016-01-06  0.521739\n",
              "3  2016-01-07  0.534835\n",
              "4  2016-01-08  0.533263"
            ],
            "text/html": [
              "\n",
              "  <div id=\"df-8097d3e8-65b9-4cc7-9972-613fb0588a5d\">\n",
              "    <div class=\"colab-df-container\">\n",
              "      <div>\n",
              "<style scoped>\n",
              "    .dataframe tbody tr th:only-of-type {\n",
              "        vertical-align: middle;\n",
              "    }\n",
              "\n",
              "    .dataframe tbody tr th {\n",
              "        vertical-align: top;\n",
              "    }\n",
              "\n",
              "    .dataframe thead th {\n",
              "        text-align: right;\n",
              "    }\n",
              "</style>\n",
              "<table border=\"1\" class=\"dataframe\">\n",
              "  <thead>\n",
              "    <tr style=\"text-align: right;\">\n",
              "      <th></th>\n",
              "      <th>date</th>\n",
              "      <th>booked</th>\n",
              "    </tr>\n",
              "  </thead>\n",
              "  <tbody>\n",
              "    <tr>\n",
              "      <th>0</th>\n",
              "      <td>2016-01-04</td>\n",
              "      <td>0.545574</td>\n",
              "    </tr>\n",
              "    <tr>\n",
              "      <th>1</th>\n",
              "      <td>2016-01-05</td>\n",
              "      <td>0.511001</td>\n",
              "    </tr>\n",
              "    <tr>\n",
              "      <th>2</th>\n",
              "      <td>2016-01-06</td>\n",
              "      <td>0.521739</td>\n",
              "    </tr>\n",
              "    <tr>\n",
              "      <th>3</th>\n",
              "      <td>2016-01-07</td>\n",
              "      <td>0.534835</td>\n",
              "    </tr>\n",
              "    <tr>\n",
              "      <th>4</th>\n",
              "      <td>2016-01-08</td>\n",
              "      <td>0.533263</td>\n",
              "    </tr>\n",
              "  </tbody>\n",
              "</table>\n",
              "</div>\n",
              "      <button class=\"colab-df-convert\" onclick=\"convertToInteractive('df-8097d3e8-65b9-4cc7-9972-613fb0588a5d')\"\n",
              "              title=\"Convert this dataframe to an interactive table.\"\n",
              "              style=\"display:none;\">\n",
              "        \n",
              "  <svg xmlns=\"http://www.w3.org/2000/svg\" height=\"24px\"viewBox=\"0 0 24 24\"\n",
              "       width=\"24px\">\n",
              "    <path d=\"M0 0h24v24H0V0z\" fill=\"none\"/>\n",
              "    <path d=\"M18.56 5.44l.94 2.06.94-2.06 2.06-.94-2.06-.94-.94-2.06-.94 2.06-2.06.94zm-11 1L8.5 8.5l.94-2.06 2.06-.94-2.06-.94L8.5 2.5l-.94 2.06-2.06.94zm10 10l.94 2.06.94-2.06 2.06-.94-2.06-.94-.94-2.06-.94 2.06-2.06.94z\"/><path d=\"M17.41 7.96l-1.37-1.37c-.4-.4-.92-.59-1.43-.59-.52 0-1.04.2-1.43.59L10.3 9.45l-7.72 7.72c-.78.78-.78 2.05 0 2.83L4 21.41c.39.39.9.59 1.41.59.51 0 1.02-.2 1.41-.59l7.78-7.78 2.81-2.81c.8-.78.8-2.07 0-2.86zM5.41 20L4 18.59l7.72-7.72 1.47 1.35L5.41 20z\"/>\n",
              "  </svg>\n",
              "      </button>\n",
              "      \n",
              "  <style>\n",
              "    .colab-df-container {\n",
              "      display:flex;\n",
              "      flex-wrap:wrap;\n",
              "      gap: 12px;\n",
              "    }\n",
              "\n",
              "    .colab-df-convert {\n",
              "      background-color: #E8F0FE;\n",
              "      border: none;\n",
              "      border-radius: 50%;\n",
              "      cursor: pointer;\n",
              "      display: none;\n",
              "      fill: #1967D2;\n",
              "      height: 32px;\n",
              "      padding: 0 0 0 0;\n",
              "      width: 32px;\n",
              "    }\n",
              "\n",
              "    .colab-df-convert:hover {\n",
              "      background-color: #E2EBFA;\n",
              "      box-shadow: 0px 1px 2px rgba(60, 64, 67, 0.3), 0px 1px 3px 1px rgba(60, 64, 67, 0.15);\n",
              "      fill: #174EA6;\n",
              "    }\n",
              "\n",
              "    [theme=dark] .colab-df-convert {\n",
              "      background-color: #3B4455;\n",
              "      fill: #D2E3FC;\n",
              "    }\n",
              "\n",
              "    [theme=dark] .colab-df-convert:hover {\n",
              "      background-color: #434B5C;\n",
              "      box-shadow: 0px 1px 3px 1px rgba(0, 0, 0, 0.15);\n",
              "      filter: drop-shadow(0px 1px 2px rgba(0, 0, 0, 0.3));\n",
              "      fill: #FFFFFF;\n",
              "    }\n",
              "  </style>\n",
              "\n",
              "      <script>\n",
              "        const buttonEl =\n",
              "          document.querySelector('#df-8097d3e8-65b9-4cc7-9972-613fb0588a5d button.colab-df-convert');\n",
              "        buttonEl.style.display =\n",
              "          google.colab.kernel.accessAllowed ? 'block' : 'none';\n",
              "\n",
              "        async function convertToInteractive(key) {\n",
              "          const element = document.querySelector('#df-8097d3e8-65b9-4cc7-9972-613fb0588a5d');\n",
              "          const dataTable =\n",
              "            await google.colab.kernel.invokeFunction('convertToInteractive',\n",
              "                                                     [key], {});\n",
              "          if (!dataTable) return;\n",
              "\n",
              "          const docLinkHtml = 'Like what you see? Visit the ' +\n",
              "            '<a target=\"_blank\" href=https://colab.research.google.com/notebooks/data_table.ipynb>data table notebook</a>'\n",
              "            + ' to learn more about interactive tables.';\n",
              "          element.innerHTML = '';\n",
              "          dataTable['output_type'] = 'display_data';\n",
              "          await google.colab.output.renderOutput(dataTable, element);\n",
              "          const docLink = document.createElement('div');\n",
              "          docLink.innerHTML = docLinkHtml;\n",
              "          element.appendChild(docLink);\n",
              "        }\n",
              "      </script>\n",
              "    </div>\n",
              "  </div>\n",
              "  "
            ]
          },
          "metadata": {},
          "execution_count": 10
        }
      ]
    },
    {
      "cell_type": "code",
      "source": [
        "from plotly.offline import plot, iplot, init_notebook_mode\n",
        "import plotly.graph_objs as go\n",
        "init_notebook_mode(connected=True)"
      ],
      "metadata": {
        "colab": {
          "base_uri": "https://localhost:8080/",
          "height": 17
        },
        "id": "VfjMJnSPfl8s",
        "outputId": "61ee0606-dd48-420b-cea7-912d3d04bd6b"
      },
      "execution_count": 111,
      "outputs": [
        {
          "output_type": "display_data",
          "data": {
            "text/html": [
              "        <script type=\"text/javascript\">\n",
              "        window.PlotlyConfig = {MathJaxConfig: 'local'};\n",
              "        if (window.MathJax) {MathJax.Hub.Config({SVG: {font: \"STIX-Web\"}});}\n",
              "        if (typeof require !== 'undefined') {\n",
              "        require.undef(\"plotly\");\n",
              "        requirejs.config({\n",
              "            paths: {\n",
              "                'plotly': ['https://cdn.plot.ly/plotly-2.8.3.min']\n",
              "            }\n",
              "        });\n",
              "        require(['plotly'], function(Plotly) {\n",
              "            window._Plotly = Plotly;\n",
              "        });\n",
              "        }\n",
              "        </script>\n",
              "        "
            ]
          },
          "metadata": {}
        }
      ]
    },
    {
      "cell_type": "code",
      "source": [
        "import plotly.io as pio\n",
        "pio.renderers"
      ],
      "metadata": {
        "colab": {
          "base_uri": "https://localhost:8080/"
        },
        "id": "FY1Ta1FvtgU6",
        "outputId": "92aadfc8-d939-42b4-c1be-467d2f1dc17f"
      },
      "execution_count": 138,
      "outputs": [
        {
          "output_type": "execute_result",
          "data": {
            "text/plain": [
              "Renderers configuration\n",
              "-----------------------\n",
              "    Default renderer: 'plotly_mimetype+notebook_connected'\n",
              "    Available renderers:\n",
              "        ['plotly_mimetype', 'jupyterlab', 'nteract', 'vscode',\n",
              "         'notebook', 'notebook_connected', 'kaggle', 'azure', 'colab',\n",
              "         'cocalc', 'databricks', 'json', 'png', 'jpeg', 'jpg', 'svg',\n",
              "         'pdf', 'browser', 'firefox', 'chrome', 'chromium', 'iframe',\n",
              "         'iframe_connected', 'sphinx_gallery', 'sphinx_gallery_png']"
            ]
          },
          "metadata": {},
          "execution_count": 138
        }
      ]
    },
    {
      "cell_type": "code",
      "source": [
        "import plotly.express as px\n",
        "\n",
        "fig = px.line(booking_rate_trends, x=\"date\", y=\"booked\", title='Occupancy Trend in Seattle, WA')\n",
        "fig.show(renderer='colab')"
      ],
      "metadata": {
        "colab": {
          "base_uri": "https://localhost:8080/",
          "height": 542
        },
        "id": "ZivcovARtk3X",
        "outputId": "1176b404-1313-4ad2-93fc-afdb7ff68e9f"
      },
      "execution_count": 140,
      "outputs": [
        {
          "output_type": "display_data",
          "data": {
            "text/html": [
              "<html>\n",
              "<head><meta charset=\"utf-8\" /></head>\n",
              "<body>\n",
              "    <div>            <script src=\"https://cdnjs.cloudflare.com/ajax/libs/mathjax/2.7.5/MathJax.js?config=TeX-AMS-MML_SVG\"></script><script type=\"text/javascript\">if (window.MathJax) {MathJax.Hub.Config({SVG: {font: \"STIX-Web\"}});}</script>                <script type=\"text/javascript\">window.PlotlyConfig = {MathJaxConfig: 'local'};</script>\n",
              "        <script src=\"https://cdn.plot.ly/plotly-2.8.3.min.js\"></script>                <div id=\"3c808ad8-884e-4313-9cc4-d9850659c5bf\" class=\"plotly-graph-div\" style=\"height:525px; width:100%;\"></div>            <script type=\"text/javascript\">                                    window.PLOTLYENV=window.PLOTLYENV || {};                                    if (document.getElementById(\"3c808ad8-884e-4313-9cc4-d9850659c5bf\")) {                    Plotly.newPlot(                        \"3c808ad8-884e-4313-9cc4-d9850659c5bf\",                        [{\"hovertemplate\":\"date=%{x}<br>booked=%{y}<extra></extra>\",\"legendgroup\":\"\",\"line\":{\"color\":\"#636efa\",\"dash\":\"solid\"},\"marker\":{\"symbol\":\"circle\"},\"mode\":\"lines\",\"name\":\"\",\"orientation\":\"v\",\"showlegend\":false,\"x\":[\"2016-01-04\",\"2016-01-05\",\"2016-01-06\",\"2016-01-07\",\"2016-01-08\",\"2016-01-09\",\"2016-01-10\",\"2016-01-11\",\"2016-01-12\",\"2016-01-13\",\"2016-01-14\",\"2016-01-15\",\"2016-01-16\",\"2016-01-17\",\"2016-01-18\",\"2016-01-19\",\"2016-01-20\",\"2016-01-21\",\"2016-01-22\",\"2016-01-23\",\"2016-01-24\",\"2016-01-25\",\"2016-01-26\",\"2016-01-27\",\"2016-01-28\",\"2016-01-29\",\"2016-01-30\",\"2016-01-31\",\"2016-02-01\",\"2016-02-02\",\"2016-02-03\",\"2016-02-04\",\"2016-02-05\",\"2016-02-06\",\"2016-02-07\",\"2016-02-08\",\"2016-02-09\",\"2016-02-10\",\"2016-02-11\",\"2016-02-12\",\"2016-02-13\",\"2016-02-14\",\"2016-02-15\",\"2016-02-16\",\"2016-02-17\",\"2016-02-18\",\"2016-02-19\",\"2016-02-20\",\"2016-02-21\",\"2016-02-22\",\"2016-02-23\",\"2016-02-24\",\"2016-02-25\",\"2016-02-26\",\"2016-02-27\",\"2016-02-28\",\"2016-02-29\",\"2016-03-01\",\"2016-03-02\",\"2016-03-03\",\"2016-03-04\",\"2016-03-05\",\"2016-03-06\",\"2016-03-07\",\"2016-03-08\",\"2016-03-09\",\"2016-03-10\",\"2016-03-11\",\"2016-03-12\",\"2016-03-13\",\"2016-03-14\",\"2016-03-15\",\"2016-03-16\",\"2016-03-17\",\"2016-03-18\",\"2016-03-19\",\"2016-03-20\",\"2016-03-21\",\"2016-03-22\",\"2016-03-23\",\"2016-03-24\",\"2016-03-25\",\"2016-03-26\",\"2016-03-27\",\"2016-03-28\",\"2016-03-29\",\"2016-03-30\",\"2016-03-31\",\"2016-04-01\",\"2016-04-02\",\"2016-04-03\",\"2016-04-04\",\"2016-04-05\",\"2016-04-06\",\"2016-04-07\",\"2016-04-08\",\"2016-04-09\",\"2016-04-10\",\"2016-04-11\",\"2016-04-12\",\"2016-04-13\",\"2016-04-14\",\"2016-04-15\",\"2016-04-16\",\"2016-04-17\",\"2016-04-18\",\"2016-04-19\",\"2016-04-20\",\"2016-04-21\",\"2016-04-22\",\"2016-04-23\",\"2016-04-24\",\"2016-04-25\",\"2016-04-26\",\"2016-04-27\",\"2016-04-28\",\"2016-04-29\",\"2016-04-30\",\"2016-05-01\",\"2016-05-02\",\"2016-05-03\",\"2016-05-04\",\"2016-05-05\",\"2016-05-06\",\"2016-05-07\",\"2016-05-08\",\"2016-05-09\",\"2016-05-10\",\"2016-05-11\",\"2016-05-12\",\"2016-05-13\",\"2016-05-14\",\"2016-05-15\",\"2016-05-16\",\"2016-05-17\",\"2016-05-18\",\"2016-05-19\",\"2016-05-20\",\"2016-05-21\",\"2016-05-22\",\"2016-05-23\",\"2016-05-24\",\"2016-05-25\",\"2016-05-26\",\"2016-05-27\",\"2016-05-28\",\"2016-05-29\",\"2016-05-30\",\"2016-05-31\",\"2016-06-01\",\"2016-06-02\",\"2016-06-03\",\"2016-06-04\",\"2016-06-05\",\"2016-06-06\",\"2016-06-07\",\"2016-06-08\",\"2016-06-09\",\"2016-06-10\",\"2016-06-11\",\"2016-06-12\",\"2016-06-13\",\"2016-06-14\",\"2016-06-15\",\"2016-06-16\",\"2016-06-17\",\"2016-06-18\",\"2016-06-19\",\"2016-06-20\",\"2016-06-21\",\"2016-06-22\",\"2016-06-23\",\"2016-06-24\",\"2016-06-25\",\"2016-06-26\",\"2016-06-27\",\"2016-06-28\",\"2016-06-29\",\"2016-06-30\",\"2016-07-01\",\"2016-07-02\",\"2016-07-03\",\"2016-07-04\",\"2016-07-05\",\"2016-07-06\",\"2016-07-07\",\"2016-07-08\",\"2016-07-09\",\"2016-07-10\",\"2016-07-11\",\"2016-07-12\",\"2016-07-13\",\"2016-07-14\",\"2016-07-15\",\"2016-07-16\",\"2016-07-17\",\"2016-07-18\",\"2016-07-19\",\"2016-07-20\",\"2016-07-21\",\"2016-07-22\",\"2016-07-23\",\"2016-07-24\",\"2016-07-25\",\"2016-07-26\",\"2016-07-27\",\"2016-07-28\",\"2016-07-29\",\"2016-07-30\",\"2016-07-31\",\"2016-08-01\",\"2016-08-02\",\"2016-08-03\",\"2016-08-04\",\"2016-08-05\",\"2016-08-06\",\"2016-08-07\",\"2016-08-08\",\"2016-08-09\",\"2016-08-10\",\"2016-08-11\",\"2016-08-12\",\"2016-08-13\",\"2016-08-14\",\"2016-08-15\",\"2016-08-16\",\"2016-08-17\",\"2016-08-18\",\"2016-08-19\",\"2016-08-20\",\"2016-08-21\",\"2016-08-22\",\"2016-08-23\",\"2016-08-24\",\"2016-08-25\",\"2016-08-26\",\"2016-08-27\",\"2016-08-28\",\"2016-08-29\",\"2016-08-30\",\"2016-08-31\",\"2016-09-01\",\"2016-09-02\",\"2016-09-03\",\"2016-09-04\",\"2016-09-05\",\"2016-09-06\",\"2016-09-07\",\"2016-09-08\",\"2016-09-09\",\"2016-09-10\",\"2016-09-11\",\"2016-09-12\",\"2016-09-13\",\"2016-09-14\",\"2016-09-15\",\"2016-09-16\",\"2016-09-17\",\"2016-09-18\",\"2016-09-19\",\"2016-09-20\",\"2016-09-21\",\"2016-09-22\",\"2016-09-23\",\"2016-09-24\",\"2016-09-25\",\"2016-09-26\",\"2016-09-27\",\"2016-09-28\",\"2016-09-29\",\"2016-09-30\",\"2016-10-01\",\"2016-10-02\",\"2016-10-03\",\"2016-10-04\",\"2016-10-05\",\"2016-10-06\",\"2016-10-07\",\"2016-10-08\",\"2016-10-09\",\"2016-10-10\",\"2016-10-11\",\"2016-10-12\",\"2016-10-13\",\"2016-10-14\",\"2016-10-15\",\"2016-10-16\",\"2016-10-17\",\"2016-10-18\",\"2016-10-19\",\"2016-10-20\",\"2016-10-21\",\"2016-10-22\",\"2016-10-23\",\"2016-10-24\",\"2016-10-25\",\"2016-10-26\",\"2016-10-27\",\"2016-10-28\",\"2016-10-29\",\"2016-10-30\",\"2016-10-31\",\"2016-11-01\",\"2016-11-02\",\"2016-11-03\",\"2016-11-04\",\"2016-11-05\",\"2016-11-06\",\"2016-11-07\",\"2016-11-08\",\"2016-11-09\",\"2016-11-10\",\"2016-11-11\",\"2016-11-12\",\"2016-11-13\",\"2016-11-14\",\"2016-11-15\",\"2016-11-16\",\"2016-11-17\",\"2016-11-18\",\"2016-11-19\",\"2016-11-20\",\"2016-11-21\",\"2016-11-22\",\"2016-11-23\",\"2016-11-24\",\"2016-11-25\",\"2016-11-26\",\"2016-11-27\",\"2016-11-28\",\"2016-11-29\",\"2016-11-30\",\"2016-12-01\",\"2016-12-02\",\"2016-12-03\",\"2016-12-04\",\"2016-12-05\",\"2016-12-06\",\"2016-12-07\",\"2016-12-08\",\"2016-12-09\",\"2016-12-10\",\"2016-12-11\",\"2016-12-12\",\"2016-12-13\",\"2016-12-14\",\"2016-12-15\",\"2016-12-16\",\"2016-12-17\",\"2016-12-18\",\"2016-12-19\",\"2016-12-20\",\"2016-12-21\",\"2016-12-22\",\"2016-12-23\",\"2016-12-24\",\"2016-12-25\",\"2016-12-26\",\"2016-12-27\",\"2016-12-28\",\"2016-12-29\",\"2016-12-30\",\"2016-12-31\",\"2017-01-01\",\"2017-01-02\"],\"xaxis\":\"x\",\"y\":[0.5455735987427973,0.5110005238344683,0.5217391304347826,0.534834992142483,0.5332634887375589,0.5138816134101624,0.4738082765845993,0.4552121529596648,0.4463069669984285,0.4507595599790466,0.46045049764274487,0.4793085385018334,0.4863803038239916,0.4573074908328968,0.41566265060240964,0.4044002095337873,0.4004714510214772,0.4093766369827135,0.4154007333682556,0.4143530644316396,0.39863803038239914,0.38449449973808275,0.38292299633315874,0.38947092718700893,0.4038763750654793,0.40806705081194344,0.4075432163436354,0.37977998952331066,0.3679937139863803,0.3614457831325301,0.3611838658983761,0.3740178103719225,0.3753273965426925,0.3766369827134625,0.3499214248297538,0.3418019905709796,0.33761131482451545,0.33708748035620745,0.34913567312729177,0.3543740178103719,0.36223153483499215,0.35673127291775797,0.33761131482451545,0.3297537977998952,0.3281822943949712,0.3292299633315872,0.32556312205343113,0.322682032477737,0.31246726034573075,0.3122053431115767,0.31141959140911474,0.3140387637506548,0.3192771084337349,0.31587218438973286,0.31691985332634887,0.31194342587742274,0.3033001571503405,0.30120481927710846,0.30120481927710846,0.30251440544787844,0.29779989523310635,0.2975379779989523,0.2894185437401781,0.29413305395495026,0.29518072289156627,0.2957045573598743,0.2962283918281823,0.2957045573598743,0.2998952331063384,0.2928234677841802,0.29229963331587216,0.29125196437925616,0.28732320586694604,0.28627553693033003,0.2828706128863279,0.28679937139863804,0.287061288632792,0.29072812991094815,0.29229963331587216,0.29125196437925616,0.29518072289156627,0.2928234677841802,0.28575170246202203,0.27710843373493976,0.2786799371398638,0.2794656888423258,0.28025144054478784,0.2784180199057098,0.26925091671031953,0.35280251440544785,0.3459926663174437,0.3438973284442116,0.3423258250392876,0.34756416972236776,0.35673127291775797,0.35568360398114196,0.35542168674698793,0.3444211629125196,0.33708748035620745,0.3357778941854374,0.3349921424829754,0.3360398114195914,0.3328968046097433,0.3326348873755893,0.3323729701414353,0.3326348873755893,0.33315872184389733,0.3357778941854374,0.3363017286537454,0.3355159769512834,0.3363017286537454,0.3352540597171294,0.33315872184389733,0.3318491356731273,0.33106338397066526,0.33001571503404925,0.3279203771608172,0.3297537977998952,0.32661079099004714,0.3279203771608172,0.3287061288632792,0.33053954950235725,0.3289680460974332,0.32242011524358305,0.32346778418019906,0.32242011524358305,0.32294394971189105,0.32294394971189105,0.32320586694604503,0.3250392875851231,0.32713462545835514,0.3253012048192771,0.32242011524358305,0.320848611838659,0.32058669460450495,0.320848611838659,0.32556312205343113,0.32346778418019906,0.32320586694604503,0.32294394971189105,0.31953902566788894,0.320324777370351,0.32242011524358305,0.3287061288632792,0.32713462545835514,0.3250392875851231,0.3250392875851231,0.32346778418019906,0.3250392875851231,0.3250392875851231,0.3273965426925092,0.3289680460974332,0.33053954950235725,0.3284442116291252,0.32634887375589317,0.3250392875851231,0.32713462545835514,0.33420639078051334,0.34154007333682557,0.34154007333682557,0.3360398114195914,0.3308014667365113,0.3287061288632792,0.3287061288632792,0.3281822943949712,0.32765845992666315,0.32713462545835514,0.32294394971189105,0.321634363541121,0.3187532739654269,0.319800942902043,0.321896280775275,0.32058669460450495,0.31953902566788894,0.3171817705605029,0.31613410162388683,0.3148245154531168,0.31534834992142485,0.31639601885804086,0.38449449973808275,0.3821372446306967,0.38082765845992667,0.3789942378208486,0.3748035620743845,0.3740178103719225,0.37323205866946046,0.3745416448402305,0.37349397590361444,0.3706128863279204,0.3713986380303824,0.37323205866946046,0.37270822420115246,0.3745416448402305,0.37349397590361444,0.37349397590361444,0.3711367207962284,0.36982713462545835,0.3679937139863803,0.36877946568884235,0.36877946568884235,0.37035096909376636,0.37244630696699843,0.3711367207962284,0.37297014143530643,0.3706128863279204,0.3690413829229963,0.3695652173913043,0.36982713462545835,0.3721843897328444,0.36930330015715035,0.3706128863279204,0.37035096909376636,0.3679937139863803,0.3674698795180723,0.36642221058145624,0.36485070717653223,0.36380303823991617,0.3601361969617601,0.3614457831325301,0.35987427972760605,0.3606600314300681,0.35751702462022,0.356469355683604,0.35751702462022,0.35463593504452595,0.35568360398114196,0.3533263488737559,0.3541121005762179,0.3535882661079099,0.35280251440544785,0.3504452592980618,0.34834992142482973,0.3470403352540597,0.3467784180199057,0.3473022524882137,0.3449449973808277,0.34363541121005764,0.3433734939759036,0.3425877422734416,0.34127815610267154,0.3383970665269775,0.34023048716605553,0.34075432163436353,0.3394447354635935,0.3357778941854374,0.33368255631220534,0.33053954950235725,0.3297537977998952,0.3292299633315872,0.3273965426925092,0.32713462545835514,0.32713462545835514,0.32634887375589317,0.32687270822420117,0.32661079099004714,0.32661079099004714,0.32556312205343113,0.3247773703509691,0.3247773703509691,0.3242535358826611,0.32399161864850706,0.32320586694604503,0.32006286013619695,0.3187532739654269,0.3182294394971189,0.3171817705605029,0.3171817705605029,0.3166579360921949,0.31613410162388683,0.3156102671555788,0.3140387637506548,0.3132530120481928,0.3077527501309586,0.3067050811943426,0.3067050811943426,0.3067050811943426,0.3061812467260346,0.3051335777894185,0.3051335777894185,0.30539549502357255,0.30591932949188055,0.30591932949188055,0.3051335777894185,0.3051335777894185,0.3038239916186485,0.3038239916186485,0.3040859088528025,0.3038239916186485,0.3033001571503405,0.3033001571503405,0.30251440544787844,0.30146673651126243,0.30120481927710846,0.30146673651126243,0.3006809848088004,0.30120481927710846,0.3006809848088004,0.3001571503404924,0.29884756416972236,0.29779989523310635,0.2975379779989523,0.29727606076479834,0.2962283918281823,0.29544264012572025,0.29439497118910424,0.2936092194866422,0.29334730225248823,0.29020429544264015,0.29020429544264015,0.2899423782084861,0.2896804609743321,0.2896804609743321,0.2881089575694081,0.287061288632792,0.287061288632792,0.286537454164484,0.28627553693033003,0.28575170246202203,0.28575170246202203,0.284442116291252,0.28418019905709796,0.28391828182294393,0.28313253012048195,0.28129910948140385,0.28077527501309585,0.28077527501309585,0.2799895233106338,0.2799895233106338,0.27920377160817184,0.2789418543740178,0.27763226820324777,0.27684651650078573,0.2752750130958617,0.27422734415924566,0.27370350969093765,0.2713462545835516,0.2708224201152436,0.26977475117862754,0.26925091671031953,0.26872708224201153,0.2684651650078575,0.2679413305395495,0.2679413305395495,0.26715557883708746,0.2668936616029335,0.2658459926663174,0.2642744892613934,0.26322682032477734,0.26270298585646934,0.26217915138816134,0.26191723415400736,0.26191723415400736,0.26165531691985333,0.2613933996856993,0.2608695652173913,0.2608695652173913,0.25903614457831325,0.25851231011000525,0.25851231011000525,0.25798847564169725,0.2574646411733892,0.25615505500261915,0.251178627553693,0.23467784180199058,0.2729177579884756],\"yaxis\":\"y\",\"type\":\"scatter\"}],                        {\"template\":{\"data\":{\"bar\":[{\"error_x\":{\"color\":\"#2a3f5f\"},\"error_y\":{\"color\":\"#2a3f5f\"},\"marker\":{\"line\":{\"color\":\"#E5ECF6\",\"width\":0.5},\"pattern\":{\"fillmode\":\"overlay\",\"size\":10,\"solidity\":0.2}},\"type\":\"bar\"}],\"barpolar\":[{\"marker\":{\"line\":{\"color\":\"#E5ECF6\",\"width\":0.5},\"pattern\":{\"fillmode\":\"overlay\",\"size\":10,\"solidity\":0.2}},\"type\":\"barpolar\"}],\"carpet\":[{\"aaxis\":{\"endlinecolor\":\"#2a3f5f\",\"gridcolor\":\"white\",\"linecolor\":\"white\",\"minorgridcolor\":\"white\",\"startlinecolor\":\"#2a3f5f\"},\"baxis\":{\"endlinecolor\":\"#2a3f5f\",\"gridcolor\":\"white\",\"linecolor\":\"white\",\"minorgridcolor\":\"white\",\"startlinecolor\":\"#2a3f5f\"},\"type\":\"carpet\"}],\"choropleth\":[{\"colorbar\":{\"outlinewidth\":0,\"ticks\":\"\"},\"type\":\"choropleth\"}],\"contour\":[{\"colorbar\":{\"outlinewidth\":0,\"ticks\":\"\"},\"colorscale\":[[0.0,\"#0d0887\"],[0.1111111111111111,\"#46039f\"],[0.2222222222222222,\"#7201a8\"],[0.3333333333333333,\"#9c179e\"],[0.4444444444444444,\"#bd3786\"],[0.5555555555555556,\"#d8576b\"],[0.6666666666666666,\"#ed7953\"],[0.7777777777777778,\"#fb9f3a\"],[0.8888888888888888,\"#fdca26\"],[1.0,\"#f0f921\"]],\"type\":\"contour\"}],\"contourcarpet\":[{\"colorbar\":{\"outlinewidth\":0,\"ticks\":\"\"},\"type\":\"contourcarpet\"}],\"heatmap\":[{\"colorbar\":{\"outlinewidth\":0,\"ticks\":\"\"},\"colorscale\":[[0.0,\"#0d0887\"],[0.1111111111111111,\"#46039f\"],[0.2222222222222222,\"#7201a8\"],[0.3333333333333333,\"#9c179e\"],[0.4444444444444444,\"#bd3786\"],[0.5555555555555556,\"#d8576b\"],[0.6666666666666666,\"#ed7953\"],[0.7777777777777778,\"#fb9f3a\"],[0.8888888888888888,\"#fdca26\"],[1.0,\"#f0f921\"]],\"type\":\"heatmap\"}],\"heatmapgl\":[{\"colorbar\":{\"outlinewidth\":0,\"ticks\":\"\"},\"colorscale\":[[0.0,\"#0d0887\"],[0.1111111111111111,\"#46039f\"],[0.2222222222222222,\"#7201a8\"],[0.3333333333333333,\"#9c179e\"],[0.4444444444444444,\"#bd3786\"],[0.5555555555555556,\"#d8576b\"],[0.6666666666666666,\"#ed7953\"],[0.7777777777777778,\"#fb9f3a\"],[0.8888888888888888,\"#fdca26\"],[1.0,\"#f0f921\"]],\"type\":\"heatmapgl\"}],\"histogram\":[{\"marker\":{\"pattern\":{\"fillmode\":\"overlay\",\"size\":10,\"solidity\":0.2}},\"type\":\"histogram\"}],\"histogram2d\":[{\"colorbar\":{\"outlinewidth\":0,\"ticks\":\"\"},\"colorscale\":[[0.0,\"#0d0887\"],[0.1111111111111111,\"#46039f\"],[0.2222222222222222,\"#7201a8\"],[0.3333333333333333,\"#9c179e\"],[0.4444444444444444,\"#bd3786\"],[0.5555555555555556,\"#d8576b\"],[0.6666666666666666,\"#ed7953\"],[0.7777777777777778,\"#fb9f3a\"],[0.8888888888888888,\"#fdca26\"],[1.0,\"#f0f921\"]],\"type\":\"histogram2d\"}],\"histogram2dcontour\":[{\"colorbar\":{\"outlinewidth\":0,\"ticks\":\"\"},\"colorscale\":[[0.0,\"#0d0887\"],[0.1111111111111111,\"#46039f\"],[0.2222222222222222,\"#7201a8\"],[0.3333333333333333,\"#9c179e\"],[0.4444444444444444,\"#bd3786\"],[0.5555555555555556,\"#d8576b\"],[0.6666666666666666,\"#ed7953\"],[0.7777777777777778,\"#fb9f3a\"],[0.8888888888888888,\"#fdca26\"],[1.0,\"#f0f921\"]],\"type\":\"histogram2dcontour\"}],\"mesh3d\":[{\"colorbar\":{\"outlinewidth\":0,\"ticks\":\"\"},\"type\":\"mesh3d\"}],\"parcoords\":[{\"line\":{\"colorbar\":{\"outlinewidth\":0,\"ticks\":\"\"}},\"type\":\"parcoords\"}],\"pie\":[{\"automargin\":true,\"type\":\"pie\"}],\"scatter\":[{\"marker\":{\"colorbar\":{\"outlinewidth\":0,\"ticks\":\"\"}},\"type\":\"scatter\"}],\"scatter3d\":[{\"line\":{\"colorbar\":{\"outlinewidth\":0,\"ticks\":\"\"}},\"marker\":{\"colorbar\":{\"outlinewidth\":0,\"ticks\":\"\"}},\"type\":\"scatter3d\"}],\"scattercarpet\":[{\"marker\":{\"colorbar\":{\"outlinewidth\":0,\"ticks\":\"\"}},\"type\":\"scattercarpet\"}],\"scattergeo\":[{\"marker\":{\"colorbar\":{\"outlinewidth\":0,\"ticks\":\"\"}},\"type\":\"scattergeo\"}],\"scattergl\":[{\"marker\":{\"colorbar\":{\"outlinewidth\":0,\"ticks\":\"\"}},\"type\":\"scattergl\"}],\"scattermapbox\":[{\"marker\":{\"colorbar\":{\"outlinewidth\":0,\"ticks\":\"\"}},\"type\":\"scattermapbox\"}],\"scatterpolar\":[{\"marker\":{\"colorbar\":{\"outlinewidth\":0,\"ticks\":\"\"}},\"type\":\"scatterpolar\"}],\"scatterpolargl\":[{\"marker\":{\"colorbar\":{\"outlinewidth\":0,\"ticks\":\"\"}},\"type\":\"scatterpolargl\"}],\"scatterternary\":[{\"marker\":{\"colorbar\":{\"outlinewidth\":0,\"ticks\":\"\"}},\"type\":\"scatterternary\"}],\"surface\":[{\"colorbar\":{\"outlinewidth\":0,\"ticks\":\"\"},\"colorscale\":[[0.0,\"#0d0887\"],[0.1111111111111111,\"#46039f\"],[0.2222222222222222,\"#7201a8\"],[0.3333333333333333,\"#9c179e\"],[0.4444444444444444,\"#bd3786\"],[0.5555555555555556,\"#d8576b\"],[0.6666666666666666,\"#ed7953\"],[0.7777777777777778,\"#fb9f3a\"],[0.8888888888888888,\"#fdca26\"],[1.0,\"#f0f921\"]],\"type\":\"surface\"}],\"table\":[{\"cells\":{\"fill\":{\"color\":\"#EBF0F8\"},\"line\":{\"color\":\"white\"}},\"header\":{\"fill\":{\"color\":\"#C8D4E3\"},\"line\":{\"color\":\"white\"}},\"type\":\"table\"}]},\"layout\":{\"annotationdefaults\":{\"arrowcolor\":\"#2a3f5f\",\"arrowhead\":0,\"arrowwidth\":1},\"autotypenumbers\":\"strict\",\"coloraxis\":{\"colorbar\":{\"outlinewidth\":0,\"ticks\":\"\"}},\"colorscale\":{\"diverging\":[[0,\"#8e0152\"],[0.1,\"#c51b7d\"],[0.2,\"#de77ae\"],[0.3,\"#f1b6da\"],[0.4,\"#fde0ef\"],[0.5,\"#f7f7f7\"],[0.6,\"#e6f5d0\"],[0.7,\"#b8e186\"],[0.8,\"#7fbc41\"],[0.9,\"#4d9221\"],[1,\"#276419\"]],\"sequential\":[[0.0,\"#0d0887\"],[0.1111111111111111,\"#46039f\"],[0.2222222222222222,\"#7201a8\"],[0.3333333333333333,\"#9c179e\"],[0.4444444444444444,\"#bd3786\"],[0.5555555555555556,\"#d8576b\"],[0.6666666666666666,\"#ed7953\"],[0.7777777777777778,\"#fb9f3a\"],[0.8888888888888888,\"#fdca26\"],[1.0,\"#f0f921\"]],\"sequentialminus\":[[0.0,\"#0d0887\"],[0.1111111111111111,\"#46039f\"],[0.2222222222222222,\"#7201a8\"],[0.3333333333333333,\"#9c179e\"],[0.4444444444444444,\"#bd3786\"],[0.5555555555555556,\"#d8576b\"],[0.6666666666666666,\"#ed7953\"],[0.7777777777777778,\"#fb9f3a\"],[0.8888888888888888,\"#fdca26\"],[1.0,\"#f0f921\"]]},\"colorway\":[\"#636efa\",\"#EF553B\",\"#00cc96\",\"#ab63fa\",\"#FFA15A\",\"#19d3f3\",\"#FF6692\",\"#B6E880\",\"#FF97FF\",\"#FECB52\"],\"font\":{\"color\":\"#2a3f5f\"},\"geo\":{\"bgcolor\":\"white\",\"lakecolor\":\"white\",\"landcolor\":\"#E5ECF6\",\"showlakes\":true,\"showland\":true,\"subunitcolor\":\"white\"},\"hoverlabel\":{\"align\":\"left\"},\"hovermode\":\"closest\",\"mapbox\":{\"style\":\"light\"},\"paper_bgcolor\":\"white\",\"plot_bgcolor\":\"#E5ECF6\",\"polar\":{\"angularaxis\":{\"gridcolor\":\"white\",\"linecolor\":\"white\",\"ticks\":\"\"},\"bgcolor\":\"#E5ECF6\",\"radialaxis\":{\"gridcolor\":\"white\",\"linecolor\":\"white\",\"ticks\":\"\"}},\"scene\":{\"xaxis\":{\"backgroundcolor\":\"#E5ECF6\",\"gridcolor\":\"white\",\"gridwidth\":2,\"linecolor\":\"white\",\"showbackground\":true,\"ticks\":\"\",\"zerolinecolor\":\"white\"},\"yaxis\":{\"backgroundcolor\":\"#E5ECF6\",\"gridcolor\":\"white\",\"gridwidth\":2,\"linecolor\":\"white\",\"showbackground\":true,\"ticks\":\"\",\"zerolinecolor\":\"white\"},\"zaxis\":{\"backgroundcolor\":\"#E5ECF6\",\"gridcolor\":\"white\",\"gridwidth\":2,\"linecolor\":\"white\",\"showbackground\":true,\"ticks\":\"\",\"zerolinecolor\":\"white\"}},\"shapedefaults\":{\"line\":{\"color\":\"#2a3f5f\"}},\"ternary\":{\"aaxis\":{\"gridcolor\":\"white\",\"linecolor\":\"white\",\"ticks\":\"\"},\"baxis\":{\"gridcolor\":\"white\",\"linecolor\":\"white\",\"ticks\":\"\"},\"bgcolor\":\"#E5ECF6\",\"caxis\":{\"gridcolor\":\"white\",\"linecolor\":\"white\",\"ticks\":\"\"}},\"title\":{\"x\":0.05},\"xaxis\":{\"automargin\":true,\"gridcolor\":\"white\",\"linecolor\":\"white\",\"ticks\":\"\",\"title\":{\"standoff\":15},\"zerolinecolor\":\"white\",\"zerolinewidth\":2},\"yaxis\":{\"automargin\":true,\"gridcolor\":\"white\",\"linecolor\":\"white\",\"ticks\":\"\",\"title\":{\"standoff\":15},\"zerolinecolor\":\"white\",\"zerolinewidth\":2}}},\"xaxis\":{\"anchor\":\"y\",\"domain\":[0.0,1.0],\"title\":{\"text\":\"date\"}},\"yaxis\":{\"anchor\":\"x\",\"domain\":[0.0,1.0],\"title\":{\"text\":\"booked\"}},\"legend\":{\"tracegroupgap\":0},\"title\":{\"text\":\"Occupancy Trend in Seattle, WA\"}},                        {\"responsive\": true}                    ).then(function(){\n",
              "                            \n",
              "var gd = document.getElementById('3c808ad8-884e-4313-9cc4-d9850659c5bf');\n",
              "var x = new MutationObserver(function (mutations, observer) {{\n",
              "        var display = window.getComputedStyle(gd).display;\n",
              "        if (!display || display === 'none') {{\n",
              "            console.log([gd, 'removed!']);\n",
              "            Plotly.purge(gd);\n",
              "            observer.disconnect();\n",
              "        }}\n",
              "}});\n",
              "\n",
              "// Listen for the removal of the full notebook cells\n",
              "var notebookContainer = gd.closest('#notebook-container');\n",
              "if (notebookContainer) {{\n",
              "    x.observe(notebookContainer, {childList: true});\n",
              "}}\n",
              "\n",
              "// Listen for the clearing of the current output cell\n",
              "var outputEl = gd.closest('.output');\n",
              "if (outputEl) {{\n",
              "    x.observe(outputEl, {childList: true});\n",
              "}}\n",
              "\n",
              "                        })                };                            </script>        </div>\n",
              "</body>\n",
              "</html>"
            ]
          },
          "metadata": {}
        }
      ]
    },
    {
      "cell_type": "markdown",
      "source": [
        "The above graph shows the average daily booking rate throughout the year 2016 to 2017. We see three distinct periods with dramatic increases. The data starts with New Years and it appears to be the time with the greatest increase in booking rate since it decreaes a lot until March 2016. The second peak is in April which we can assume as Spring Break. The last one is in July presumably summer vacations."
      ],
      "metadata": {
        "id": "64TiwWPDBcBS"
      }
    },
    {
      "cell_type": "code",
      "source": [
        "# Average price per day \n",
        "price_trends = calendar[['date', 'price']].groupby(['date']).mean().reset_index()\n",
        "price_trends.head()"
      ],
      "metadata": {
        "colab": {
          "base_uri": "https://localhost:8080/",
          "height": 206
        },
        "id": "ZVJMVbQHwyCv",
        "outputId": "d72e5065-3fe0-415b-99a8-33f02c771d50"
      },
      "execution_count": null,
      "outputs": [
        {
          "output_type": "execute_result",
          "data": {
            "text/plain": [
              "         date       price\n",
              "0  2016-01-04  127.514144\n",
              "1  2016-01-05  126.352017\n",
              "2  2016-01-06  125.211105\n",
              "3  2016-01-07  124.999476\n",
              "4  2016-01-08  127.181771"
            ],
            "text/html": [
              "\n",
              "  <div id=\"df-03480280-c78c-4b7a-8af1-e4251a97cef2\">\n",
              "    <div class=\"colab-df-container\">\n",
              "      <div>\n",
              "<style scoped>\n",
              "    .dataframe tbody tr th:only-of-type {\n",
              "        vertical-align: middle;\n",
              "    }\n",
              "\n",
              "    .dataframe tbody tr th {\n",
              "        vertical-align: top;\n",
              "    }\n",
              "\n",
              "    .dataframe thead th {\n",
              "        text-align: right;\n",
              "    }\n",
              "</style>\n",
              "<table border=\"1\" class=\"dataframe\">\n",
              "  <thead>\n",
              "    <tr style=\"text-align: right;\">\n",
              "      <th></th>\n",
              "      <th>date</th>\n",
              "      <th>price</th>\n",
              "    </tr>\n",
              "  </thead>\n",
              "  <tbody>\n",
              "    <tr>\n",
              "      <th>0</th>\n",
              "      <td>2016-01-04</td>\n",
              "      <td>127.514144</td>\n",
              "    </tr>\n",
              "    <tr>\n",
              "      <th>1</th>\n",
              "      <td>2016-01-05</td>\n",
              "      <td>126.352017</td>\n",
              "    </tr>\n",
              "    <tr>\n",
              "      <th>2</th>\n",
              "      <td>2016-01-06</td>\n",
              "      <td>125.211105</td>\n",
              "    </tr>\n",
              "    <tr>\n",
              "      <th>3</th>\n",
              "      <td>2016-01-07</td>\n",
              "      <td>124.999476</td>\n",
              "    </tr>\n",
              "    <tr>\n",
              "      <th>4</th>\n",
              "      <td>2016-01-08</td>\n",
              "      <td>127.181771</td>\n",
              "    </tr>\n",
              "  </tbody>\n",
              "</table>\n",
              "</div>\n",
              "      <button class=\"colab-df-convert\" onclick=\"convertToInteractive('df-03480280-c78c-4b7a-8af1-e4251a97cef2')\"\n",
              "              title=\"Convert this dataframe to an interactive table.\"\n",
              "              style=\"display:none;\">\n",
              "        \n",
              "  <svg xmlns=\"http://www.w3.org/2000/svg\" height=\"24px\"viewBox=\"0 0 24 24\"\n",
              "       width=\"24px\">\n",
              "    <path d=\"M0 0h24v24H0V0z\" fill=\"none\"/>\n",
              "    <path d=\"M18.56 5.44l.94 2.06.94-2.06 2.06-.94-2.06-.94-.94-2.06-.94 2.06-2.06.94zm-11 1L8.5 8.5l.94-2.06 2.06-.94-2.06-.94L8.5 2.5l-.94 2.06-2.06.94zm10 10l.94 2.06.94-2.06 2.06-.94-2.06-.94-.94-2.06-.94 2.06-2.06.94z\"/><path d=\"M17.41 7.96l-1.37-1.37c-.4-.4-.92-.59-1.43-.59-.52 0-1.04.2-1.43.59L10.3 9.45l-7.72 7.72c-.78.78-.78 2.05 0 2.83L4 21.41c.39.39.9.59 1.41.59.51 0 1.02-.2 1.41-.59l7.78-7.78 2.81-2.81c.8-.78.8-2.07 0-2.86zM5.41 20L4 18.59l7.72-7.72 1.47 1.35L5.41 20z\"/>\n",
              "  </svg>\n",
              "      </button>\n",
              "      \n",
              "  <style>\n",
              "    .colab-df-container {\n",
              "      display:flex;\n",
              "      flex-wrap:wrap;\n",
              "      gap: 12px;\n",
              "    }\n",
              "\n",
              "    .colab-df-convert {\n",
              "      background-color: #E8F0FE;\n",
              "      border: none;\n",
              "      border-radius: 50%;\n",
              "      cursor: pointer;\n",
              "      display: none;\n",
              "      fill: #1967D2;\n",
              "      height: 32px;\n",
              "      padding: 0 0 0 0;\n",
              "      width: 32px;\n",
              "    }\n",
              "\n",
              "    .colab-df-convert:hover {\n",
              "      background-color: #E2EBFA;\n",
              "      box-shadow: 0px 1px 2px rgba(60, 64, 67, 0.3), 0px 1px 3px 1px rgba(60, 64, 67, 0.15);\n",
              "      fill: #174EA6;\n",
              "    }\n",
              "\n",
              "    [theme=dark] .colab-df-convert {\n",
              "      background-color: #3B4455;\n",
              "      fill: #D2E3FC;\n",
              "    }\n",
              "\n",
              "    [theme=dark] .colab-df-convert:hover {\n",
              "      background-color: #434B5C;\n",
              "      box-shadow: 0px 1px 3px 1px rgba(0, 0, 0, 0.15);\n",
              "      filter: drop-shadow(0px 1px 2px rgba(0, 0, 0, 0.3));\n",
              "      fill: #FFFFFF;\n",
              "    }\n",
              "  </style>\n",
              "\n",
              "      <script>\n",
              "        const buttonEl =\n",
              "          document.querySelector('#df-03480280-c78c-4b7a-8af1-e4251a97cef2 button.colab-df-convert');\n",
              "        buttonEl.style.display =\n",
              "          google.colab.kernel.accessAllowed ? 'block' : 'none';\n",
              "\n",
              "        async function convertToInteractive(key) {\n",
              "          const element = document.querySelector('#df-03480280-c78c-4b7a-8af1-e4251a97cef2');\n",
              "          const dataTable =\n",
              "            await google.colab.kernel.invokeFunction('convertToInteractive',\n",
              "                                                     [key], {});\n",
              "          if (!dataTable) return;\n",
              "\n",
              "          const docLinkHtml = 'Like what you see? Visit the ' +\n",
              "            '<a target=\"_blank\" href=https://colab.research.google.com/notebooks/data_table.ipynb>data table notebook</a>'\n",
              "            + ' to learn more about interactive tables.';\n",
              "          element.innerHTML = '';\n",
              "          dataTable['output_type'] = 'display_data';\n",
              "          await google.colab.output.renderOutput(dataTable, element);\n",
              "          const docLink = document.createElement('div');\n",
              "          docLink.innerHTML = docLinkHtml;\n",
              "          element.appendChild(docLink);\n",
              "        }\n",
              "      </script>\n",
              "    </div>\n",
              "  </div>\n",
              "  "
            ]
          },
          "metadata": {},
          "execution_count": 12
        }
      ]
    },
    {
      "cell_type": "code",
      "source": [
        "# Average price of listings from 2016 to 2017\n",
        "fig = px.line(price_trends, x=\"date\", y=\"price\", title='Price Trend in Seattle, WA')\n",
        "fig.show(renderer='colab')"
      ],
      "metadata": {
        "colab": {
          "base_uri": "https://localhost:8080/",
          "height": 542
        },
        "id": "0rCLIkWkxLzI",
        "outputId": "02bc9bae-6393-4a9f-a3cd-ac664f301633"
      },
      "execution_count": 143,
      "outputs": [
        {
          "output_type": "display_data",
          "data": {
            "text/html": [
              "<html>\n",
              "<head><meta charset=\"utf-8\" /></head>\n",
              "<body>\n",
              "    <div>            <script src=\"https://cdnjs.cloudflare.com/ajax/libs/mathjax/2.7.5/MathJax.js?config=TeX-AMS-MML_SVG\"></script><script type=\"text/javascript\">if (window.MathJax) {MathJax.Hub.Config({SVG: {font: \"STIX-Web\"}});}</script>                <script type=\"text/javascript\">window.PlotlyConfig = {MathJaxConfig: 'local'};</script>\n",
              "        <script src=\"https://cdn.plot.ly/plotly-2.8.3.min.js\"></script>                <div id=\"36f843a0-c401-480f-af4c-c69e6b6b9efb\" class=\"plotly-graph-div\" style=\"height:525px; width:100%;\"></div>            <script type=\"text/javascript\">                                    window.PLOTLYENV=window.PLOTLYENV || {};                                    if (document.getElementById(\"36f843a0-c401-480f-af4c-c69e6b6b9efb\")) {                    Plotly.newPlot(                        \"36f843a0-c401-480f-af4c-c69e6b6b9efb\",                        [{\"hovertemplate\":\"date=%{x}<br>price=%{y}<extra></extra>\",\"legendgroup\":\"\",\"line\":{\"color\":\"#636efa\",\"dash\":\"solid\"},\"marker\":{\"symbol\":\"circle\"},\"mode\":\"lines\",\"name\":\"\",\"orientation\":\"v\",\"showlegend\":false,\"x\":[\"2016-01-04\",\"2016-01-05\",\"2016-01-06\",\"2016-01-07\",\"2016-01-08\",\"2016-01-09\",\"2016-01-10\",\"2016-01-11\",\"2016-01-12\",\"2016-01-13\",\"2016-01-14\",\"2016-01-15\",\"2016-01-16\",\"2016-01-17\",\"2016-01-18\",\"2016-01-19\",\"2016-01-20\",\"2016-01-21\",\"2016-01-22\",\"2016-01-23\",\"2016-01-24\",\"2016-01-25\",\"2016-01-26\",\"2016-01-27\",\"2016-01-28\",\"2016-01-29\",\"2016-01-30\",\"2016-01-31\",\"2016-02-01\",\"2016-02-02\",\"2016-02-03\",\"2016-02-04\",\"2016-02-05\",\"2016-02-06\",\"2016-02-07\",\"2016-02-08\",\"2016-02-09\",\"2016-02-10\",\"2016-02-11\",\"2016-02-12\",\"2016-02-13\",\"2016-02-14\",\"2016-02-15\",\"2016-02-16\",\"2016-02-17\",\"2016-02-18\",\"2016-02-19\",\"2016-02-20\",\"2016-02-21\",\"2016-02-22\",\"2016-02-23\",\"2016-02-24\",\"2016-02-25\",\"2016-02-26\",\"2016-02-27\",\"2016-02-28\",\"2016-02-29\",\"2016-03-01\",\"2016-03-02\",\"2016-03-03\",\"2016-03-04\",\"2016-03-05\",\"2016-03-06\",\"2016-03-07\",\"2016-03-08\",\"2016-03-09\",\"2016-03-10\",\"2016-03-11\",\"2016-03-12\",\"2016-03-13\",\"2016-03-14\",\"2016-03-15\",\"2016-03-16\",\"2016-03-17\",\"2016-03-18\",\"2016-03-19\",\"2016-03-20\",\"2016-03-21\",\"2016-03-22\",\"2016-03-23\",\"2016-03-24\",\"2016-03-25\",\"2016-03-26\",\"2016-03-27\",\"2016-03-28\",\"2016-03-29\",\"2016-03-30\",\"2016-03-31\",\"2016-04-01\",\"2016-04-02\",\"2016-04-03\",\"2016-04-04\",\"2016-04-05\",\"2016-04-06\",\"2016-04-07\",\"2016-04-08\",\"2016-04-09\",\"2016-04-10\",\"2016-04-11\",\"2016-04-12\",\"2016-04-13\",\"2016-04-14\",\"2016-04-15\",\"2016-04-16\",\"2016-04-17\",\"2016-04-18\",\"2016-04-19\",\"2016-04-20\",\"2016-04-21\",\"2016-04-22\",\"2016-04-23\",\"2016-04-24\",\"2016-04-25\",\"2016-04-26\",\"2016-04-27\",\"2016-04-28\",\"2016-04-29\",\"2016-04-30\",\"2016-05-01\",\"2016-05-02\",\"2016-05-03\",\"2016-05-04\",\"2016-05-05\",\"2016-05-06\",\"2016-05-07\",\"2016-05-08\",\"2016-05-09\",\"2016-05-10\",\"2016-05-11\",\"2016-05-12\",\"2016-05-13\",\"2016-05-14\",\"2016-05-15\",\"2016-05-16\",\"2016-05-17\",\"2016-05-18\",\"2016-05-19\",\"2016-05-20\",\"2016-05-21\",\"2016-05-22\",\"2016-05-23\",\"2016-05-24\",\"2016-05-25\",\"2016-05-26\",\"2016-05-27\",\"2016-05-28\",\"2016-05-29\",\"2016-05-30\",\"2016-05-31\",\"2016-06-01\",\"2016-06-02\",\"2016-06-03\",\"2016-06-04\",\"2016-06-05\",\"2016-06-06\",\"2016-06-07\",\"2016-06-08\",\"2016-06-09\",\"2016-06-10\",\"2016-06-11\",\"2016-06-12\",\"2016-06-13\",\"2016-06-14\",\"2016-06-15\",\"2016-06-16\",\"2016-06-17\",\"2016-06-18\",\"2016-06-19\",\"2016-06-20\",\"2016-06-21\",\"2016-06-22\",\"2016-06-23\",\"2016-06-24\",\"2016-06-25\",\"2016-06-26\",\"2016-06-27\",\"2016-06-28\",\"2016-06-29\",\"2016-06-30\",\"2016-07-01\",\"2016-07-02\",\"2016-07-03\",\"2016-07-04\",\"2016-07-05\",\"2016-07-06\",\"2016-07-07\",\"2016-07-08\",\"2016-07-09\",\"2016-07-10\",\"2016-07-11\",\"2016-07-12\",\"2016-07-13\",\"2016-07-14\",\"2016-07-15\",\"2016-07-16\",\"2016-07-17\",\"2016-07-18\",\"2016-07-19\",\"2016-07-20\",\"2016-07-21\",\"2016-07-22\",\"2016-07-23\",\"2016-07-24\",\"2016-07-25\",\"2016-07-26\",\"2016-07-27\",\"2016-07-28\",\"2016-07-29\",\"2016-07-30\",\"2016-07-31\",\"2016-08-01\",\"2016-08-02\",\"2016-08-03\",\"2016-08-04\",\"2016-08-05\",\"2016-08-06\",\"2016-08-07\",\"2016-08-08\",\"2016-08-09\",\"2016-08-10\",\"2016-08-11\",\"2016-08-12\",\"2016-08-13\",\"2016-08-14\",\"2016-08-15\",\"2016-08-16\",\"2016-08-17\",\"2016-08-18\",\"2016-08-19\",\"2016-08-20\",\"2016-08-21\",\"2016-08-22\",\"2016-08-23\",\"2016-08-24\",\"2016-08-25\",\"2016-08-26\",\"2016-08-27\",\"2016-08-28\",\"2016-08-29\",\"2016-08-30\",\"2016-08-31\",\"2016-09-01\",\"2016-09-02\",\"2016-09-03\",\"2016-09-04\",\"2016-09-05\",\"2016-09-06\",\"2016-09-07\",\"2016-09-08\",\"2016-09-09\",\"2016-09-10\",\"2016-09-11\",\"2016-09-12\",\"2016-09-13\",\"2016-09-14\",\"2016-09-15\",\"2016-09-16\",\"2016-09-17\",\"2016-09-18\",\"2016-09-19\",\"2016-09-20\",\"2016-09-21\",\"2016-09-22\",\"2016-09-23\",\"2016-09-24\",\"2016-09-25\",\"2016-09-26\",\"2016-09-27\",\"2016-09-28\",\"2016-09-29\",\"2016-09-30\",\"2016-10-01\",\"2016-10-02\",\"2016-10-03\",\"2016-10-04\",\"2016-10-05\",\"2016-10-06\",\"2016-10-07\",\"2016-10-08\",\"2016-10-09\",\"2016-10-10\",\"2016-10-11\",\"2016-10-12\",\"2016-10-13\",\"2016-10-14\",\"2016-10-15\",\"2016-10-16\",\"2016-10-17\",\"2016-10-18\",\"2016-10-19\",\"2016-10-20\",\"2016-10-21\",\"2016-10-22\",\"2016-10-23\",\"2016-10-24\",\"2016-10-25\",\"2016-10-26\",\"2016-10-27\",\"2016-10-28\",\"2016-10-29\",\"2016-10-30\",\"2016-10-31\",\"2016-11-01\",\"2016-11-02\",\"2016-11-03\",\"2016-11-04\",\"2016-11-05\",\"2016-11-06\",\"2016-11-07\",\"2016-11-08\",\"2016-11-09\",\"2016-11-10\",\"2016-11-11\",\"2016-11-12\",\"2016-11-13\",\"2016-11-14\",\"2016-11-15\",\"2016-11-16\",\"2016-11-17\",\"2016-11-18\",\"2016-11-19\",\"2016-11-20\",\"2016-11-21\",\"2016-11-22\",\"2016-11-23\",\"2016-11-24\",\"2016-11-25\",\"2016-11-26\",\"2016-11-27\",\"2016-11-28\",\"2016-11-29\",\"2016-11-30\",\"2016-12-01\",\"2016-12-02\",\"2016-12-03\",\"2016-12-04\",\"2016-12-05\",\"2016-12-06\",\"2016-12-07\",\"2016-12-08\",\"2016-12-09\",\"2016-12-10\",\"2016-12-11\",\"2016-12-12\",\"2016-12-13\",\"2016-12-14\",\"2016-12-15\",\"2016-12-16\",\"2016-12-17\",\"2016-12-18\",\"2016-12-19\",\"2016-12-20\",\"2016-12-21\",\"2016-12-22\",\"2016-12-23\",\"2016-12-24\",\"2016-12-25\",\"2016-12-26\",\"2016-12-27\",\"2016-12-28\",\"2016-12-29\",\"2016-12-30\",\"2016-12-31\",\"2017-01-01\",\"2017-01-02\"],\"xaxis\":\"x\",\"y\":[127.51414353064432,126.35201676270299,125.21110529072813,124.99947616553169,127.18177056050288,126.8821372446307,123.46961760083813,122.88423258250393,122.44944997380827,122.4214248297538,122.52488213724463,126.61602933473023,126.4573074908329,123.47930853850184,122.80330015715035,121.7613933996857,121.62860136196961,121.87716081718177,125.86982713462545,126.17810371922472,122.77632268203247,122.1406495547407,122.03404924044003,122.0780513357779,122.23048716605552,126.18203247773704,126.31639601885804,122.76636982713462,122.74070193818753,122.37742273441593,122.52462022001048,122.91959140911472,127.06966998428497,127.37480356207439,124.2283918281823,123.62022001047669,123.54243059193296,123.72629649030907,124.47145102147721,130.33184913567314,130.76453640649555,126.88318491356732,125.72996333158721,124.40675746464117,124.44368779465688,124.73913043478261,129.3564693556836,129.54033525405973,124.98166579360922,124.40701938187533,124.27815610267156,124.31718177056051,124.57490832896805,129.31508643268728,129.49345206914614,124.97014143530645,124.49528548978523,125.86380303823992,125.78968046097434,126.55133577789418,132.2386066003143,132.54400209533787,127.57543216343636,127.2676794133054,127.19381875327396,127.21870089051859,127.82792037716082,132.5183342063908,132.82896804609743,128.15007857517026,127.83630172865375,127.6115767417496,127.73703509690938,129.65191199580931,134.42456783656365,134.24934520691463,128.41147197485594,128.05552645364065,127.9607124148769,127.88763750654793,129.26453640649555,134.44735463593506,134.6555788370875,129.20822420115243,127.87689889994762,127.79125196437926,127.8370874803562,128.65688842325824,134.28784704033527,134.4112100576218,129.93923520167627,129.58564693556835,129.45521215295966,129.75929806181247,132.06050288108958,136.4219486642221,136.69905709795705,131.7129387113672,129.63855421686748,129.4578313253012,129.61471974855945,130.69146149816657,135.42011524358304,135.53457307490834,130.68805657412258,130.33158721843898,130.3234677841802,130.4180199057098,130.64510214772133,135.32844421162912,135.53038239916185,130.25248821372446,129.91644840230487,129.97642744892613,130.03326348873756,130.59140911471974,135.80199057097957,136.09900471451022,133.35489785227867,133.1081718177056,132.82477737035097,132.88999476165532,133.72524882137245,138.31875327396543,138.32608695652175,132.7909900471451,132.59245678365636,132.65112624410685,132.69172341540073,134.04085908852804,138.66762702985855,138.78627553693033,133.0529072812991,132.9960712414877,133.13122053431115,133.17862755369302,134.6236249345207,139.63410162388686,139.7459402828706,135.06128863279204,135.01964379256154,134.48035620743846,134.64903090623363,136.4612362493452,143.21398638030382,143.33263488737558,138.67967522262964,138.23101100052384,137.3603981141959,139.81875327396543,140.77815610267155,144.94185437401782,144.9981665793609,140.68543740178103,140.38711367207964,140.3457307490833,140.37270822420115,141.69172341540073,146.11288632792036,146.3404924044002,141.5678365636459,140.9515453116815,140.73153483499215,141.01807228915663,142.92273441592457,146.93190151911995,147.10686223153485,142.9515453116815,142.62100576217915,142.60790990047144,142.65898376113148,143.10450497642745,147.03588266107909,147.20796228391828,143.07464641173388,142.7928234677842,142.75589313776845,142.83053954950236,143.35568360398113,148.12729177579885,148.29884756416973,144.9093766369827,144.67967522262964,143.91382922996334,143.83630172865375,144.31456259821897,148.0246202200105,148.19617600838134,144.42535358826612,144.25275013095862,144.21712938711366,144.52488213724462,144.9122577265584,148.5426925091671,148.4423782084861,144.83237297014145,144.61550550026192,144.5227867993714,144.39051859612363,144.9389732844421,148.33525405971713,148.52173913043478,144.77658459926664,144.6843897328444,144.56128863279204,144.5838135149293,145.05997904662127,148.4326872708224,148.4800942902043,144.82111052907283,144.69774751178628,144.78968046097432,144.74567836563645,145.24489261393398,148.5916710319539,148.71110529072814,145.18150864326873,144.772132006286,144.58224201152436,144.6144578313253,144.8279203771608,148.22682032477738,148.0636458878994,144.08014667365111,143.8685175484547,143.87401781037192,143.97695128339444,144.65688842325824,148.15217391304347,148.3331587218439,144.19774751178628,143.91094814038763,143.91382922996334,143.9350445259298,144.75825039287585,148.25301204819277,148.28051335777894,144.0125720272394,143.75536930330017,143.60948140387637,143.65819800942901,143.20167627029858,147.01676270298586,147.01283394447356,142.25432163436355,140.261917234154,139.33132530120483,139.24620220010476,140.21215295966473,144.14955474070194,144.09114719748558,139.0785751702462,138.87506547930855,138.83499214248297,138.87899423782085,139.727867993714,143.6862231534835,143.7084861183866,138.80591932949187,138.5843373493976,138.5843373493976,138.53614457831324,139.3816134101624,143.56312205343113,143.58617077003666,138.60633839706654,138.4151388161341,138.3467784180199,138.38056574122578,138.46333158721845,142.59114719748558,141.21372446306967,135.33682556312206,135.15243583027762,135.11000523834468,135.1964379256155,136.2438449449974,140.530644316396,140.63200628601362,135.50288108957568,135.372446306967,135.31796752226296,135.34337349397592,136.1144578313253,140.45599790466213,140.47983237297015,135.27160817181772,135.08695652173913,135.0432163436354,135.08669460450497,135.76898899947616,140.1327920377161,140.15898376113148,135.1333158721844,134.99528548978523,135.03012048192772,134.98664222105813,135.48507071765323,139.76951283394448,139.70874803562074,134.4248297537978,134.25641697223676,134.05316919853325,134.09979046621268,134.75955997904663,139.2260345730749,139.26008381351494,134.10686223153485,134.0107386066003,134.0018334206391,134.0057621791514,134.5591932949188,138.98507071765323,139.0057621791514,134.04688318491355,134.02200104766894,134.1024096385542,134.16657936092196,134.77370350969093,139.3404924044002,139.35149292823468,134.5741225772656,134.48821372446307,134.52592980618124,134.98480880041907,135.72839182818228,139.8336825563122,139.70770036668412,134.96280775275014,133.9879518072289,133.4955474070194,133.52016762702985,134.52147721320063,139.23284442116292,138.87558931377686,133.94630696699843,133.54635935044527,133.31194342587742,133.41671031953902,135.24855945521216,139.97014143530643,139.75091671031953,134.3986380303824,133.92456783656365,133.9976427448926,134.0649554740702,134.90885280251442,139.47983237297015,139.50733368255632,135.18700890518596,135.00497642744892,135.003404924044,134.96176008381352,136.45809324253537,140.9811419591409,140.92535358826612,137.352016762703,137.26165531691984,136.79649030906234,136.79465688842325,137.41828182294395,142.30277632268204,142.4960712414877,136.09193294918805,135.29649030906234],\"yaxis\":\"y\",\"type\":\"scatter\"}],                        {\"template\":{\"data\":{\"bar\":[{\"error_x\":{\"color\":\"#2a3f5f\"},\"error_y\":{\"color\":\"#2a3f5f\"},\"marker\":{\"line\":{\"color\":\"#E5ECF6\",\"width\":0.5},\"pattern\":{\"fillmode\":\"overlay\",\"size\":10,\"solidity\":0.2}},\"type\":\"bar\"}],\"barpolar\":[{\"marker\":{\"line\":{\"color\":\"#E5ECF6\",\"width\":0.5},\"pattern\":{\"fillmode\":\"overlay\",\"size\":10,\"solidity\":0.2}},\"type\":\"barpolar\"}],\"carpet\":[{\"aaxis\":{\"endlinecolor\":\"#2a3f5f\",\"gridcolor\":\"white\",\"linecolor\":\"white\",\"minorgridcolor\":\"white\",\"startlinecolor\":\"#2a3f5f\"},\"baxis\":{\"endlinecolor\":\"#2a3f5f\",\"gridcolor\":\"white\",\"linecolor\":\"white\",\"minorgridcolor\":\"white\",\"startlinecolor\":\"#2a3f5f\"},\"type\":\"carpet\"}],\"choropleth\":[{\"colorbar\":{\"outlinewidth\":0,\"ticks\":\"\"},\"type\":\"choropleth\"}],\"contour\":[{\"colorbar\":{\"outlinewidth\":0,\"ticks\":\"\"},\"colorscale\":[[0.0,\"#0d0887\"],[0.1111111111111111,\"#46039f\"],[0.2222222222222222,\"#7201a8\"],[0.3333333333333333,\"#9c179e\"],[0.4444444444444444,\"#bd3786\"],[0.5555555555555556,\"#d8576b\"],[0.6666666666666666,\"#ed7953\"],[0.7777777777777778,\"#fb9f3a\"],[0.8888888888888888,\"#fdca26\"],[1.0,\"#f0f921\"]],\"type\":\"contour\"}],\"contourcarpet\":[{\"colorbar\":{\"outlinewidth\":0,\"ticks\":\"\"},\"type\":\"contourcarpet\"}],\"heatmap\":[{\"colorbar\":{\"outlinewidth\":0,\"ticks\":\"\"},\"colorscale\":[[0.0,\"#0d0887\"],[0.1111111111111111,\"#46039f\"],[0.2222222222222222,\"#7201a8\"],[0.3333333333333333,\"#9c179e\"],[0.4444444444444444,\"#bd3786\"],[0.5555555555555556,\"#d8576b\"],[0.6666666666666666,\"#ed7953\"],[0.7777777777777778,\"#fb9f3a\"],[0.8888888888888888,\"#fdca26\"],[1.0,\"#f0f921\"]],\"type\":\"heatmap\"}],\"heatmapgl\":[{\"colorbar\":{\"outlinewidth\":0,\"ticks\":\"\"},\"colorscale\":[[0.0,\"#0d0887\"],[0.1111111111111111,\"#46039f\"],[0.2222222222222222,\"#7201a8\"],[0.3333333333333333,\"#9c179e\"],[0.4444444444444444,\"#bd3786\"],[0.5555555555555556,\"#d8576b\"],[0.6666666666666666,\"#ed7953\"],[0.7777777777777778,\"#fb9f3a\"],[0.8888888888888888,\"#fdca26\"],[1.0,\"#f0f921\"]],\"type\":\"heatmapgl\"}],\"histogram\":[{\"marker\":{\"pattern\":{\"fillmode\":\"overlay\",\"size\":10,\"solidity\":0.2}},\"type\":\"histogram\"}],\"histogram2d\":[{\"colorbar\":{\"outlinewidth\":0,\"ticks\":\"\"},\"colorscale\":[[0.0,\"#0d0887\"],[0.1111111111111111,\"#46039f\"],[0.2222222222222222,\"#7201a8\"],[0.3333333333333333,\"#9c179e\"],[0.4444444444444444,\"#bd3786\"],[0.5555555555555556,\"#d8576b\"],[0.6666666666666666,\"#ed7953\"],[0.7777777777777778,\"#fb9f3a\"],[0.8888888888888888,\"#fdca26\"],[1.0,\"#f0f921\"]],\"type\":\"histogram2d\"}],\"histogram2dcontour\":[{\"colorbar\":{\"outlinewidth\":0,\"ticks\":\"\"},\"colorscale\":[[0.0,\"#0d0887\"],[0.1111111111111111,\"#46039f\"],[0.2222222222222222,\"#7201a8\"],[0.3333333333333333,\"#9c179e\"],[0.4444444444444444,\"#bd3786\"],[0.5555555555555556,\"#d8576b\"],[0.6666666666666666,\"#ed7953\"],[0.7777777777777778,\"#fb9f3a\"],[0.8888888888888888,\"#fdca26\"],[1.0,\"#f0f921\"]],\"type\":\"histogram2dcontour\"}],\"mesh3d\":[{\"colorbar\":{\"outlinewidth\":0,\"ticks\":\"\"},\"type\":\"mesh3d\"}],\"parcoords\":[{\"line\":{\"colorbar\":{\"outlinewidth\":0,\"ticks\":\"\"}},\"type\":\"parcoords\"}],\"pie\":[{\"automargin\":true,\"type\":\"pie\"}],\"scatter\":[{\"marker\":{\"colorbar\":{\"outlinewidth\":0,\"ticks\":\"\"}},\"type\":\"scatter\"}],\"scatter3d\":[{\"line\":{\"colorbar\":{\"outlinewidth\":0,\"ticks\":\"\"}},\"marker\":{\"colorbar\":{\"outlinewidth\":0,\"ticks\":\"\"}},\"type\":\"scatter3d\"}],\"scattercarpet\":[{\"marker\":{\"colorbar\":{\"outlinewidth\":0,\"ticks\":\"\"}},\"type\":\"scattercarpet\"}],\"scattergeo\":[{\"marker\":{\"colorbar\":{\"outlinewidth\":0,\"ticks\":\"\"}},\"type\":\"scattergeo\"}],\"scattergl\":[{\"marker\":{\"colorbar\":{\"outlinewidth\":0,\"ticks\":\"\"}},\"type\":\"scattergl\"}],\"scattermapbox\":[{\"marker\":{\"colorbar\":{\"outlinewidth\":0,\"ticks\":\"\"}},\"type\":\"scattermapbox\"}],\"scatterpolar\":[{\"marker\":{\"colorbar\":{\"outlinewidth\":0,\"ticks\":\"\"}},\"type\":\"scatterpolar\"}],\"scatterpolargl\":[{\"marker\":{\"colorbar\":{\"outlinewidth\":0,\"ticks\":\"\"}},\"type\":\"scatterpolargl\"}],\"scatterternary\":[{\"marker\":{\"colorbar\":{\"outlinewidth\":0,\"ticks\":\"\"}},\"type\":\"scatterternary\"}],\"surface\":[{\"colorbar\":{\"outlinewidth\":0,\"ticks\":\"\"},\"colorscale\":[[0.0,\"#0d0887\"],[0.1111111111111111,\"#46039f\"],[0.2222222222222222,\"#7201a8\"],[0.3333333333333333,\"#9c179e\"],[0.4444444444444444,\"#bd3786\"],[0.5555555555555556,\"#d8576b\"],[0.6666666666666666,\"#ed7953\"],[0.7777777777777778,\"#fb9f3a\"],[0.8888888888888888,\"#fdca26\"],[1.0,\"#f0f921\"]],\"type\":\"surface\"}],\"table\":[{\"cells\":{\"fill\":{\"color\":\"#EBF0F8\"},\"line\":{\"color\":\"white\"}},\"header\":{\"fill\":{\"color\":\"#C8D4E3\"},\"line\":{\"color\":\"white\"}},\"type\":\"table\"}]},\"layout\":{\"annotationdefaults\":{\"arrowcolor\":\"#2a3f5f\",\"arrowhead\":0,\"arrowwidth\":1},\"autotypenumbers\":\"strict\",\"coloraxis\":{\"colorbar\":{\"outlinewidth\":0,\"ticks\":\"\"}},\"colorscale\":{\"diverging\":[[0,\"#8e0152\"],[0.1,\"#c51b7d\"],[0.2,\"#de77ae\"],[0.3,\"#f1b6da\"],[0.4,\"#fde0ef\"],[0.5,\"#f7f7f7\"],[0.6,\"#e6f5d0\"],[0.7,\"#b8e186\"],[0.8,\"#7fbc41\"],[0.9,\"#4d9221\"],[1,\"#276419\"]],\"sequential\":[[0.0,\"#0d0887\"],[0.1111111111111111,\"#46039f\"],[0.2222222222222222,\"#7201a8\"],[0.3333333333333333,\"#9c179e\"],[0.4444444444444444,\"#bd3786\"],[0.5555555555555556,\"#d8576b\"],[0.6666666666666666,\"#ed7953\"],[0.7777777777777778,\"#fb9f3a\"],[0.8888888888888888,\"#fdca26\"],[1.0,\"#f0f921\"]],\"sequentialminus\":[[0.0,\"#0d0887\"],[0.1111111111111111,\"#46039f\"],[0.2222222222222222,\"#7201a8\"],[0.3333333333333333,\"#9c179e\"],[0.4444444444444444,\"#bd3786\"],[0.5555555555555556,\"#d8576b\"],[0.6666666666666666,\"#ed7953\"],[0.7777777777777778,\"#fb9f3a\"],[0.8888888888888888,\"#fdca26\"],[1.0,\"#f0f921\"]]},\"colorway\":[\"#636efa\",\"#EF553B\",\"#00cc96\",\"#ab63fa\",\"#FFA15A\",\"#19d3f3\",\"#FF6692\",\"#B6E880\",\"#FF97FF\",\"#FECB52\"],\"font\":{\"color\":\"#2a3f5f\"},\"geo\":{\"bgcolor\":\"white\",\"lakecolor\":\"white\",\"landcolor\":\"#E5ECF6\",\"showlakes\":true,\"showland\":true,\"subunitcolor\":\"white\"},\"hoverlabel\":{\"align\":\"left\"},\"hovermode\":\"closest\",\"mapbox\":{\"style\":\"light\"},\"paper_bgcolor\":\"white\",\"plot_bgcolor\":\"#E5ECF6\",\"polar\":{\"angularaxis\":{\"gridcolor\":\"white\",\"linecolor\":\"white\",\"ticks\":\"\"},\"bgcolor\":\"#E5ECF6\",\"radialaxis\":{\"gridcolor\":\"white\",\"linecolor\":\"white\",\"ticks\":\"\"}},\"scene\":{\"xaxis\":{\"backgroundcolor\":\"#E5ECF6\",\"gridcolor\":\"white\",\"gridwidth\":2,\"linecolor\":\"white\",\"showbackground\":true,\"ticks\":\"\",\"zerolinecolor\":\"white\"},\"yaxis\":{\"backgroundcolor\":\"#E5ECF6\",\"gridcolor\":\"white\",\"gridwidth\":2,\"linecolor\":\"white\",\"showbackground\":true,\"ticks\":\"\",\"zerolinecolor\":\"white\"},\"zaxis\":{\"backgroundcolor\":\"#E5ECF6\",\"gridcolor\":\"white\",\"gridwidth\":2,\"linecolor\":\"white\",\"showbackground\":true,\"ticks\":\"\",\"zerolinecolor\":\"white\"}},\"shapedefaults\":{\"line\":{\"color\":\"#2a3f5f\"}},\"ternary\":{\"aaxis\":{\"gridcolor\":\"white\",\"linecolor\":\"white\",\"ticks\":\"\"},\"baxis\":{\"gridcolor\":\"white\",\"linecolor\":\"white\",\"ticks\":\"\"},\"bgcolor\":\"#E5ECF6\",\"caxis\":{\"gridcolor\":\"white\",\"linecolor\":\"white\",\"ticks\":\"\"}},\"title\":{\"x\":0.05},\"xaxis\":{\"automargin\":true,\"gridcolor\":\"white\",\"linecolor\":\"white\",\"ticks\":\"\",\"title\":{\"standoff\":15},\"zerolinecolor\":\"white\",\"zerolinewidth\":2},\"yaxis\":{\"automargin\":true,\"gridcolor\":\"white\",\"linecolor\":\"white\",\"ticks\":\"\",\"title\":{\"standoff\":15},\"zerolinecolor\":\"white\",\"zerolinewidth\":2}}},\"xaxis\":{\"anchor\":\"y\",\"domain\":[0.0,1.0],\"title\":{\"text\":\"date\"}},\"yaxis\":{\"anchor\":\"x\",\"domain\":[0.0,1.0],\"title\":{\"text\":\"price\"}},\"legend\":{\"tracegroupgap\":0},\"title\":{\"text\":\"Price Trend in Seattle, WA\"}},                        {\"responsive\": true}                    ).then(function(){\n",
              "                            \n",
              "var gd = document.getElementById('36f843a0-c401-480f-af4c-c69e6b6b9efb');\n",
              "var x = new MutationObserver(function (mutations, observer) {{\n",
              "        var display = window.getComputedStyle(gd).display;\n",
              "        if (!display || display === 'none') {{\n",
              "            console.log([gd, 'removed!']);\n",
              "            Plotly.purge(gd);\n",
              "            observer.disconnect();\n",
              "        }}\n",
              "}});\n",
              "\n",
              "// Listen for the removal of the full notebook cells\n",
              "var notebookContainer = gd.closest('#notebook-container');\n",
              "if (notebookContainer) {{\n",
              "    x.observe(notebookContainer, {childList: true});\n",
              "}}\n",
              "\n",
              "// Listen for the clearing of the current output cell\n",
              "var outputEl = gd.closest('.output');\n",
              "if (outputEl) {{\n",
              "    x.observe(outputEl, {childList: true});\n",
              "}}\n",
              "\n",
              "                        })                };                            </script>        </div>\n",
              "</body>\n",
              "</html>"
            ]
          },
          "metadata": {}
        }
      ]
    },
    {
      "cell_type": "markdown",
      "source": [
        "The above graph shows the average daily price. We see an increase in price starting on March and peaking between the middle of May and September. This is probably due to demand in booking. As excess demand will cause price to rise, hosts increase their price."
      ],
      "metadata": {
        "id": "3QUn1WiCDGby"
      }
    },
    {
      "cell_type": "markdown",
      "source": [
        "### Preprocessing Listings Dataset"
      ],
      "metadata": {
        "id": "MIVFHIzZ0UVY"
      }
    },
    {
      "cell_type": "code",
      "source": [
        "df = pd.read_csv('Data/listings.csv')\n",
        "df.head(2)"
      ],
      "metadata": {
        "colab": {
          "base_uri": "https://localhost:8080/",
          "height": 402
        },
        "id": "BDwnEkFw0bdp",
        "outputId": "d00c5007-0d63-4f13-914b-84b52b0fbcee"
      },
      "execution_count": null,
      "outputs": [
        {
          "output_type": "execute_result",
          "data": {
            "text/plain": [
              "       id                          listing_url       scrape_id last_scraped  \\\n",
              "0  241032  https://www.airbnb.com/rooms/241032  20160104002432   2016-01-04   \n",
              "1  953595  https://www.airbnb.com/rooms/953595  20160104002432   2016-01-04   \n",
              "\n",
              "                                 name  \\\n",
              "0        Stylish Queen Anne Apartment   \n",
              "1  Bright & Airy Queen Anne Apartment   \n",
              "\n",
              "                                             summary  \\\n",
              "0                                                NaN   \n",
              "1  Chemically sensitive? We've removed the irrita...   \n",
              "\n",
              "                                               space  \\\n",
              "0  Make your self at home in this charming one-be...   \n",
              "1  Beautiful, hypoallergenic apartment in an extr...   \n",
              "\n",
              "                                         description experiences_offered  \\\n",
              "0  Make your self at home in this charming one-be...                none   \n",
              "1  Chemically sensitive? We've removed the irrita...                none   \n",
              "\n",
              "                               neighborhood_overview  \\\n",
              "0                                                NaN   \n",
              "1  Queen Anne is a wonderful, truly functional vi...   \n",
              "\n",
              "                                               notes  \\\n",
              "0                                                NaN   \n",
              "1  What's up with the free pillows?  Our home was...   \n",
              "\n",
              "                                             transit  \\\n",
              "0                                                NaN   \n",
              "1  Convenient bus stops are just down the block, ...   \n",
              "\n",
              "                                       thumbnail_url  \\\n",
              "0                                                NaN   \n",
              "1  https://a0.muscache.com/ac/pictures/14409893/f...   \n",
              "\n",
              "                                          medium_url  \\\n",
              "0                                                NaN   \n",
              "1  https://a0.muscache.com/im/pictures/14409893/f...   \n",
              "\n",
              "                                         picture_url  \\\n",
              "0  https://a1.muscache.com/ac/pictures/67560560/c...   \n",
              "1  https://a0.muscache.com/ac/pictures/14409893/f...   \n",
              "\n",
              "                                      xl_picture_url  host_id  \\\n",
              "0                                                NaN   956883   \n",
              "1  https://a0.muscache.com/ac/pictures/14409893/f...  5177328   \n",
              "\n",
              "                                    host_url host_name  host_since  \\\n",
              "0   https://www.airbnb.com/users/show/956883     Maija  2011-08-11   \n",
              "1  https://www.airbnb.com/users/show/5177328    Andrea  2013-02-21   \n",
              "\n",
              "                        host_location  \\\n",
              "0  Seattle, Washington, United States   \n",
              "1  Seattle, Washington, United States   \n",
              "\n",
              "                                          host_about  host_response_time  \\\n",
              "0  I am an artist, interior designer, and run a s...  within a few hours   \n",
              "1  Living east coast/left coast/overseas.  Time i...      within an hour   \n",
              "\n",
              "  host_response_rate host_acceptance_rate host_is_superhost  \\\n",
              "0                96%                 100%                 f   \n",
              "1                98%                 100%                 t   \n",
              "\n",
              "                                  host_thumbnail_url  \\\n",
              "0  https://a0.muscache.com/ac/users/956883/profil...   \n",
              "1  https://a0.muscache.com/ac/users/5177328/profi...   \n",
              "\n",
              "                                    host_picture_url host_neighbourhood  \\\n",
              "0  https://a0.muscache.com/ac/users/956883/profil...         Queen Anne   \n",
              "1  https://a0.muscache.com/ac/users/5177328/profi...         Queen Anne   \n",
              "\n",
              "   host_listings_count  host_total_listings_count  \\\n",
              "0                  3.0                        3.0   \n",
              "1                  6.0                        6.0   \n",
              "\n",
              "                                  host_verifications host_has_profile_pic  \\\n",
              "0               ['email', 'phone', 'reviews', 'kba']                    t   \n",
              "1  ['email', 'phone', 'facebook', 'linkedin', 're...                    t   \n",
              "\n",
              "  host_identity_verified                                             street  \\\n",
              "0                      t      Gilman Dr W, Seattle, WA 98119, United States   \n",
              "1                      t  7th Avenue West, Seattle, WA 98119, United States   \n",
              "\n",
              "  neighbourhood neighbourhood_cleansed neighbourhood_group_cleansed     city  \\\n",
              "0    Queen Anne        West Queen Anne                   Queen Anne  Seattle   \n",
              "1    Queen Anne        West Queen Anne                   Queen Anne  Seattle   \n",
              "\n",
              "  state zipcode   market smart_location country_code        country  \\\n",
              "0    WA   98119  Seattle    Seattle, WA           US  United States   \n",
              "1    WA   98119  Seattle    Seattle, WA           US  United States   \n",
              "\n",
              "    latitude   longitude is_location_exact property_type        room_type  \\\n",
              "0  47.636289 -122.371025                 t     Apartment  Entire home/apt   \n",
              "1  47.639123 -122.365666                 t     Apartment  Entire home/apt   \n",
              "\n",
              "   accommodates  bathrooms  bedrooms  beds  bed_type  \\\n",
              "0             4        1.0       1.0   1.0  Real Bed   \n",
              "1             4        1.0       1.0   1.0  Real Bed   \n",
              "\n",
              "                                           amenities  square_feet    price  \\\n",
              "0  {TV,\"Cable TV\",Internet,\"Wireless Internet\",\"A...          NaN   $85.00   \n",
              "1  {TV,Internet,\"Wireless Internet\",Kitchen,\"Free...          NaN  $150.00   \n",
              "\n",
              "  weekly_price monthly_price security_deposit cleaning_fee  guests_included  \\\n",
              "0          NaN           NaN              NaN          NaN                2   \n",
              "1    $1,000.00     $3,000.00          $100.00       $40.00                1   \n",
              "\n",
              "  extra_people  minimum_nights  maximum_nights calendar_updated  \\\n",
              "0        $5.00               1             365      4 weeks ago   \n",
              "1        $0.00               2              90            today   \n",
              "\n",
              "  has_availability  availability_30  availability_60  availability_90  \\\n",
              "0                t               14               41               71   \n",
              "1                t               13               13               16   \n",
              "\n",
              "   availability_365 calendar_last_scraped  number_of_reviews first_review  \\\n",
              "0               346            2016-01-04                207   2011-11-01   \n",
              "1               291            2016-01-04                 43   2013-08-19   \n",
              "\n",
              "  last_review  review_scores_rating  review_scores_accuracy  \\\n",
              "0  2016-01-02                  95.0                    10.0   \n",
              "1  2015-12-29                  96.0                    10.0   \n",
              "\n",
              "   review_scores_cleanliness  review_scores_checkin  \\\n",
              "0                       10.0                   10.0   \n",
              "1                       10.0                   10.0   \n",
              "\n",
              "   review_scores_communication  review_scores_location  review_scores_value  \\\n",
              "0                         10.0                     9.0                 10.0   \n",
              "1                         10.0                    10.0                 10.0   \n",
              "\n",
              "  requires_license  license jurisdiction_names instant_bookable  \\\n",
              "0                f      NaN         WASHINGTON                f   \n",
              "1                f      NaN         WASHINGTON                f   \n",
              "\n",
              "  cancellation_policy require_guest_profile_picture  \\\n",
              "0            moderate                             f   \n",
              "1              strict                             t   \n",
              "\n",
              "  require_guest_phone_verification  calculated_host_listings_count  \\\n",
              "0                                f                               2   \n",
              "1                                t                               6   \n",
              "\n",
              "   reviews_per_month  \n",
              "0               4.07  \n",
              "1               1.48  "
            ],
            "text/html": [
              "\n",
              "  <div id=\"df-e57aaac9-08e6-4a25-8bf4-9bb785f5e7ea\">\n",
              "    <div class=\"colab-df-container\">\n",
              "      <div>\n",
              "<style scoped>\n",
              "    .dataframe tbody tr th:only-of-type {\n",
              "        vertical-align: middle;\n",
              "    }\n",
              "\n",
              "    .dataframe tbody tr th {\n",
              "        vertical-align: top;\n",
              "    }\n",
              "\n",
              "    .dataframe thead th {\n",
              "        text-align: right;\n",
              "    }\n",
              "</style>\n",
              "<table border=\"1\" class=\"dataframe\">\n",
              "  <thead>\n",
              "    <tr style=\"text-align: right;\">\n",
              "      <th></th>\n",
              "      <th>id</th>\n",
              "      <th>listing_url</th>\n",
              "      <th>scrape_id</th>\n",
              "      <th>last_scraped</th>\n",
              "      <th>name</th>\n",
              "      <th>summary</th>\n",
              "      <th>space</th>\n",
              "      <th>description</th>\n",
              "      <th>experiences_offered</th>\n",
              "      <th>neighborhood_overview</th>\n",
              "      <th>notes</th>\n",
              "      <th>transit</th>\n",
              "      <th>thumbnail_url</th>\n",
              "      <th>medium_url</th>\n",
              "      <th>picture_url</th>\n",
              "      <th>xl_picture_url</th>\n",
              "      <th>host_id</th>\n",
              "      <th>host_url</th>\n",
              "      <th>host_name</th>\n",
              "      <th>host_since</th>\n",
              "      <th>host_location</th>\n",
              "      <th>host_about</th>\n",
              "      <th>host_response_time</th>\n",
              "      <th>host_response_rate</th>\n",
              "      <th>host_acceptance_rate</th>\n",
              "      <th>host_is_superhost</th>\n",
              "      <th>host_thumbnail_url</th>\n",
              "      <th>host_picture_url</th>\n",
              "      <th>host_neighbourhood</th>\n",
              "      <th>host_listings_count</th>\n",
              "      <th>host_total_listings_count</th>\n",
              "      <th>host_verifications</th>\n",
              "      <th>host_has_profile_pic</th>\n",
              "      <th>host_identity_verified</th>\n",
              "      <th>street</th>\n",
              "      <th>neighbourhood</th>\n",
              "      <th>neighbourhood_cleansed</th>\n",
              "      <th>neighbourhood_group_cleansed</th>\n",
              "      <th>city</th>\n",
              "      <th>state</th>\n",
              "      <th>zipcode</th>\n",
              "      <th>market</th>\n",
              "      <th>smart_location</th>\n",
              "      <th>country_code</th>\n",
              "      <th>country</th>\n",
              "      <th>latitude</th>\n",
              "      <th>longitude</th>\n",
              "      <th>is_location_exact</th>\n",
              "      <th>property_type</th>\n",
              "      <th>room_type</th>\n",
              "      <th>accommodates</th>\n",
              "      <th>bathrooms</th>\n",
              "      <th>bedrooms</th>\n",
              "      <th>beds</th>\n",
              "      <th>bed_type</th>\n",
              "      <th>amenities</th>\n",
              "      <th>square_feet</th>\n",
              "      <th>price</th>\n",
              "      <th>weekly_price</th>\n",
              "      <th>monthly_price</th>\n",
              "      <th>security_deposit</th>\n",
              "      <th>cleaning_fee</th>\n",
              "      <th>guests_included</th>\n",
              "      <th>extra_people</th>\n",
              "      <th>minimum_nights</th>\n",
              "      <th>maximum_nights</th>\n",
              "      <th>calendar_updated</th>\n",
              "      <th>has_availability</th>\n",
              "      <th>availability_30</th>\n",
              "      <th>availability_60</th>\n",
              "      <th>availability_90</th>\n",
              "      <th>availability_365</th>\n",
              "      <th>calendar_last_scraped</th>\n",
              "      <th>number_of_reviews</th>\n",
              "      <th>first_review</th>\n",
              "      <th>last_review</th>\n",
              "      <th>review_scores_rating</th>\n",
              "      <th>review_scores_accuracy</th>\n",
              "      <th>review_scores_cleanliness</th>\n",
              "      <th>review_scores_checkin</th>\n",
              "      <th>review_scores_communication</th>\n",
              "      <th>review_scores_location</th>\n",
              "      <th>review_scores_value</th>\n",
              "      <th>requires_license</th>\n",
              "      <th>license</th>\n",
              "      <th>jurisdiction_names</th>\n",
              "      <th>instant_bookable</th>\n",
              "      <th>cancellation_policy</th>\n",
              "      <th>require_guest_profile_picture</th>\n",
              "      <th>require_guest_phone_verification</th>\n",
              "      <th>calculated_host_listings_count</th>\n",
              "      <th>reviews_per_month</th>\n",
              "    </tr>\n",
              "  </thead>\n",
              "  <tbody>\n",
              "    <tr>\n",
              "      <th>0</th>\n",
              "      <td>241032</td>\n",
              "      <td>https://www.airbnb.com/rooms/241032</td>\n",
              "      <td>20160104002432</td>\n",
              "      <td>2016-01-04</td>\n",
              "      <td>Stylish Queen Anne Apartment</td>\n",
              "      <td>NaN</td>\n",
              "      <td>Make your self at home in this charming one-be...</td>\n",
              "      <td>Make your self at home in this charming one-be...</td>\n",
              "      <td>none</td>\n",
              "      <td>NaN</td>\n",
              "      <td>NaN</td>\n",
              "      <td>NaN</td>\n",
              "      <td>NaN</td>\n",
              "      <td>NaN</td>\n",
              "      <td>https://a1.muscache.com/ac/pictures/67560560/c...</td>\n",
              "      <td>NaN</td>\n",
              "      <td>956883</td>\n",
              "      <td>https://www.airbnb.com/users/show/956883</td>\n",
              "      <td>Maija</td>\n",
              "      <td>2011-08-11</td>\n",
              "      <td>Seattle, Washington, United States</td>\n",
              "      <td>I am an artist, interior designer, and run a s...</td>\n",
              "      <td>within a few hours</td>\n",
              "      <td>96%</td>\n",
              "      <td>100%</td>\n",
              "      <td>f</td>\n",
              "      <td>https://a0.muscache.com/ac/users/956883/profil...</td>\n",
              "      <td>https://a0.muscache.com/ac/users/956883/profil...</td>\n",
              "      <td>Queen Anne</td>\n",
              "      <td>3.0</td>\n",
              "      <td>3.0</td>\n",
              "      <td>['email', 'phone', 'reviews', 'kba']</td>\n",
              "      <td>t</td>\n",
              "      <td>t</td>\n",
              "      <td>Gilman Dr W, Seattle, WA 98119, United States</td>\n",
              "      <td>Queen Anne</td>\n",
              "      <td>West Queen Anne</td>\n",
              "      <td>Queen Anne</td>\n",
              "      <td>Seattle</td>\n",
              "      <td>WA</td>\n",
              "      <td>98119</td>\n",
              "      <td>Seattle</td>\n",
              "      <td>Seattle, WA</td>\n",
              "      <td>US</td>\n",
              "      <td>United States</td>\n",
              "      <td>47.636289</td>\n",
              "      <td>-122.371025</td>\n",
              "      <td>t</td>\n",
              "      <td>Apartment</td>\n",
              "      <td>Entire home/apt</td>\n",
              "      <td>4</td>\n",
              "      <td>1.0</td>\n",
              "      <td>1.0</td>\n",
              "      <td>1.0</td>\n",
              "      <td>Real Bed</td>\n",
              "      <td>{TV,\"Cable TV\",Internet,\"Wireless Internet\",\"A...</td>\n",
              "      <td>NaN</td>\n",
              "      <td>$85.00</td>\n",
              "      <td>NaN</td>\n",
              "      <td>NaN</td>\n",
              "      <td>NaN</td>\n",
              "      <td>NaN</td>\n",
              "      <td>2</td>\n",
              "      <td>$5.00</td>\n",
              "      <td>1</td>\n",
              "      <td>365</td>\n",
              "      <td>4 weeks ago</td>\n",
              "      <td>t</td>\n",
              "      <td>14</td>\n",
              "      <td>41</td>\n",
              "      <td>71</td>\n",
              "      <td>346</td>\n",
              "      <td>2016-01-04</td>\n",
              "      <td>207</td>\n",
              "      <td>2011-11-01</td>\n",
              "      <td>2016-01-02</td>\n",
              "      <td>95.0</td>\n",
              "      <td>10.0</td>\n",
              "      <td>10.0</td>\n",
              "      <td>10.0</td>\n",
              "      <td>10.0</td>\n",
              "      <td>9.0</td>\n",
              "      <td>10.0</td>\n",
              "      <td>f</td>\n",
              "      <td>NaN</td>\n",
              "      <td>WASHINGTON</td>\n",
              "      <td>f</td>\n",
              "      <td>moderate</td>\n",
              "      <td>f</td>\n",
              "      <td>f</td>\n",
              "      <td>2</td>\n",
              "      <td>4.07</td>\n",
              "    </tr>\n",
              "    <tr>\n",
              "      <th>1</th>\n",
              "      <td>953595</td>\n",
              "      <td>https://www.airbnb.com/rooms/953595</td>\n",
              "      <td>20160104002432</td>\n",
              "      <td>2016-01-04</td>\n",
              "      <td>Bright &amp; Airy Queen Anne Apartment</td>\n",
              "      <td>Chemically sensitive? We've removed the irrita...</td>\n",
              "      <td>Beautiful, hypoallergenic apartment in an extr...</td>\n",
              "      <td>Chemically sensitive? We've removed the irrita...</td>\n",
              "      <td>none</td>\n",
              "      <td>Queen Anne is a wonderful, truly functional vi...</td>\n",
              "      <td>What's up with the free pillows?  Our home was...</td>\n",
              "      <td>Convenient bus stops are just down the block, ...</td>\n",
              "      <td>https://a0.muscache.com/ac/pictures/14409893/f...</td>\n",
              "      <td>https://a0.muscache.com/im/pictures/14409893/f...</td>\n",
              "      <td>https://a0.muscache.com/ac/pictures/14409893/f...</td>\n",
              "      <td>https://a0.muscache.com/ac/pictures/14409893/f...</td>\n",
              "      <td>5177328</td>\n",
              "      <td>https://www.airbnb.com/users/show/5177328</td>\n",
              "      <td>Andrea</td>\n",
              "      <td>2013-02-21</td>\n",
              "      <td>Seattle, Washington, United States</td>\n",
              "      <td>Living east coast/left coast/overseas.  Time i...</td>\n",
              "      <td>within an hour</td>\n",
              "      <td>98%</td>\n",
              "      <td>100%</td>\n",
              "      <td>t</td>\n",
              "      <td>https://a0.muscache.com/ac/users/5177328/profi...</td>\n",
              "      <td>https://a0.muscache.com/ac/users/5177328/profi...</td>\n",
              "      <td>Queen Anne</td>\n",
              "      <td>6.0</td>\n",
              "      <td>6.0</td>\n",
              "      <td>['email', 'phone', 'facebook', 'linkedin', 're...</td>\n",
              "      <td>t</td>\n",
              "      <td>t</td>\n",
              "      <td>7th Avenue West, Seattle, WA 98119, United States</td>\n",
              "      <td>Queen Anne</td>\n",
              "      <td>West Queen Anne</td>\n",
              "      <td>Queen Anne</td>\n",
              "      <td>Seattle</td>\n",
              "      <td>WA</td>\n",
              "      <td>98119</td>\n",
              "      <td>Seattle</td>\n",
              "      <td>Seattle, WA</td>\n",
              "      <td>US</td>\n",
              "      <td>United States</td>\n",
              "      <td>47.639123</td>\n",
              "      <td>-122.365666</td>\n",
              "      <td>t</td>\n",
              "      <td>Apartment</td>\n",
              "      <td>Entire home/apt</td>\n",
              "      <td>4</td>\n",
              "      <td>1.0</td>\n",
              "      <td>1.0</td>\n",
              "      <td>1.0</td>\n",
              "      <td>Real Bed</td>\n",
              "      <td>{TV,Internet,\"Wireless Internet\",Kitchen,\"Free...</td>\n",
              "      <td>NaN</td>\n",
              "      <td>$150.00</td>\n",
              "      <td>$1,000.00</td>\n",
              "      <td>$3,000.00</td>\n",
              "      <td>$100.00</td>\n",
              "      <td>$40.00</td>\n",
              "      <td>1</td>\n",
              "      <td>$0.00</td>\n",
              "      <td>2</td>\n",
              "      <td>90</td>\n",
              "      <td>today</td>\n",
              "      <td>t</td>\n",
              "      <td>13</td>\n",
              "      <td>13</td>\n",
              "      <td>16</td>\n",
              "      <td>291</td>\n",
              "      <td>2016-01-04</td>\n",
              "      <td>43</td>\n",
              "      <td>2013-08-19</td>\n",
              "      <td>2015-12-29</td>\n",
              "      <td>96.0</td>\n",
              "      <td>10.0</td>\n",
              "      <td>10.0</td>\n",
              "      <td>10.0</td>\n",
              "      <td>10.0</td>\n",
              "      <td>10.0</td>\n",
              "      <td>10.0</td>\n",
              "      <td>f</td>\n",
              "      <td>NaN</td>\n",
              "      <td>WASHINGTON</td>\n",
              "      <td>f</td>\n",
              "      <td>strict</td>\n",
              "      <td>t</td>\n",
              "      <td>t</td>\n",
              "      <td>6</td>\n",
              "      <td>1.48</td>\n",
              "    </tr>\n",
              "  </tbody>\n",
              "</table>\n",
              "</div>\n",
              "      <button class=\"colab-df-convert\" onclick=\"convertToInteractive('df-e57aaac9-08e6-4a25-8bf4-9bb785f5e7ea')\"\n",
              "              title=\"Convert this dataframe to an interactive table.\"\n",
              "              style=\"display:none;\">\n",
              "        \n",
              "  <svg xmlns=\"http://www.w3.org/2000/svg\" height=\"24px\"viewBox=\"0 0 24 24\"\n",
              "       width=\"24px\">\n",
              "    <path d=\"M0 0h24v24H0V0z\" fill=\"none\"/>\n",
              "    <path d=\"M18.56 5.44l.94 2.06.94-2.06 2.06-.94-2.06-.94-.94-2.06-.94 2.06-2.06.94zm-11 1L8.5 8.5l.94-2.06 2.06-.94-2.06-.94L8.5 2.5l-.94 2.06-2.06.94zm10 10l.94 2.06.94-2.06 2.06-.94-2.06-.94-.94-2.06-.94 2.06-2.06.94z\"/><path d=\"M17.41 7.96l-1.37-1.37c-.4-.4-.92-.59-1.43-.59-.52 0-1.04.2-1.43.59L10.3 9.45l-7.72 7.72c-.78.78-.78 2.05 0 2.83L4 21.41c.39.39.9.59 1.41.59.51 0 1.02-.2 1.41-.59l7.78-7.78 2.81-2.81c.8-.78.8-2.07 0-2.86zM5.41 20L4 18.59l7.72-7.72 1.47 1.35L5.41 20z\"/>\n",
              "  </svg>\n",
              "      </button>\n",
              "      \n",
              "  <style>\n",
              "    .colab-df-container {\n",
              "      display:flex;\n",
              "      flex-wrap:wrap;\n",
              "      gap: 12px;\n",
              "    }\n",
              "\n",
              "    .colab-df-convert {\n",
              "      background-color: #E8F0FE;\n",
              "      border: none;\n",
              "      border-radius: 50%;\n",
              "      cursor: pointer;\n",
              "      display: none;\n",
              "      fill: #1967D2;\n",
              "      height: 32px;\n",
              "      padding: 0 0 0 0;\n",
              "      width: 32px;\n",
              "    }\n",
              "\n",
              "    .colab-df-convert:hover {\n",
              "      background-color: #E2EBFA;\n",
              "      box-shadow: 0px 1px 2px rgba(60, 64, 67, 0.3), 0px 1px 3px 1px rgba(60, 64, 67, 0.15);\n",
              "      fill: #174EA6;\n",
              "    }\n",
              "\n",
              "    [theme=dark] .colab-df-convert {\n",
              "      background-color: #3B4455;\n",
              "      fill: #D2E3FC;\n",
              "    }\n",
              "\n",
              "    [theme=dark] .colab-df-convert:hover {\n",
              "      background-color: #434B5C;\n",
              "      box-shadow: 0px 1px 3px 1px rgba(0, 0, 0, 0.15);\n",
              "      filter: drop-shadow(0px 1px 2px rgba(0, 0, 0, 0.3));\n",
              "      fill: #FFFFFF;\n",
              "    }\n",
              "  </style>\n",
              "\n",
              "      <script>\n",
              "        const buttonEl =\n",
              "          document.querySelector('#df-e57aaac9-08e6-4a25-8bf4-9bb785f5e7ea button.colab-df-convert');\n",
              "        buttonEl.style.display =\n",
              "          google.colab.kernel.accessAllowed ? 'block' : 'none';\n",
              "\n",
              "        async function convertToInteractive(key) {\n",
              "          const element = document.querySelector('#df-e57aaac9-08e6-4a25-8bf4-9bb785f5e7ea');\n",
              "          const dataTable =\n",
              "            await google.colab.kernel.invokeFunction('convertToInteractive',\n",
              "                                                     [key], {});\n",
              "          if (!dataTable) return;\n",
              "\n",
              "          const docLinkHtml = 'Like what you see? Visit the ' +\n",
              "            '<a target=\"_blank\" href=https://colab.research.google.com/notebooks/data_table.ipynb>data table notebook</a>'\n",
              "            + ' to learn more about interactive tables.';\n",
              "          element.innerHTML = '';\n",
              "          dataTable['output_type'] = 'display_data';\n",
              "          await google.colab.output.renderOutput(dataTable, element);\n",
              "          const docLink = document.createElement('div');\n",
              "          docLink.innerHTML = docLinkHtml;\n",
              "          element.appendChild(docLink);\n",
              "        }\n",
              "      </script>\n",
              "    </div>\n",
              "  </div>\n",
              "  "
            ]
          },
          "metadata": {},
          "execution_count": 14
        }
      ]
    },
    {
      "cell_type": "code",
      "source": [
        "# Dataset contains 3818 unique listings and 92 columns\n",
        "df.shape"
      ],
      "metadata": {
        "colab": {
          "base_uri": "https://localhost:8080/"
        },
        "id": "jbFPIo0kl6FL",
        "outputId": "340bf940-62f3-4dcd-d9f9-3e6631ddeac6"
      },
      "execution_count": null,
      "outputs": [
        {
          "output_type": "execute_result",
          "data": {
            "text/plain": [
              "(3818, 92)"
            ]
          },
          "metadata": {},
          "execution_count": 15
        }
      ]
    },
    {
      "cell_type": "markdown",
      "source": [
        "## Pre-processing Data"
      ],
      "metadata": {
        "id": "qJg5F3I1PA5q"
      }
    },
    {
      "cell_type": "markdown",
      "source": [
        "A lot of columns in the data does not provide much information about the booking rate of the listings. Instead of dropping bunch of columns I will be using only the columns I need for modeling. \n",
        "\n",
        "The data pre-processing will be broken into two parts:\n",
        "\n",
        "1) Natural language processing will be applied to columns describing the listings.\n",
        "\n",
        "2) Cleaning and preparing categorical and numerical columns.\n"
      ],
      "metadata": {
        "id": "3dQ05pzyNc5h"
      }
    },
    {
      "cell_type": "code",
      "source": [
        "df = pd.read_csv('Data/listings.csv', usecols = ['id', 'name', 'summary', 'space', 'description', 'neighborhood_overview','notes','transit', 'price', 'extra_people', \n",
        "                                                 'security_deposit', 'cleaning_fee','maximum_nights', 'minimum_nights', 'number_of_reviews', 'cancellation_policy',\n",
        "                                                 'review_scores_rating', 'review_scores_cleanliness', 'guests_included', 'bed_type', 'beds', 'bathrooms', \n",
        "                                                 'host_is_superhost', 'host_response_time', 'bedrooms', 'accommodates', 'room_type', 'property_type', 'neighbourhood_group_cleansed'])"
      ],
      "metadata": {
        "id": "bFjPYVZxPJZs"
      },
      "execution_count": null,
      "outputs": []
    },
    {
      "cell_type": "code",
      "source": [
        "# Getting average yearly booking rate for each listing and merging it with the listing data \n",
        "booking_rate = calendar[['listing_id', 'booked']].groupby('listing_id').mean()\n",
        "df = pd.merge(left = df, right = booking_rate, left_on = 'id', right_index = True)\n",
        "\n",
        "#Renaming column name\n",
        "df.rename(columns ={'booked': 'booking_rate'}, inplace = True)\n",
        "df.head(2)"
      ],
      "metadata": {
        "colab": {
          "base_uri": "https://localhost:8080/",
          "height": 350
        },
        "id": "p8zpzZAF1ZfM",
        "outputId": "e35a7e27-f8c4-4c9d-968e-a75e2209d48d"
      },
      "execution_count": null,
      "outputs": [
        {
          "output_type": "execute_result",
          "data": {
            "text/plain": [
              "       id                                name  \\\n",
              "0  241032        Stylish Queen Anne Apartment   \n",
              "1  953595  Bright & Airy Queen Anne Apartment   \n",
              "\n",
              "                                             summary  \\\n",
              "0                                                NaN   \n",
              "1  Chemically sensitive? We've removed the irrita...   \n",
              "\n",
              "                                               space  \\\n",
              "0  Make your self at home in this charming one-be...   \n",
              "1  Beautiful, hypoallergenic apartment in an extr...   \n",
              "\n",
              "                                         description  \\\n",
              "0  Make your self at home in this charming one-be...   \n",
              "1  Chemically sensitive? We've removed the irrita...   \n",
              "\n",
              "                               neighborhood_overview  \\\n",
              "0                                                NaN   \n",
              "1  Queen Anne is a wonderful, truly functional vi...   \n",
              "\n",
              "                                               notes  \\\n",
              "0                                                NaN   \n",
              "1  What's up with the free pillows?  Our home was...   \n",
              "\n",
              "                                             transit  host_response_time  \\\n",
              "0                                                NaN  within a few hours   \n",
              "1  Convenient bus stops are just down the block, ...      within an hour   \n",
              "\n",
              "  host_is_superhost neighbourhood_group_cleansed property_type  \\\n",
              "0                 f                   Queen Anne     Apartment   \n",
              "1                 t                   Queen Anne     Apartment   \n",
              "\n",
              "         room_type  accommodates  bathrooms  bedrooms  beds  bed_type  \\\n",
              "0  Entire home/apt             4        1.0       1.0   1.0  Real Bed   \n",
              "1  Entire home/apt             4        1.0       1.0   1.0  Real Bed   \n",
              "\n",
              "     price security_deposit cleaning_fee  guests_included extra_people  \\\n",
              "0   $85.00              NaN          NaN                2        $5.00   \n",
              "1  $150.00          $100.00       $40.00                1        $0.00   \n",
              "\n",
              "   minimum_nights  maximum_nights  number_of_reviews  review_scores_rating  \\\n",
              "0               1             365                207                  95.0   \n",
              "1               2              90                 43                  96.0   \n",
              "\n",
              "   review_scores_cleanliness cancellation_policy  booking_rate  \n",
              "0                       10.0            moderate      0.052055  \n",
              "1                       10.0              strict      0.202740  "
            ],
            "text/html": [
              "\n",
              "  <div id=\"df-1bdb8fdd-07d7-4cd6-8ad0-7af3575accbb\">\n",
              "    <div class=\"colab-df-container\">\n",
              "      <div>\n",
              "<style scoped>\n",
              "    .dataframe tbody tr th:only-of-type {\n",
              "        vertical-align: middle;\n",
              "    }\n",
              "\n",
              "    .dataframe tbody tr th {\n",
              "        vertical-align: top;\n",
              "    }\n",
              "\n",
              "    .dataframe thead th {\n",
              "        text-align: right;\n",
              "    }\n",
              "</style>\n",
              "<table border=\"1\" class=\"dataframe\">\n",
              "  <thead>\n",
              "    <tr style=\"text-align: right;\">\n",
              "      <th></th>\n",
              "      <th>id</th>\n",
              "      <th>name</th>\n",
              "      <th>summary</th>\n",
              "      <th>space</th>\n",
              "      <th>description</th>\n",
              "      <th>neighborhood_overview</th>\n",
              "      <th>notes</th>\n",
              "      <th>transit</th>\n",
              "      <th>host_response_time</th>\n",
              "      <th>host_is_superhost</th>\n",
              "      <th>neighbourhood_group_cleansed</th>\n",
              "      <th>property_type</th>\n",
              "      <th>room_type</th>\n",
              "      <th>accommodates</th>\n",
              "      <th>bathrooms</th>\n",
              "      <th>bedrooms</th>\n",
              "      <th>beds</th>\n",
              "      <th>bed_type</th>\n",
              "      <th>price</th>\n",
              "      <th>security_deposit</th>\n",
              "      <th>cleaning_fee</th>\n",
              "      <th>guests_included</th>\n",
              "      <th>extra_people</th>\n",
              "      <th>minimum_nights</th>\n",
              "      <th>maximum_nights</th>\n",
              "      <th>number_of_reviews</th>\n",
              "      <th>review_scores_rating</th>\n",
              "      <th>review_scores_cleanliness</th>\n",
              "      <th>cancellation_policy</th>\n",
              "      <th>booking_rate</th>\n",
              "    </tr>\n",
              "  </thead>\n",
              "  <tbody>\n",
              "    <tr>\n",
              "      <th>0</th>\n",
              "      <td>241032</td>\n",
              "      <td>Stylish Queen Anne Apartment</td>\n",
              "      <td>NaN</td>\n",
              "      <td>Make your self at home in this charming one-be...</td>\n",
              "      <td>Make your self at home in this charming one-be...</td>\n",
              "      <td>NaN</td>\n",
              "      <td>NaN</td>\n",
              "      <td>NaN</td>\n",
              "      <td>within a few hours</td>\n",
              "      <td>f</td>\n",
              "      <td>Queen Anne</td>\n",
              "      <td>Apartment</td>\n",
              "      <td>Entire home/apt</td>\n",
              "      <td>4</td>\n",
              "      <td>1.0</td>\n",
              "      <td>1.0</td>\n",
              "      <td>1.0</td>\n",
              "      <td>Real Bed</td>\n",
              "      <td>$85.00</td>\n",
              "      <td>NaN</td>\n",
              "      <td>NaN</td>\n",
              "      <td>2</td>\n",
              "      <td>$5.00</td>\n",
              "      <td>1</td>\n",
              "      <td>365</td>\n",
              "      <td>207</td>\n",
              "      <td>95.0</td>\n",
              "      <td>10.0</td>\n",
              "      <td>moderate</td>\n",
              "      <td>0.052055</td>\n",
              "    </tr>\n",
              "    <tr>\n",
              "      <th>1</th>\n",
              "      <td>953595</td>\n",
              "      <td>Bright &amp; Airy Queen Anne Apartment</td>\n",
              "      <td>Chemically sensitive? We've removed the irrita...</td>\n",
              "      <td>Beautiful, hypoallergenic apartment in an extr...</td>\n",
              "      <td>Chemically sensitive? We've removed the irrita...</td>\n",
              "      <td>Queen Anne is a wonderful, truly functional vi...</td>\n",
              "      <td>What's up with the free pillows?  Our home was...</td>\n",
              "      <td>Convenient bus stops are just down the block, ...</td>\n",
              "      <td>within an hour</td>\n",
              "      <td>t</td>\n",
              "      <td>Queen Anne</td>\n",
              "      <td>Apartment</td>\n",
              "      <td>Entire home/apt</td>\n",
              "      <td>4</td>\n",
              "      <td>1.0</td>\n",
              "      <td>1.0</td>\n",
              "      <td>1.0</td>\n",
              "      <td>Real Bed</td>\n",
              "      <td>$150.00</td>\n",
              "      <td>$100.00</td>\n",
              "      <td>$40.00</td>\n",
              "      <td>1</td>\n",
              "      <td>$0.00</td>\n",
              "      <td>2</td>\n",
              "      <td>90</td>\n",
              "      <td>43</td>\n",
              "      <td>96.0</td>\n",
              "      <td>10.0</td>\n",
              "      <td>strict</td>\n",
              "      <td>0.202740</td>\n",
              "    </tr>\n",
              "  </tbody>\n",
              "</table>\n",
              "</div>\n",
              "      <button class=\"colab-df-convert\" onclick=\"convertToInteractive('df-1bdb8fdd-07d7-4cd6-8ad0-7af3575accbb')\"\n",
              "              title=\"Convert this dataframe to an interactive table.\"\n",
              "              style=\"display:none;\">\n",
              "        \n",
              "  <svg xmlns=\"http://www.w3.org/2000/svg\" height=\"24px\"viewBox=\"0 0 24 24\"\n",
              "       width=\"24px\">\n",
              "    <path d=\"M0 0h24v24H0V0z\" fill=\"none\"/>\n",
              "    <path d=\"M18.56 5.44l.94 2.06.94-2.06 2.06-.94-2.06-.94-.94-2.06-.94 2.06-2.06.94zm-11 1L8.5 8.5l.94-2.06 2.06-.94-2.06-.94L8.5 2.5l-.94 2.06-2.06.94zm10 10l.94 2.06.94-2.06 2.06-.94-2.06-.94-.94-2.06-.94 2.06-2.06.94z\"/><path d=\"M17.41 7.96l-1.37-1.37c-.4-.4-.92-.59-1.43-.59-.52 0-1.04.2-1.43.59L10.3 9.45l-7.72 7.72c-.78.78-.78 2.05 0 2.83L4 21.41c.39.39.9.59 1.41.59.51 0 1.02-.2 1.41-.59l7.78-7.78 2.81-2.81c.8-.78.8-2.07 0-2.86zM5.41 20L4 18.59l7.72-7.72 1.47 1.35L5.41 20z\"/>\n",
              "  </svg>\n",
              "      </button>\n",
              "      \n",
              "  <style>\n",
              "    .colab-df-container {\n",
              "      display:flex;\n",
              "      flex-wrap:wrap;\n",
              "      gap: 12px;\n",
              "    }\n",
              "\n",
              "    .colab-df-convert {\n",
              "      background-color: #E8F0FE;\n",
              "      border: none;\n",
              "      border-radius: 50%;\n",
              "      cursor: pointer;\n",
              "      display: none;\n",
              "      fill: #1967D2;\n",
              "      height: 32px;\n",
              "      padding: 0 0 0 0;\n",
              "      width: 32px;\n",
              "    }\n",
              "\n",
              "    .colab-df-convert:hover {\n",
              "      background-color: #E2EBFA;\n",
              "      box-shadow: 0px 1px 2px rgba(60, 64, 67, 0.3), 0px 1px 3px 1px rgba(60, 64, 67, 0.15);\n",
              "      fill: #174EA6;\n",
              "    }\n",
              "\n",
              "    [theme=dark] .colab-df-convert {\n",
              "      background-color: #3B4455;\n",
              "      fill: #D2E3FC;\n",
              "    }\n",
              "\n",
              "    [theme=dark] .colab-df-convert:hover {\n",
              "      background-color: #434B5C;\n",
              "      box-shadow: 0px 1px 3px 1px rgba(0, 0, 0, 0.15);\n",
              "      filter: drop-shadow(0px 1px 2px rgba(0, 0, 0, 0.3));\n",
              "      fill: #FFFFFF;\n",
              "    }\n",
              "  </style>\n",
              "\n",
              "      <script>\n",
              "        const buttonEl =\n",
              "          document.querySelector('#df-1bdb8fdd-07d7-4cd6-8ad0-7af3575accbb button.colab-df-convert');\n",
              "        buttonEl.style.display =\n",
              "          google.colab.kernel.accessAllowed ? 'block' : 'none';\n",
              "\n",
              "        async function convertToInteractive(key) {\n",
              "          const element = document.querySelector('#df-1bdb8fdd-07d7-4cd6-8ad0-7af3575accbb');\n",
              "          const dataTable =\n",
              "            await google.colab.kernel.invokeFunction('convertToInteractive',\n",
              "                                                     [key], {});\n",
              "          if (!dataTable) return;\n",
              "\n",
              "          const docLinkHtml = 'Like what you see? Visit the ' +\n",
              "            '<a target=\"_blank\" href=https://colab.research.google.com/notebooks/data_table.ipynb>data table notebook</a>'\n",
              "            + ' to learn more about interactive tables.';\n",
              "          element.innerHTML = '';\n",
              "          dataTable['output_type'] = 'display_data';\n",
              "          await google.colab.output.renderOutput(dataTable, element);\n",
              "          const docLink = document.createElement('div');\n",
              "          docLink.innerHTML = docLinkHtml;\n",
              "          element.appendChild(docLink);\n",
              "        }\n",
              "      </script>\n",
              "    </div>\n",
              "  </div>\n",
              "  "
            ]
          },
          "metadata": {},
          "execution_count": 17
        }
      ]
    },
    {
      "cell_type": "code",
      "source": [
        "# 30 columns will be used for modeling.\n",
        "df.shape"
      ],
      "metadata": {
        "colab": {
          "base_uri": "https://localhost:8080/"
        },
        "id": "pijYrq8USidG",
        "outputId": "1a10f802-5953-4898-fb16-c3243736e0e2"
      },
      "execution_count": null,
      "outputs": [
        {
          "output_type": "execute_result",
          "data": {
            "text/plain": [
              "(3818, 30)"
            ]
          },
          "metadata": {},
          "execution_count": 18
        }
      ]
    },
    {
      "cell_type": "code",
      "source": [
        "df.info()"
      ],
      "metadata": {
        "colab": {
          "base_uri": "https://localhost:8080/"
        },
        "id": "_OoFQYA_TQAo",
        "outputId": "e2c21b50-f155-4c14-f317-f1839e1f2451"
      },
      "execution_count": null,
      "outputs": [
        {
          "output_type": "stream",
          "name": "stdout",
          "text": [
            "<class 'pandas.core.frame.DataFrame'>\n",
            "Int64Index: 3818 entries, 0 to 3817\n",
            "Data columns (total 30 columns):\n",
            " #   Column                        Non-Null Count  Dtype  \n",
            "---  ------                        --------------  -----  \n",
            " 0   id                            3818 non-null   int64  \n",
            " 1   name                          3818 non-null   object \n",
            " 2   summary                       3641 non-null   object \n",
            " 3   space                         3249 non-null   object \n",
            " 4   description                   3818 non-null   object \n",
            " 5   neighborhood_overview         2786 non-null   object \n",
            " 6   notes                         2212 non-null   object \n",
            " 7   transit                       2884 non-null   object \n",
            " 8   host_response_time            3295 non-null   object \n",
            " 9   host_is_superhost             3816 non-null   object \n",
            " 10  neighbourhood_group_cleansed  3818 non-null   object \n",
            " 11  property_type                 3817 non-null   object \n",
            " 12  room_type                     3818 non-null   object \n",
            " 13  accommodates                  3818 non-null   int64  \n",
            " 14  bathrooms                     3802 non-null   float64\n",
            " 15  bedrooms                      3812 non-null   float64\n",
            " 16  beds                          3817 non-null   float64\n",
            " 17  bed_type                      3818 non-null   object \n",
            " 18  price                         3818 non-null   object \n",
            " 19  security_deposit              1866 non-null   object \n",
            " 20  cleaning_fee                  2788 non-null   object \n",
            " 21  guests_included               3818 non-null   int64  \n",
            " 22  extra_people                  3818 non-null   object \n",
            " 23  minimum_nights                3818 non-null   int64  \n",
            " 24  maximum_nights                3818 non-null   int64  \n",
            " 25  number_of_reviews             3818 non-null   int64  \n",
            " 26  review_scores_rating          3171 non-null   float64\n",
            " 27  review_scores_cleanliness     3165 non-null   float64\n",
            " 28  cancellation_policy           3818 non-null   object \n",
            " 29  booking_rate                  3818 non-null   float64\n",
            "dtypes: float64(6), int64(6), object(18)\n",
            "memory usage: 924.7+ KB\n"
          ]
        }
      ]
    },
    {
      "cell_type": "code",
      "source": [
        "df.isna().sum()"
      ],
      "metadata": {
        "colab": {
          "base_uri": "https://localhost:8080/"
        },
        "id": "Mkups8xzSfKf",
        "outputId": "85b4a924-4d8a-440f-ae9e-e2e6da30371b"
      },
      "execution_count": null,
      "outputs": [
        {
          "output_type": "execute_result",
          "data": {
            "text/plain": [
              "id                                 0\n",
              "name                               0\n",
              "summary                          177\n",
              "space                            569\n",
              "description                        0\n",
              "neighborhood_overview           1032\n",
              "notes                           1606\n",
              "transit                          934\n",
              "host_response_time               523\n",
              "host_is_superhost                  2\n",
              "neighbourhood_group_cleansed       0\n",
              "property_type                      1\n",
              "room_type                          0\n",
              "accommodates                       0\n",
              "bathrooms                         16\n",
              "bedrooms                           6\n",
              "beds                               1\n",
              "bed_type                           0\n",
              "price                              0\n",
              "security_deposit                1952\n",
              "cleaning_fee                    1030\n",
              "guests_included                    0\n",
              "extra_people                       0\n",
              "minimum_nights                     0\n",
              "maximum_nights                     0\n",
              "number_of_reviews                  0\n",
              "review_scores_rating             647\n",
              "review_scores_cleanliness        653\n",
              "cancellation_policy                0\n",
              "booking_rate                       0\n",
              "dtype: int64"
            ]
          },
          "metadata": {},
          "execution_count": 20
        }
      ]
    },
    {
      "cell_type": "markdown",
      "source": [
        "1) Natural Language Processing for Text Columns"
      ],
      "metadata": {
        "id": "1SQix1C0S89r"
      }
    },
    {
      "cell_type": "code",
      "source": [
        "# Fill missing values with empty strings. When we combine the rows as one row for each listing, null values will have no effect. \n",
        "df['summary'] = df['summary'].fillna('')\n",
        "df['space'] = df['space'].fillna('')\n",
        "df['neighborhood_overview'] = df['neighborhood_overview'].fillna('')\n",
        "df['notes'] = df['notes'].fillna('')\n",
        "df['transit'] = df['transit'].fillna('')"
      ],
      "metadata": {
        "id": "RLzpygBCS8Yn"
      },
      "execution_count": null,
      "outputs": []
    },
    {
      "cell_type": "code",
      "source": [
        "# Creating a new column that combines all the columns with descriptions of the listings\n",
        "df['content'] = df['name'] + ' ' + df['summary'] + ' ' + df['space'] + ' ' + df['description'] + ' ' + df['neighborhood_overview'] + ' ' + df['notes'] + ' ' + df['transit']\n",
        "df['content'].head()"
      ],
      "metadata": {
        "colab": {
          "base_uri": "https://localhost:8080/"
        },
        "id": "tGdRNBIrTiVC",
        "outputId": "752dae59-2c0d-422d-9ab3-43f6a7adb8a2"
      },
      "execution_count": null,
      "outputs": [
        {
          "output_type": "execute_result",
          "data": {
            "text/plain": [
              "0    Stylish Queen Anne Apartment  Make your self a...\n",
              "1    Bright & Airy Queen Anne Apartment Chemically ...\n",
              "2    New Modern House-Amazing water view New modern...\n",
              "3    Queen Anne Chateau A charming apartment that s...\n",
              "4    Charming craftsman 3 bdm house Cozy family cra...\n",
              "Name: content, dtype: object"
            ]
          },
          "metadata": {},
          "execution_count": 22
        }
      ]
    },
    {
      "cell_type": "code",
      "source": [
        "df['content'][0]"
      ],
      "metadata": {
        "colab": {
          "base_uri": "https://localhost:8080/",
          "height": 140
        },
        "id": "OrmMT98WuKXm",
        "outputId": "aaba619f-e9a8-4791-8324-98d1a168ae80"
      },
      "execution_count": null,
      "outputs": [
        {
          "output_type": "execute_result",
          "data": {
            "text/plain": [
              "\"Stylish Queen Anne Apartment  Make your self at home in this charming one-bedroom apartment, centrally-located on the west side of Queen Anne hill.   This elegantly-decorated, completely private apartment (bottom unit of a duplex) has an open floor plan, bamboo floors, a fully equipped kitchen, a TV,  DVD player, basic cable, and a very cozy bedroom with a queen-size bed. The unit sleeps up to four (two in the bedroom and two on the very comfortable fold out couch, linens included) and includes free WiFi and laundry. The apartment opens onto a private deck, complete with it's own BBQ, overlooking a garden and a forest of black bamboo.    The Apartment is perfectly-located just one block from the bus lines where you can catch a bus and be downtown Seattle in fifteen minutes or historic Ballard in ten or a quick five-minute walk will bring you to Whole Foods and Peet's Coffee or take a fifteen minute walk to the top of Queen Anne Hill where you will find a variety of eclectic shops, bars, and restaurants. There is no Make your self at home in this charming one-bedroom apartment, centrally-located on the west side of Queen Anne hill.   This elegantly-decorated, completely private apartment (bottom unit of a duplex) has an open floor plan, bamboo floors, a fully equipped kitchen, a TV,  DVD player, basic cable, and a very cozy bedroom with a queen-size bed. The unit sleeps up to four (two in the bedroom and two on the very comfortable fold out couch, linens included) and includes free WiFi and laundry. The apartment opens onto a private deck, complete with it's own BBQ, overlooking a garden and a forest of black bamboo.    The Apartment is perfectly-located just one block from the bus lines where you can catch a bus and be downtown Seattle in fifteen minutes or historic Ballard in ten or a quick five-minute walk will bring you to Whole Foods and Peet's Coffee or take a fifteen minute walk to the top of Queen Anne Hill where you will find a variety of eclectic shops, bars, and restaurants. There is no   \""
            ],
            "application/vnd.google.colaboratory.intrinsic+json": {
              "type": "string"
            }
          },
          "metadata": {},
          "execution_count": 23
        }
      ]
    },
    {
      "cell_type": "code",
      "source": [
        "# Distribution plot that shows the lentgth of each descriptions \n",
        "df_content = df['content'].apply(len)\n",
        "df_content\n",
        "\n",
        "sns.set_theme(style='darkgrid')\n",
        "#sns.set_color_codes('pastel')\n",
        "plt.figure(figsize=(15, 8))\n",
        "\n",
        "sns.distplot(df_content, kde=True, bins=50, color='navy')\n",
        "\n",
        "plt.title('\\nDistribution Plot for Length of Descriptions\\n', fontsize=15)\n",
        "plt.xlabel('\\nDescription Length', fontsize=15)\n",
        "plt.ylabel('Percentage of Descriptions\\n', fontsize=15);"
      ],
      "metadata": {
        "colab": {
          "base_uri": "https://localhost:8080/",
          "height": 574
        },
        "id": "m_qkGwI6T1JI",
        "outputId": "ac184f32-98a8-4d15-91e6-684ac3932407"
      },
      "execution_count": null,
      "outputs": [
        {
          "output_type": "display_data",
          "data": {
            "text/plain": [
              "<Figure size 1080x576 with 1 Axes>"
            ],
            "image/png": "[encoded data removed]"
          },
          "metadata": {}
        }
      ]
    },
    {
      "cell_type": "code",
      "source": [
        "! pip install contractions"
      ],
      "metadata": {
        "colab": {
          "base_uri": "https://localhost:8080/"
        },
        "id": "BgVflL9mUao-",
        "outputId": "a00dce05-472a-497b-9c99-039e53aa4071"
      },
      "execution_count": null,
      "outputs": [
        {
          "output_type": "stream",
          "name": "stdout",
          "text": [
            "Requirement already satisfied: contractions in /usr/local/lib/python3.7/dist-packages (0.1.68)\n",
            "Requirement already satisfied: textsearch>=0.0.21 in /usr/local/lib/python3.7/dist-packages (from contractions) (0.0.21)\n",
            "Requirement already satisfied: anyascii in /usr/local/lib/python3.7/dist-packages (from textsearch>=0.0.21->contractions) (0.3.0)\n",
            "Requirement already satisfied: pyahocorasick in /usr/local/lib/python3.7/dist-packages (from textsearch>=0.0.21->contractions) (1.4.4)\n"
          ]
        }
      ]
    },
    {
      "cell_type": "code",
      "source": [
        "# Contractions are words or combinations of words that are shortened by dropping letters and replacing them by an apostrophe.\n",
        "# Removing contractions to standardize text \n",
        "\n",
        "import contractions\n",
        "expanded_words = []   \n",
        "for word in df['content']:\n",
        "# Using contractions.fix to expand the shortened words\n",
        "  expanded_words.append(contractions.fix(word))  \n",
        "   \n",
        "df['content'] = expanded_words"
      ],
      "metadata": {
        "id": "7UhS2-icURF2"
      },
      "execution_count": null,
      "outputs": []
    },
    {
      "cell_type": "code",
      "source": [
        "import nltk\n",
        "nltk.download('stopwords')\n",
        "nltk.download('wordnet')"
      ],
      "metadata": {
        "colab": {
          "base_uri": "https://localhost:8080/"
        },
        "id": "FQyMvgHyU48g",
        "outputId": "e089b550-178e-403d-9ae7-a01693d65b6e"
      },
      "execution_count": null,
      "outputs": [
        {
          "output_type": "stream",
          "name": "stdout",
          "text": [
            "[nltk_data] Downloading package stopwords to /root/nltk_data...\n",
            "[nltk_data]   Package stopwords is already up-to-date!\n",
            "[nltk_data] Downloading package wordnet to /root/nltk_data...\n",
            "[nltk_data]   Package wordnet is already up-to-date!\n"
          ]
        },
        {
          "output_type": "execute_result",
          "data": {
            "text/plain": [
              "True"
            ]
          },
          "metadata": {},
          "execution_count": 27
        }
      ]
    },
    {
      "cell_type": "code",
      "source": [
        "import re\n",
        "import string\n",
        "# Creating a function that will preprocess and standardize the text for NLP \n",
        "def preprocess(text):\n",
        "    ''' This function takes text to preprocess and standardize it for the purpose of NLP '''\n",
        " \n",
        "    # Lowercase the text \n",
        "    text = text.str.lower()\n",
        "    \n",
        "    # Remove punctuations using string module with regular expression\n",
        "    text = text.apply(lambda x: re.sub('[%s]' % re.escape(string.punctuation), ' ', x))\n",
        "\n",
        "    # Remove word and digits \n",
        "    #text = text.apply(lambda x: re.sub('W*dw*','', x))\n",
        "\n",
        "    # Split string by whitespace and remoce extra whitespaces \n",
        "    text = text.apply(lambda x: x.split())\n",
        "\n",
        "    # Remove stopwords \n",
        "    import nltk\n",
        "    stopwords = nltk.corpus.stopwords.words('english')\n",
        "    text = text.apply(lambda x: [word for word in x if word not in stopwords])\n",
        "\n",
        "    # Lemmatize text to group together words with the same root or lemma\n",
        "    from nltk.stem.wordnet import WordNetLemmatizer\n",
        "    lemmatizer = nltk.stem.WordNetLemmatizer()\n",
        "    text = text.apply(lambda x: [lemmatizer.lemmatize(word) for word in x])\n",
        "\n",
        "    text = text.apply(lambda x: ' '.join(x))\n",
        "\n",
        "    return text"
      ],
      "metadata": {
        "id": "M9nuq4Z3UkdE"
      },
      "execution_count": null,
      "outputs": []
    },
    {
      "cell_type": "code",
      "source": [
        "# Applying NLP preprocessing function to content column \n",
        "df['content'] = preprocess(df['content'])\n",
        "df['content'][0]"
      ],
      "metadata": {
        "colab": {
          "base_uri": "https://localhost:8080/",
          "height": 140
        },
        "id": "nyh2azI-UpiL",
        "outputId": "a2c8e659-e058-44ba-9ca0-6fed5e8ed66b"
      },
      "execution_count": null,
      "outputs": [
        {
          "output_type": "execute_result",
          "data": {
            "text/plain": [
              "'stylish queen anne apartment make self home charming one bedroom apartment centrally located west side queen anne hill elegantly decorated completely private apartment bottom unit duplex open floor plan bamboo floor fully equipped kitchen tv dvd player basic cable cozy bedroom queen size bed unit sleep four two bedroom two comfortable fold couch linen included includes free wifi laundry apartment open onto private deck complete bbq overlooking garden forest black bamboo apartment perfectly located one block bus line catch bus downtown seattle fifteen minute historic ballard ten quick five minute walk bring whole food peet coffee take fifteen minute walk top queen anne hill find variety eclectic shop bar restaurant make self home charming one bedroom apartment centrally located west side queen anne hill elegantly decorated completely private apartment bottom unit duplex open floor plan bamboo floor fully equipped kitchen tv dvd player basic cable cozy bedroom queen size bed unit sleep four two bedroom two comfortable fold couch linen included includes free wifi laundry apartment open onto private deck complete bbq overlooking garden forest black bamboo apartment perfectly located one block bus line catch bus downtown seattle fifteen minute historic ballard ten quick five minute walk bring whole food peet coffee take fifteen minute walk top queen anne hill find variety eclectic shop bar restaurant'"
            ],
            "application/vnd.google.colaboratory.intrinsic+json": {
              "type": "string"
            }
          },
          "metadata": {},
          "execution_count": 29
        }
      ]
    },
    {
      "cell_type": "code",
      "source": [
        "# Feature engineering: adding length of content to dataframe as it may have influence on booking rate\n",
        "df['content_len'] = df['content'].apply(len)"
      ],
      "metadata": {
        "id": "j6W-PjXE2adP"
      },
      "execution_count": null,
      "outputs": []
    },
    {
      "cell_type": "code",
      "source": [
        "# Dropping columns that are combined into content column\n",
        "df.drop(['name', 'summary', 'space', 'description', 'neighborhood_overview', 'notes', 'transit'], axis=1, inplace = True)"
      ],
      "metadata": {
        "id": "o4Eyi8T4vlHa"
      },
      "execution_count": null,
      "outputs": []
    },
    {
      "cell_type": "code",
      "source": [
        "# Distribution plot that shows the difference between length of original text versus pre-processed text\n",
        "sns.set_theme(style='darkgrid')\n",
        "#sns.set_color_codes('pastel')\n",
        "plt.figure(figsize=(18, 8))\n",
        "\n",
        "plt.hist(df_content, bins=50, color='navy', label='Original Text')\n",
        "plt.hist(df['content_len'], bins=50, color='pink', label='Pre-processed Text')\n",
        "plt.axvline(df_content.mean(), color='r', linestyle='dashed', linewidth=3, label='Orginal Mean')\n",
        "plt.axvline(df['content_len'].mean(), color='k', linestyle='dashed', linewidth=3, label='Pre-processed Mean')\n",
        "plt.legend()\n",
        "plt.title('Distribution of Original Description Length \\n vs Pre-processed', fontsize=15);"
      ],
      "metadata": {
        "colab": {
          "base_uri": "https://localhost:8080/",
          "height": 521
        },
        "id": "m09iN8hrbMK2",
        "outputId": "d1a21e7e-bf41-4723-f777-a4faa2a7382a"
      },
      "execution_count": null,
      "outputs": [
        {
          "output_type": "display_data",
          "data": {
            "text/plain": [
              "<Figure size 1296x576 with 1 Axes>"
            ],
            "image/png": "[encoded data removed]"
          },
          "metadata": {}
        }
      ]
    },
    {
      "cell_type": "markdown",
      "source": [
        "2.1) Preparing Categorical Columns"
      ],
      "metadata": {
        "id": "gqunwQRZTMSP"
      }
    },
    {
      "cell_type": "code",
      "source": [
        "df['host_response_time'].value_counts()"
      ],
      "metadata": {
        "colab": {
          "base_uri": "https://localhost:8080/"
        },
        "id": "gA59w-y_aI0k",
        "outputId": "e2fc2d55-040f-4b56-f2ff-c1fde6b78160"
      },
      "execution_count": null,
      "outputs": [
        {
          "output_type": "execute_result",
          "data": {
            "text/plain": [
              "within an hour        1692\n",
              "within a few hours     968\n",
              "within a day           597\n",
              "a few days or more      38\n",
              "Name: host_response_time, dtype: int64"
            ]
          },
          "metadata": {},
          "execution_count": 35
        }
      ]
    },
    {
      "cell_type": "code",
      "source": [
        "df['host_is_superhost'].value_counts()"
      ],
      "metadata": {
        "colab": {
          "base_uri": "https://localhost:8080/"
        },
        "id": "5SfL-WRRaUEZ",
        "outputId": "6aec772d-857c-4dcf-d17d-5fd753de0cdf"
      },
      "execution_count": null,
      "outputs": [
        {
          "output_type": "execute_result",
          "data": {
            "text/plain": [
              "f    3038\n",
              "t     778\n",
              "Name: host_is_superhost, dtype: int64"
            ]
          },
          "metadata": {},
          "execution_count": 36
        }
      ]
    },
    {
      "cell_type": "code",
      "source": [
        "df['bedrooms'].value_counts()"
      ],
      "metadata": {
        "colab": {
          "base_uri": "https://localhost:8080/"
        },
        "id": "iy3OYaxMa5aD",
        "outputId": "b492f836-c37d-4729-c1ab-aafa5caee596"
      },
      "execution_count": null,
      "outputs": [
        {
          "output_type": "execute_result",
          "data": {
            "text/plain": [
              "1.0    2417\n",
              "2.0     640\n",
              "0.0     372\n",
              "3.0     283\n",
              "4.0      69\n",
              "5.0      24\n",
              "6.0       6\n",
              "7.0       1\n",
              "Name: bedrooms, dtype: int64"
            ]
          },
          "metadata": {},
          "execution_count": 37
        }
      ]
    },
    {
      "cell_type": "code",
      "source": [
        "# Replacing null values with median rating\n",
        "df['review_scores_rating'] = df['review_scores_rating'].fillna(df['review_scores_rating'].median())\n",
        "# Binning scores to categories and changing data type \n",
        "df['review_scores_rating_'] = pd.cut(df['review_scores_rating'], [50.0, 70.0, 70.0, 80.0, 80.0, 90.0, 90.0, 100.0],\n",
        "                             labels = ['50-70', '70-80', '80-90', '90-100'], duplicates = 'drop')\n",
        "# Changing data type of categorical features \n",
        "df['review_scores_rating_'] = df['review_scores_rating_'].astype(object)\n",
        "df['guests_included'] = df['guests_included'].astype(object)\n",
        "df['review_scores_cleanliness'] = df['review_scores_rating'].fillna(df['review_scores_rating'].median())\n",
        "df['review_scores_cleanliness'] = df['review_scores_cleanliness'].astype(int).astype(object)\n",
        "\n",
        "# Binary mapping whether host is superhost or not \n",
        "df['host_is_superhost'] = df['host_is_superhost'].map({'t': 1, 'f': 0})\n",
        "# Replacing null values with median rating\n",
        "df['host_is_superhost'] = df['host_is_superhost'].fillna(df['host_is_superhost'].median())\n",
        "df['host_is_superhost'] = df['host_is_superhost'].astype(int).astype(object)\n",
        "# Dropping id as it has no effect on booking rate\n",
        "df.drop(['review_scores_rating', 'id'], axis=1, inplace=True)"
      ],
      "metadata": {
        "id": "43mNt7SYhMun"
      },
      "execution_count": null,
      "outputs": []
    },
    {
      "cell_type": "markdown",
      "source": [
        "2.2) Preparing Numerical Columns \n",
        "\n"
      ],
      "metadata": {
        "id": "9C8_RXutbQ8t"
      }
    },
    {
      "cell_type": "code",
      "source": [
        "# Cleaning columns with price and changing data type\n",
        "df['price'] = df['price'].replace('[\\$,]','',regex=True).astype(float)\n",
        "df['cleaning_fee'] = df['cleaning_fee'].replace('[\\$,]','',regex=True).astype(float)\n",
        "df['security_deposit'] = df['security_deposit'].replace('[\\$,]','',regex=True).astype(float)\n",
        "df['extra_people'] = df['extra_people'].replace('[\\$,]','',regex=True).astype(float)"
      ],
      "metadata": {
        "id": "K56GAhsRbNgo"
      },
      "execution_count": null,
      "outputs": []
    },
    {
      "cell_type": "code",
      "source": [
        "df.dtypes"
      ],
      "metadata": {
        "colab": {
          "base_uri": "https://localhost:8080/"
        },
        "id": "-52Xm4njvV9G",
        "outputId": "ac03aa29-2c28-4076-8f5d-1985a6bf4334"
      },
      "execution_count": null,
      "outputs": [
        {
          "output_type": "execute_result",
          "data": {
            "text/plain": [
              "host_response_time               object\n",
              "host_is_superhost                object\n",
              "neighbourhood_group_cleansed     object\n",
              "property_type                    object\n",
              "room_type                        object\n",
              "accommodates                      int64\n",
              "bathrooms                       float64\n",
              "bedrooms                        float64\n",
              "beds                            float64\n",
              "bed_type                         object\n",
              "price                           float64\n",
              "security_deposit                float64\n",
              "cleaning_fee                    float64\n",
              "guests_included                  object\n",
              "extra_people                    float64\n",
              "minimum_nights                    int64\n",
              "maximum_nights                    int64\n",
              "number_of_reviews                 int64\n",
              "review_scores_cleanliness        object\n",
              "cancellation_policy              object\n",
              "booking_rate                    float64\n",
              "content                          object\n",
              "content_len                       int64\n",
              "review_scores_rating_            object\n",
              "dtype: object"
            ]
          },
          "metadata": {},
          "execution_count": 40
        }
      ]
    },
    {
      "cell_type": "code",
      "source": [
        "df.shape"
      ],
      "metadata": {
        "colab": {
          "base_uri": "https://localhost:8080/"
        },
        "id": "JAHF2DFdvwkG",
        "outputId": "cf6db38f-695b-4b13-c1cb-d0b71a0a3eb2"
      },
      "execution_count": null,
      "outputs": [
        {
          "output_type": "execute_result",
          "data": {
            "text/plain": [
              "(3818, 24)"
            ]
          },
          "metadata": {},
          "execution_count": 41
        }
      ]
    },
    {
      "cell_type": "code",
      "source": [
        "df.to_pickle(\"Data/preprocessed_df.pkl\")  "
      ],
      "metadata": {
        "id": "XMehBdQDXE73"
      },
      "execution_count": null,
      "outputs": []
    },
    {
      "cell_type": "markdown",
      "source": [
        "## Data Modeling "
      ],
      "metadata": {
        "id": "mofImnsE33AS"
      }
    },
    {
      "cell_type": "code",
      "source": [
        "# Import Python packages and modules to use \n",
        "from sklearn.preprocessing import FunctionTransformer, StandardScaler, OneHotEncoder\n",
        "from sklearn.pipeline import Pipeline\n",
        "from sklearn.impute import SimpleImputer\n",
        "from sklearn.compose import ColumnTransformer\n",
        "from sklearn.model_selection import train_test_split, GridSearchCV, cross_val_score\n",
        "from sklearn.metrics import mean_absolute_error, mean_absolute_percentage_error, mean_squared_error, r2_score\n",
        "from sklearn.linear_model import LinearRegression, SGDRegressor\n",
        "from sklearn.tree import DecisionTreeRegressor\n",
        "from sklearn.ensemble import RandomForestRegressor, ExtraTreesRegressor, GradientBoostingRegressor\n",
        "from sklearn.svm import SVR \n",
        "from sklearn.inspection import permutation_importance"
      ],
      "metadata": {
        "id": "oejMH5Ne35GN"
      },
      "execution_count": null,
      "outputs": []
    },
    {
      "cell_type": "code",
      "source": [
        "# Splitting data into train and test sets\n",
        "X = df.drop('booking_rate', axis=1)\n",
        "y = df['booking_rate']\n",
        "X_train, X_test, y_train, y_test = train_test_split(X, y, test_size=0.25, random_state=42)"
      ],
      "metadata": {
        "id": "bqQ0IP4tEdvr"
      },
      "execution_count": null,
      "outputs": []
    },
    {
      "cell_type": "markdown",
      "source": [
        "## TF-IDF Vectorizer"
      ],
      "metadata": {
        "id": "RqbmiVB6itHE"
      }
    },
    {
      "cell_type": "markdown",
      "source": [
        "Please refer to NLP-Recommender notebook to see different vectorizers applied on text data. "
      ],
      "metadata": {
        "id": "PFmgTi2RJ760"
      }
    },
    {
      "cell_type": "code",
      "source": [
        "# Use TF-IDF Vectorizer for models \n",
        "from sklearn.feature_extraction.text import TfidfVectorizer\n",
        "tfidf = TfidfVectorizer(stop_words='english', lowercase=False, ngram_range=(1,3))\n"
      ],
      "metadata": {
        "id": "JDHl_kg0SM6j"
      },
      "execution_count": null,
      "outputs": []
    },
    {
      "cell_type": "markdown",
      "source": [
        "# Machine Learning Pipeline "
      ],
      "metadata": {
        "id": "94-EGIsyTcsa"
      }
    },
    {
      "cell_type": "markdown",
      "source": [
        "Three different pipelines are created and then combined in column transformer.\n",
        "\n",
        "1) Numerical variables will be scaled with Standard Scaler and null variables will be filled with Simple Imputer using median of each column. \n",
        "\n",
        "2) Categorical variables will be One Hot Encoded and null variables will be filled with constant value of each columnn.\n",
        "\n",
        "3) Pre-processed text data is vectorized with TF-IDF."
      ],
      "metadata": {
        "id": "cbusq6XcEfmT"
      }
    },
    {
      "cell_type": "code",
      "source": [
        "# Selecting numerical and categorical columns \n",
        "#cat_cols = X_train.select_dtypes(include=['object']).columns.tolist()\n",
        "#num_cols = X_train.select_dtypes(include=['int64', 'float64']).columns.tolist()\n",
        "\n",
        "# Pipeline for numerical data\n",
        "num_pipeline = Pipeline(steps=[(\"imputer\", SimpleImputer(strategy=\"median\")),\n",
        "                     (\"scaler\", StandardScaler())])\n",
        "# Pipeline for categorical data  \n",
        "cat_pipeline = Pipeline(steps=[(\"imputer\", SimpleImputer(strategy=\"constant\")),\n",
        "                        (\"ohe\", OneHotEncoder(handle_unknown=\"ignore\", sparse=False))])\n",
        "# Pipeline for the content column \n",
        "text_pipeline = Pipeline(steps=[('Text', tfidf)])\n",
        "\n",
        "# Assign categorical and numerical columns to their respective pipeline\n",
        "# Add vectorized content column to the ColumnTransformer\n",
        "preprocessing = ColumnTransformer(\n",
        "    transformers=[(\"num\", num_pipeline, [5,6,7,8,10,11,12,14,15,16,17,21]), \n",
        "                  (\"cat\", cat_pipeline, [0,1,2,3,4,9,13,18,19,22]),\n",
        "                  (\"tfidf\", text_pipeline, \"content\")])"
      ],
      "metadata": {
        "id": "2SOzfHRrE8VV"
      },
      "execution_count": null,
      "outputs": []
    },
    {
      "cell_type": "code",
      "source": [
        "def run_models(model, type_):\n",
        "    ''' This function takes preprocessing pipeline from above to train the data on 7 different Machine Learning Models\n",
        "    then return RMSE and MSE score of each model'''\n",
        "\n",
        "    metric_table = pd.DataFrame(columns=['Model', 'RMSE', 'MSE', ' Type'])\n",
        "\n",
        "    for name, model in model.items():\n",
        "        print(f'{name} Model:')\n",
        "        pipeline = Pipeline(\n",
        "            steps=[(\"preprocess\", preprocessing), ('regressor', model['regressor'])])\n",
        "        \n",
        "        pipeline.fit(X_train, y_train) \n",
        "\n",
        "        y_pred = pipeline.predict(X_test)\n",
        "\n",
        "        #cv_mse = cross_val_score(pipeline, X_train, y_train, cv=3, scoring='mean_squared_error')\n",
        "        #cv_mse_mean = (cv_mse).mean()\n",
        "\n",
        "        rmse = mean_squared_error(y_test, y_pred, squared=False)\n",
        "\n",
        "        mse = mean_squared_error(y_test, y_pred)\n",
        "            \n",
        "        metric_table = metric_table.append({'Model': name, 'RMSE': round(rmse, 4), 'MSE': round(mse, 4), 'Type': type_}, ignore_index=True)\n",
        "      \n",
        "        print(f'RMSE Score: {metric_table.iloc[-1,1]}')\n",
        "        print(f'MSE Score: {metric_table.iloc[-1,2]}\\n')\n",
        "    \n",
        "    return metric_table"
      ],
      "metadata": {
        "id": "DwzHsFY5YHF4"
      },
      "execution_count": null,
      "outputs": []
    },
    {
      "cell_type": "code",
      "source": [
        "# Create a dictionary of the baseline models to run\n",
        "baseline_models = {'LinearRegression':\n",
        "                  {'regressor': LinearRegression()},\n",
        "\n",
        "                'SGDRegressor':\n",
        "                  {'regressor': SGDRegressor(random_state=42)},\n",
        "               \n",
        "               'DecisionTree':\n",
        "                  {'regressor': DecisionTreeRegressor(random_state=42)},\n",
        "               \n",
        "               'RandomForest':\n",
        "                  {'regressor': RandomForestRegressor(random_state=42)},\n",
        "               \n",
        "               'ExtraTrees':\n",
        "                  {'regressor': ExtraTreesRegressor(random_state=42)},\n",
        "               \n",
        "               'GradientBoost':\n",
        "                  {'regressor': GradientBoostingRegressor(random_state=42)},\n",
        "                   \n",
        "               'SVR':\n",
        "                  {'regressor': SVR()}}"
      ],
      "metadata": {
        "id": "bVArh7hATlrA"
      },
      "execution_count": null,
      "outputs": []
    },
    {
      "cell_type": "code",
      "source": [
        "# Use function created above to run the baseline models\n",
        "models_table = run_models(baseline_models, 'Baseline')\n",
        "models_table"
      ],
      "metadata": {
        "colab": {
          "base_uri": "https://localhost:8080/",
          "height": 755
        },
        "id": "6YMrP7h5F-nZ",
        "outputId": "4c1688dc-1192-44e4-9603-ac647e23fac5"
      },
      "execution_count": null,
      "outputs": [
        {
          "output_type": "stream",
          "name": "stdout",
          "text": [
            "LinearRegression Model:\n",
            "RMSE Score: 0.8193\n",
            "MSE Score: 0.6713\n",
            "\n",
            "SGDRegressor Model:\n",
            "RMSE Score: 0.3497\n",
            "MSE Score: 0.1223\n",
            "\n",
            "DecisionTree Model:\n",
            "RMSE Score: 0.4631\n",
            "MSE Score: 0.2144\n",
            "\n",
            "RandomForest Model:\n",
            "RMSE Score: 0.3295\n",
            "MSE Score: 0.1086\n",
            "\n",
            "ExtraTrees Model:\n",
            "RMSE Score: 0.3415\n",
            "MSE Score: 0.1166\n",
            "\n",
            "GradientBoost Model:\n",
            "RMSE Score: 0.3361\n",
            "MSE Score: 0.113\n",
            "\n",
            "SVR Model:\n",
            "RMSE Score: 0.3274\n",
            "MSE Score: 0.1072\n",
            "\n"
          ]
        },
        {
          "output_type": "execute_result",
          "data": {
            "text/plain": [
              "              Model    RMSE     MSE   Type      Type\n",
              "0  LinearRegression  0.8193  0.6713    NaN  Baseline\n",
              "1      SGDRegressor  0.3497  0.1223    NaN  Baseline\n",
              "2      DecisionTree  0.4631  0.2144    NaN  Baseline\n",
              "3      RandomForest  0.3295  0.1086    NaN  Baseline\n",
              "4        ExtraTrees  0.3415  0.1166    NaN  Baseline\n",
              "5     GradientBoost  0.3361  0.1130    NaN  Baseline\n",
              "6               SVR  0.3274  0.1072    NaN  Baseline"
            ],
            "text/html": [
              "\n",
              "  <div id=\"df-a2ef7825-3487-4a87-bd9d-ddd4c7afc3fd\">\n",
              "    <div class=\"colab-df-container\">\n",
              "      <div>\n",
              "<style scoped>\n",
              "    .dataframe tbody tr th:only-of-type {\n",
              "        vertical-align: middle;\n",
              "    }\n",
              "\n",
              "    .dataframe tbody tr th {\n",
              "        vertical-align: top;\n",
              "    }\n",
              "\n",
              "    .dataframe thead th {\n",
              "        text-align: right;\n",
              "    }\n",
              "</style>\n",
              "<table border=\"1\" class=\"dataframe\">\n",
              "  <thead>\n",
              "    <tr style=\"text-align: right;\">\n",
              "      <th></th>\n",
              "      <th>Model</th>\n",
              "      <th>RMSE</th>\n",
              "      <th>MSE</th>\n",
              "      <th>Type</th>\n",
              "      <th>Type</th>\n",
              "    </tr>\n",
              "  </thead>\n",
              "  <tbody>\n",
              "    <tr>\n",
              "      <th>0</th>\n",
              "      <td>LinearRegression</td>\n",
              "      <td>0.8193</td>\n",
              "      <td>0.6713</td>\n",
              "      <td>NaN</td>\n",
              "      <td>Baseline</td>\n",
              "    </tr>\n",
              "    <tr>\n",
              "      <th>1</th>\n",
              "      <td>SGDRegressor</td>\n",
              "      <td>0.3497</td>\n",
              "      <td>0.1223</td>\n",
              "      <td>NaN</td>\n",
              "      <td>Baseline</td>\n",
              "    </tr>\n",
              "    <tr>\n",
              "      <th>2</th>\n",
              "      <td>DecisionTree</td>\n",
              "      <td>0.4631</td>\n",
              "      <td>0.2144</td>\n",
              "      <td>NaN</td>\n",
              "      <td>Baseline</td>\n",
              "    </tr>\n",
              "    <tr>\n",
              "      <th>3</th>\n",
              "      <td>RandomForest</td>\n",
              "      <td>0.3295</td>\n",
              "      <td>0.1086</td>\n",
              "      <td>NaN</td>\n",
              "      <td>Baseline</td>\n",
              "    </tr>\n",
              "    <tr>\n",
              "      <th>4</th>\n",
              "      <td>ExtraTrees</td>\n",
              "      <td>0.3415</td>\n",
              "      <td>0.1166</td>\n",
              "      <td>NaN</td>\n",
              "      <td>Baseline</td>\n",
              "    </tr>\n",
              "    <tr>\n",
              "      <th>5</th>\n",
              "      <td>GradientBoost</td>\n",
              "      <td>0.3361</td>\n",
              "      <td>0.1130</td>\n",
              "      <td>NaN</td>\n",
              "      <td>Baseline</td>\n",
              "    </tr>\n",
              "    <tr>\n",
              "      <th>6</th>\n",
              "      <td>SVR</td>\n",
              "      <td>0.3274</td>\n",
              "      <td>0.1072</td>\n",
              "      <td>NaN</td>\n",
              "      <td>Baseline</td>\n",
              "    </tr>\n",
              "  </tbody>\n",
              "</table>\n",
              "</div>\n",
              "      <button class=\"colab-df-convert\" onclick=\"convertToInteractive('df-a2ef7825-3487-4a87-bd9d-ddd4c7afc3fd')\"\n",
              "              title=\"Convert this dataframe to an interactive table.\"\n",
              "              style=\"display:none;\">\n",
              "        \n",
              "  <svg xmlns=\"http://www.w3.org/2000/svg\" height=\"24px\"viewBox=\"0 0 24 24\"\n",
              "       width=\"24px\">\n",
              "    <path d=\"M0 0h24v24H0V0z\" fill=\"none\"/>\n",
              "    <path d=\"M18.56 5.44l.94 2.06.94-2.06 2.06-.94-2.06-.94-.94-2.06-.94 2.06-2.06.94zm-11 1L8.5 8.5l.94-2.06 2.06-.94-2.06-.94L8.5 2.5l-.94 2.06-2.06.94zm10 10l.94 2.06.94-2.06 2.06-.94-2.06-.94-.94-2.06-.94 2.06-2.06.94z\"/><path d=\"M17.41 7.96l-1.37-1.37c-.4-.4-.92-.59-1.43-.59-.52 0-1.04.2-1.43.59L10.3 9.45l-7.72 7.72c-.78.78-.78 2.05 0 2.83L4 21.41c.39.39.9.59 1.41.59.51 0 1.02-.2 1.41-.59l7.78-7.78 2.81-2.81c.8-.78.8-2.07 0-2.86zM5.41 20L4 18.59l7.72-7.72 1.47 1.35L5.41 20z\"/>\n",
              "  </svg>\n",
              "      </button>\n",
              "      \n",
              "  <style>\n",
              "    .colab-df-container {\n",
              "      display:flex;\n",
              "      flex-wrap:wrap;\n",
              "      gap: 12px;\n",
              "    }\n",
              "\n",
              "    .colab-df-convert {\n",
              "      background-color: #E8F0FE;\n",
              "      border: none;\n",
              "      border-radius: 50%;\n",
              "      cursor: pointer;\n",
              "      display: none;\n",
              "      fill: #1967D2;\n",
              "      height: 32px;\n",
              "      padding: 0 0 0 0;\n",
              "      width: 32px;\n",
              "    }\n",
              "\n",
              "    .colab-df-convert:hover {\n",
              "      background-color: #E2EBFA;\n",
              "      box-shadow: 0px 1px 2px rgba(60, 64, 67, 0.3), 0px 1px 3px 1px rgba(60, 64, 67, 0.15);\n",
              "      fill: #174EA6;\n",
              "    }\n",
              "\n",
              "    [theme=dark] .colab-df-convert {\n",
              "      background-color: #3B4455;\n",
              "      fill: #D2E3FC;\n",
              "    }\n",
              "\n",
              "    [theme=dark] .colab-df-convert:hover {\n",
              "      background-color: #434B5C;\n",
              "      box-shadow: 0px 1px 3px 1px rgba(0, 0, 0, 0.15);\n",
              "      filter: drop-shadow(0px 1px 2px rgba(0, 0, 0, 0.3));\n",
              "      fill: #FFFFFF;\n",
              "    }\n",
              "  </style>\n",
              "\n",
              "      <script>\n",
              "        const buttonEl =\n",
              "          document.querySelector('#df-a2ef7825-3487-4a87-bd9d-ddd4c7afc3fd button.colab-df-convert');\n",
              "        buttonEl.style.display =\n",
              "          google.colab.kernel.accessAllowed ? 'block' : 'none';\n",
              "\n",
              "        async function convertToInteractive(key) {\n",
              "          const element = document.querySelector('#df-a2ef7825-3487-4a87-bd9d-ddd4c7afc3fd');\n",
              "          const dataTable =\n",
              "            await google.colab.kernel.invokeFunction('convertToInteractive',\n",
              "                                                     [key], {});\n",
              "          if (!dataTable) return;\n",
              "\n",
              "          const docLinkHtml = 'Like what you see? Visit the ' +\n",
              "            '<a target=\"_blank\" href=https://colab.research.google.com/notebooks/data_table.ipynb>data table notebook</a>'\n",
              "            + ' to learn more about interactive tables.';\n",
              "          element.innerHTML = '';\n",
              "          dataTable['output_type'] = 'display_data';\n",
              "          await google.colab.output.renderOutput(dataTable, element);\n",
              "          const docLink = document.createElement('div');\n",
              "          docLink.innerHTML = docLinkHtml;\n",
              "          element.appendChild(docLink);\n",
              "        }\n",
              "      </script>\n",
              "    </div>\n",
              "  </div>\n",
              "  "
            ]
          },
          "metadata": {},
          "execution_count": 54
        }
      ]
    },
    {
      "cell_type": "markdown",
      "source": [
        "Linear regression performed worst with Mean Squared Error of 0.67 whereas RandomForest and SVR scored 0.10"
      ],
      "metadata": {
        "id": "SZMpM1MmKgY5"
      }
    },
    {
      "cell_type": "markdown",
      "source": [
        "## Hyperparameter Tuning with RandomizedSearchCV\n",
        "\n",
        "---"
      ],
      "metadata": {
        "id": "oLoMjQ8MGPrp"
      }
    },
    {
      "cell_type": "markdown",
      "source": [
        "RandomizedSearchCV will be used to find optimal hyperparameters for the best performing models. "
      ],
      "metadata": {
        "id": "Qfh7wULdJMUQ"
      }
    },
    {
      "cell_type": "markdown",
      "source": [
        "## Stochastic Gradient Descent (SGD) Regressor\n",
        "\n",
        "---\n",
        "\n"
      ],
      "metadata": {
        "id": "xWiicqheAW1w"
      }
    },
    {
      "cell_type": "code",
      "source": [
        "from sklearn.model_selection import RandomizedSearchCV\n",
        "pipe_sgd = Pipeline(steps=[(\"preprocess\", preprocessing), \n",
        "                                    (\"sgd\", SGDRegressor())])\n",
        "\n",
        "sgd_grid = [{'sgd__alpha': [0.0001, 0.001, 0.01, 0.1, 1, 10, 100, 1000],\n",
        "            'sgd__loss': ['squared_loss', 'huber', 'epsilon_insensitive'],\n",
        "            'sgd__penalty': ['l2', 'l1', 'elasticnet'],\n",
        "            'sgd__learning_rate': ['constant', 'optimal', 'invscaling']}]\n",
        "\n",
        "sgd_RandomGrid = RandomizedSearchCV(estimator = pipe_sgd, \n",
        "                          param_distributions = sgd_grid, \n",
        "                          scoring='neg_mean_squared_error',\n",
        "                          n_jobs = -1, \n",
        "                          cv = 2,\n",
        "                          n_iter = 1,\n",
        "                          verbose = 1)\n",
        "\n",
        "sgd_RandomGrid.fit(X_train, y_train)"
      ],
      "metadata": {
        "id": "vMfEwNSHTPnU",
        "colab": {
          "base_uri": "https://localhost:8080/"
        },
        "outputId": "6898b30d-1437-4c52-e7c0-6906cf8ddfa8"
      },
      "execution_count": null,
      "outputs": [
        {
          "output_type": "stream",
          "name": "stdout",
          "text": [
            "Fitting 2 folds for each of 1 candidates, totalling 2 fits\n"
          ]
        },
        {
          "output_type": "execute_result",
          "data": {
            "text/plain": [
              "RandomizedSearchCV(cv=2,\n",
              "                   estimator=Pipeline(steps=[('preprocess',\n",
              "                                              ColumnTransformer(transformers=[('num',\n",
              "                                                                               Pipeline(steps=[('imputer',\n",
              "                                                                                                SimpleImputer(strategy='median')),\n",
              "                                                                                               ('scaler',\n",
              "                                                                                                StandardScaler())]),\n",
              "                                                                               [5,\n",
              "                                                                                6,\n",
              "                                                                                7,\n",
              "                                                                                8,\n",
              "                                                                                10,\n",
              "                                                                                11,\n",
              "                                                                                12,\n",
              "                                                                                14,\n",
              "                                                                                15,\n",
              "                                                                                16,\n",
              "                                                                                17,\n",
              "                                                                                21]),\n",
              "                                                                              ('cat',\n",
              "                                                                               Pipeline(steps=[('imputer',\n",
              "                                                                                                SimpleImputer(strategy='constant')),\n",
              "                                                                                               ('ohe',\n",
              "                                                                                                OneHotEncoder(handle_unknown='ignore',\n",
              "                                                                                                              sparse...\n",
              "                                                                                                                stop_words='english'))]),\n",
              "                                                                               'content')])),\n",
              "                                             ('sgd', SGDRegressor())]),\n",
              "                   n_iter=1, n_jobs=-1,\n",
              "                   param_distributions=[{'sgd__alpha': [0.0001, 0.001, 0.01,\n",
              "                                                        0.1, 1, 10, 100, 1000],\n",
              "                                         'sgd__learning_rate': ['constant',\n",
              "                                                                'optimal',\n",
              "                                                                'invscaling'],\n",
              "                                         'sgd__loss': ['squared_loss', 'huber',\n",
              "                                                       'epsilon_insensitive'],\n",
              "                                         'sgd__penalty': ['l2', 'l1',\n",
              "                                                          'elasticnet']}],\n",
              "                   scoring='neg_mean_squared_error', verbose=1)"
            ]
          },
          "metadata": {},
          "execution_count": 56
        }
      ]
    },
    {
      "cell_type": "code",
      "source": [
        "print('Best Parameters:', sgd_RandomGrid.best_params_)\n",
        "print('Best Mean Squared Error:', round((sgd_RandomGrid.best_score_ * -1), 4))"
      ],
      "metadata": {
        "id": "Hyc6Lx-5UsCd",
        "colab": {
          "base_uri": "https://localhost:8080/"
        },
        "outputId": "4dcbe214-7820-4ce4-c049-92cbd9784441"
      },
      "execution_count": null,
      "outputs": [
        {
          "output_type": "stream",
          "name": "stdout",
          "text": [
            "Best Parameters: {'sgd__penalty': 'l2', 'sgd__loss': 'squared_loss', 'sgd__learning_rate': 'invscaling', 'sgd__alpha': 100}\n",
            "Best Mean Squared Error: 0.1812\n"
          ]
        }
      ]
    },
    {
      "cell_type": "markdown",
      "source": [
        "## Support Vector Regressor "
      ],
      "metadata": {
        "id": "a0hXftsWbu99"
      }
    },
    {
      "cell_type": "code",
      "source": [
        "pipe_svr = Pipeline(steps=[(\"preprocess\", preprocessing), \n",
        "                                    (\"svr\", SVR(kernel='rbf'))])\n",
        "svr_grid = [{'svr__C': [0.01, 0.5, 0.1, 1, 3, 5], \n",
        "         'svr__gamma': [0.01, 0.5, 0.1, 0.3, 0.5]}]\n",
        "\n",
        "\n",
        "svr_RandomGrid = RandomizedSearchCV(estimator = pipe_svr, \n",
        "                          param_distributions = svr_grid, \n",
        "                          scoring='neg_mean_squared_error',\n",
        "                          n_jobs = -1, \n",
        "                          cv = 2,\n",
        "                          n_iter = 1,\n",
        "                          verbose = 1)\n",
        "\n",
        "svr_RandomGrid.fit(X_train, y_train)"
      ],
      "metadata": {
        "id": "56J-Y14THguI",
        "colab": {
          "base_uri": "https://localhost:8080/"
        },
        "outputId": "63298d26-ee0e-47bc-b50e-0cd79d283305"
      },
      "execution_count": null,
      "outputs": [
        {
          "output_type": "stream",
          "name": "stdout",
          "text": [
            "Fitting 2 folds for each of 1 candidates, totalling 2 fits\n"
          ]
        },
        {
          "output_type": "execute_result",
          "data": {
            "text/plain": [
              "RandomizedSearchCV(cv=2,\n",
              "                   estimator=Pipeline(steps=[('preprocess',\n",
              "                                              ColumnTransformer(transformers=[('num',\n",
              "                                                                               Pipeline(steps=[('imputer',\n",
              "                                                                                                SimpleImputer(strategy='median')),\n",
              "                                                                                               ('scaler',\n",
              "                                                                                                StandardScaler())]),\n",
              "                                                                               [5,\n",
              "                                                                                6,\n",
              "                                                                                7,\n",
              "                                                                                8,\n",
              "                                                                                10,\n",
              "                                                                                11,\n",
              "                                                                                12,\n",
              "                                                                                14,\n",
              "                                                                                15,\n",
              "                                                                                16,\n",
              "                                                                                17,\n",
              "                                                                                21]),\n",
              "                                                                              ('cat',\n",
              "                                                                               Pipeline(steps=[('imputer',\n",
              "                                                                                                SimpleImputer(strategy='constant')),\n",
              "                                                                                               ('ohe',\n",
              "                                                                                                OneHotEncoder(handle_unknown='ignore',\n",
              "                                                                                                              sparse=False))]),\n",
              "                                                                               [0,\n",
              "                                                                                1,\n",
              "                                                                                2,\n",
              "                                                                                3,\n",
              "                                                                                4,\n",
              "                                                                                9,\n",
              "                                                                                13,\n",
              "                                                                                18,\n",
              "                                                                                19,\n",
              "                                                                                22]),\n",
              "                                                                              ('tfidf',\n",
              "                                                                               Pipeline(steps=[('Text',\n",
              "                                                                                                TfidfVectorizer(lowercase=False,\n",
              "                                                                                                                ngram_range=(1,\n",
              "                                                                                                                             3),\n",
              "                                                                                                                stop_words='english'))]),\n",
              "                                                                               'content')])),\n",
              "                                             ('svr', SVR())]),\n",
              "                   n_iter=1, n_jobs=-1,\n",
              "                   param_distributions=[{'svr__C': [0.01, 0.5, 0.1, 1, 3, 5],\n",
              "                                         'svr__gamma': [0.01, 0.5, 0.1, 0.3,\n",
              "                                                        0.5]}],\n",
              "                   scoring='neg_mean_squared_error', verbose=1)"
            ]
          },
          "metadata": {},
          "execution_count": 58
        }
      ]
    },
    {
      "cell_type": "code",
      "source": [
        "print('Best Parameters:', svr_RandomGrid.best_params_)\n",
        "print('Best Mean Squared Error:', round((svr_RandomGrid.best_score_ * -1), 4))"
      ],
      "metadata": {
        "id": "Y3ZOKtj8IFs7",
        "colab": {
          "base_uri": "https://localhost:8080/"
        },
        "outputId": "de66dfb3-5ed7-4ad6-de22-dfb6b8d27616"
      },
      "execution_count": null,
      "outputs": [
        {
          "output_type": "stream",
          "name": "stdout",
          "text": [
            "Best Parameters: {'svr__gamma': 0.3, 'svr__C': 0.01}\n",
            "Best Mean Squared Error: 0.1388\n"
          ]
        }
      ]
    },
    {
      "cell_type": "code",
      "source": [
        "pipe_svr = Pipeline(steps=[(\"preprocess\", preprocessing), \n",
        "                                    (\"svr\", SVR(kernel='rbf'))])\n",
        "svr_grid1 = [{'svr__C': [0.001, 0.01, 0.1, 0.5, 1, 3, 5, 10], \n",
        "         'svr__gamma': [0.01, 0.01, 0.5, 0.1, 0.3, 0.5, 1.0, 10, 100]}]\n",
        "\n",
        "\n",
        "svr_RandomGrid1 = RandomizedSearchCV(estimator = pipe_svr, \n",
        "                          param_distributions = svr_grid1, \n",
        "                          scoring='neg_mean_squared_error',\n",
        "                          n_jobs = -1, \n",
        "                          cv = 2,\n",
        "                          n_iter = 1,\n",
        "                          verbose = 1)\n",
        "\n",
        "svr_RandomGrid1.fit(X_train, y_train)"
      ],
      "metadata": {
        "id": "A1RQ0YQmucJg",
        "colab": {
          "base_uri": "https://localhost:8080/"
        },
        "outputId": "19259926-b036-4dc0-83a2-a3edd9c8202c"
      },
      "execution_count": null,
      "outputs": [
        {
          "output_type": "stream",
          "name": "stdout",
          "text": [
            "Fitting 2 folds for each of 1 candidates, totalling 2 fits\n"
          ]
        },
        {
          "output_type": "execute_result",
          "data": {
            "text/plain": [
              "RandomizedSearchCV(cv=2,\n",
              "                   estimator=Pipeline(steps=[('preprocess',\n",
              "                                              ColumnTransformer(transformers=[('num',\n",
              "                                                                               Pipeline(steps=[('imputer',\n",
              "                                                                                                SimpleImputer(strategy='median')),\n",
              "                                                                                               ('scaler',\n",
              "                                                                                                StandardScaler())]),\n",
              "                                                                               [5,\n",
              "                                                                                6,\n",
              "                                                                                7,\n",
              "                                                                                8,\n",
              "                                                                                10,\n",
              "                                                                                11,\n",
              "                                                                                12,\n",
              "                                                                                14,\n",
              "                                                                                15,\n",
              "                                                                                16,\n",
              "                                                                                17,\n",
              "                                                                                21]),\n",
              "                                                                              ('cat',\n",
              "                                                                               Pipeline(steps=[('imputer',\n",
              "                                                                                                SimpleImputer(strategy='constant')),\n",
              "                                                                                               ('ohe',\n",
              "                                                                                                OneHotEncoder(handle_unknown='ignore',\n",
              "                                                                                                              sparse=False))]),\n",
              "                                                                               [0,\n",
              "                                                                                1,\n",
              "                                                                                2,\n",
              "                                                                                3,\n",
              "                                                                                4,\n",
              "                                                                                9,\n",
              "                                                                                13,\n",
              "                                                                                18,\n",
              "                                                                                19,\n",
              "                                                                                22]),\n",
              "                                                                              ('tfidf',\n",
              "                                                                               Pipeline(steps=[('Text',\n",
              "                                                                                                TfidfVectorizer(lowercase=False,\n",
              "                                                                                                                ngram_range=(1,\n",
              "                                                                                                                             3),\n",
              "                                                                                                                stop_words='english'))]),\n",
              "                                                                               'content')])),\n",
              "                                             ('svr', SVR())]),\n",
              "                   n_iter=1, n_jobs=-1,\n",
              "                   param_distributions=[{'svr__C': [0.001, 0.01, 0.1, 0.5, 1, 3,\n",
              "                                                    5, 10],\n",
              "                                         'svr__gamma': [0.01, 0.01, 0.5, 0.1,\n",
              "                                                        0.3, 0.5, 1.0, 10,\n",
              "                                                        100]}],\n",
              "                   scoring='neg_mean_squared_error', verbose=1)"
            ]
          },
          "metadata": {},
          "execution_count": 60
        }
      ]
    },
    {
      "cell_type": "code",
      "source": [
        "print('Best Parameters:', svr_RandomGrid1.best_params_)\n",
        "print('Best Mean Squared Error:', round((svr_RandomGrid1.best_score_ * -1), 4))"
      ],
      "metadata": {
        "id": "tTK5Vm7KvUfA",
        "colab": {
          "base_uri": "https://localhost:8080/"
        },
        "outputId": "49b7d077-b5cd-477a-d212-38cd9433f6af"
      },
      "execution_count": null,
      "outputs": [
        {
          "output_type": "stream",
          "name": "stdout",
          "text": [
            "Best Parameters: {'svr__gamma': 0.01, 'svr__C': 0.1}\n",
            "Best Mean Squared Error: 0.1247\n"
          ]
        }
      ]
    },
    {
      "cell_type": "markdown",
      "source": [
        "## Extra Trees Regressor"
      ],
      "metadata": {
        "id": "GEawDZmabntF"
      }
    },
    {
      "cell_type": "code",
      "source": [
        "pipe_et = Pipeline(steps=[(\"preprocess\", preprocessing), \n",
        "                                    (\"et\", ExtraTreesRegressor(random_state = 42))])\n",
        "\n",
        "et_grid = [{'et__n_estimators': [1000, 1100, 1200, 1300, 1400, 1500], \n",
        "         'et__min_samples_split': [1.0, 5, 10, 15],\n",
        "         'et__max_depth': [10, 13, 15, 18, 20]}]\n",
        "\n",
        "\n",
        "et_RandomGrid = RandomizedSearchCV(estimator = pipe_et, \n",
        "                          param_distributions = et_grid, \n",
        "                          scoring ='neg_mean_squared_error',\n",
        "                          n_jobs = -1,\n",
        "                          n_iter = 1, \n",
        "                          cv = 2,\n",
        "                          verbose = 1)\n",
        "\n",
        "et_RandomGrid.fit(X_train, y_train)"
      ],
      "metadata": {
        "id": "9qooBBzITsm1",
        "colab": {
          "base_uri": "https://localhost:8080/"
        },
        "outputId": "ed1aa923-c26a-4aed-8606-96f0bfc5dee4"
      },
      "execution_count": null,
      "outputs": [
        {
          "output_type": "stream",
          "name": "stdout",
          "text": [
            "Fitting 2 folds for each of 1 candidates, totalling 2 fits\n"
          ]
        },
        {
          "output_type": "execute_result",
          "data": {
            "text/plain": [
              "RandomizedSearchCV(cv=2,\n",
              "                   estimator=Pipeline(steps=[('preprocess',\n",
              "                                              ColumnTransformer(transformers=[('num',\n",
              "                                                                               Pipeline(steps=[('imputer',\n",
              "                                                                                                SimpleImputer(strategy='median')),\n",
              "                                                                                               ('scaler',\n",
              "                                                                                                StandardScaler())]),\n",
              "                                                                               [5,\n",
              "                                                                                6,\n",
              "                                                                                7,\n",
              "                                                                                8,\n",
              "                                                                                10,\n",
              "                                                                                11,\n",
              "                                                                                12,\n",
              "                                                                                14,\n",
              "                                                                                15,\n",
              "                                                                                16,\n",
              "                                                                                17,\n",
              "                                                                                21]),\n",
              "                                                                              ('cat',\n",
              "                                                                               Pipeline(steps=[('imputer',\n",
              "                                                                                                SimpleImputer(strategy='constant')),\n",
              "                                                                                               ('ohe',\n",
              "                                                                                                OneHotEncoder(handle_unknown='ignore',\n",
              "                                                                                                              sparse...\n",
              "                                                                               Pipeline(steps=[('Text',\n",
              "                                                                                                TfidfVectorizer(lowercase=False,\n",
              "                                                                                                                ngram_range=(1,\n",
              "                                                                                                                             3),\n",
              "                                                                                                                stop_words='english'))]),\n",
              "                                                                               'content')])),\n",
              "                                             ('et',\n",
              "                                              ExtraTreesRegressor(random_state=42))]),\n",
              "                   n_iter=1, n_jobs=-1,\n",
              "                   param_distributions=[{'et__max_depth': [10, 13, 15, 18, 20],\n",
              "                                         'et__min_samples_split': [1.0, 5, 10,\n",
              "                                                                   15],\n",
              "                                         'et__n_estimators': [1000, 1100, 1200,\n",
              "                                                              1300, 1400,\n",
              "                                                              1500]}],\n",
              "                   scoring='neg_mean_squared_error', verbose=1)"
            ]
          },
          "metadata": {},
          "execution_count": 65
        }
      ]
    },
    {
      "cell_type": "code",
      "source": [
        "print('Best Parameters:', et_RandomGrid.best_params_)\n",
        "print('Best Mean Squared Error:', round((et_RandomGrid.best_score_ * -1), 4))"
      ],
      "metadata": {
        "id": "PbhUv0ylbcvc",
        "colab": {
          "base_uri": "https://localhost:8080/"
        },
        "outputId": "53bbbaf1-b7c3-40f3-d610-b1da7288686d"
      },
      "execution_count": null,
      "outputs": [
        {
          "output_type": "stream",
          "name": "stdout",
          "text": [
            "Best Parameters: {'et__n_estimators': 1000, 'et__min_samples_split': 10, 'et__max_depth': 20}\n",
            "Best Mean Squared Error: 0.1135\n"
          ]
        }
      ]
    },
    {
      "cell_type": "markdown",
      "source": [
        "## Random Forest Regressor "
      ],
      "metadata": {
        "id": "wbBmNb6Ob31o"
      }
    },
    {
      "cell_type": "code",
      "source": [
        "from sklearn.model_selection import RandomizedSearchCV\n",
        "pipe_rf = Pipeline(steps=[(\"preprocess\", preprocessing), \n",
        "                                    (\"rf\", RandomForestRegressor(random_state = 42))])\n",
        "rf_grid = {'rf__n_estimators': [1000, 1200, 1300, 1400, 1500],\n",
        "               'rf__max_features': ['auto', 'log2'],\n",
        "               'rf__min_samples_split': [1.0, 5, 10, 15],\n",
        "               'rf__max_depth': [3, 5, 10, 15]}\n",
        "rf_RandomGrid = RandomizedSearchCV(estimator = pipe_rf, \n",
        "                                   param_distributions = rf_grid, \n",
        "                                   scoring ='neg_mean_squared_error',\n",
        "                                   cv = 2, \n",
        "                                   n_jobs = -1,\n",
        "                                   n_iter = 1,\n",
        "                                   verbose = 1)\n",
        "rf_RandomGrid.fit(X_train, y_train)"
      ],
      "metadata": {
        "id": "H1MN4DmFh6S-",
        "colab": {
          "base_uri": "https://localhost:8080/"
        },
        "outputId": "c0d74b97-e2b1-4416-a608-95bec3c2d934"
      },
      "execution_count": null,
      "outputs": [
        {
          "output_type": "stream",
          "name": "stdout",
          "text": [
            "Fitting 2 folds for each of 1 candidates, totalling 2 fits\n"
          ]
        },
        {
          "output_type": "execute_result",
          "data": {
            "text/plain": [
              "RandomizedSearchCV(cv=2,\n",
              "                   estimator=Pipeline(steps=[('preprocess',\n",
              "                                              ColumnTransformer(transformers=[('num',\n",
              "                                                                               Pipeline(steps=[('imputer',\n",
              "                                                                                                SimpleImputer(strategy='median')),\n",
              "                                                                                               ('scaler',\n",
              "                                                                                                StandardScaler())]),\n",
              "                                                                               [5,\n",
              "                                                                                6,\n",
              "                                                                                7,\n",
              "                                                                                8,\n",
              "                                                                                10,\n",
              "                                                                                11,\n",
              "                                                                                12,\n",
              "                                                                                14,\n",
              "                                                                                15,\n",
              "                                                                                16,\n",
              "                                                                                17,\n",
              "                                                                                21]),\n",
              "                                                                              ('cat',\n",
              "                                                                               Pipeline(steps=[('imputer',\n",
              "                                                                                                SimpleImputer(strategy='constant')),\n",
              "                                                                                               ('ohe',\n",
              "                                                                                                OneHotEncoder(handle_unknown='ignore',\n",
              "                                                                                                              sparse...\n",
              "                                                                                                TfidfVectorizer(lowercase=False,\n",
              "                                                                                                                ngram_range=(1,\n",
              "                                                                                                                             3),\n",
              "                                                                                                                stop_words='english'))]),\n",
              "                                                                               'content')])),\n",
              "                                             ('rf',\n",
              "                                              RandomForestRegressor(random_state=42))]),\n",
              "                   n_iter=1, n_jobs=-1,\n",
              "                   param_distributions={'rf__max_depth': [3, 5, 10, 15],\n",
              "                                        'rf__max_features': ['auto', 'log2'],\n",
              "                                        'rf__min_samples_split': [1.0, 5, 10,\n",
              "                                                                  15],\n",
              "                                        'rf__n_estimators': [1000, 1200, 1300,\n",
              "                                                             1400, 1500]},\n",
              "                   scoring='neg_mean_squared_error', verbose=1)"
            ]
          },
          "metadata": {},
          "execution_count": 67
        }
      ]
    },
    {
      "cell_type": "code",
      "source": [
        "print('Best Parameters:', rf_RandomGrid.best_params_)\n",
        "print('Best Mean Squared Error:', round((rf_RandomGrid.best_score_ * -1), 4))"
      ],
      "metadata": {
        "id": "1MR9xHuB9tJF",
        "colab": {
          "base_uri": "https://localhost:8080/"
        },
        "outputId": "e8e181a3-6cba-43a7-e92c-7727d32bb877"
      },
      "execution_count": null,
      "outputs": [
        {
          "output_type": "stream",
          "name": "stdout",
          "text": [
            "Best Parameters: {'rf__n_estimators': 1500, 'rf__min_samples_split': 10, 'rf__max_features': 'log2', 'rf__max_depth': 3}\n",
            "Best Mean Squared Error: 0.1197\n"
          ]
        }
      ]
    },
    {
      "cell_type": "code",
      "source": [
        "pipe_rf = Pipeline(steps=[(\"preprocess\", preprocessing), \n",
        "                                    (\"rf\", RandomForestRegressor(random_state = 42))])\n",
        "rf_grid1 = {'rf__n_estimators': [500, 700, 800, 1000, 1100, 1200, 1300, 1400, 1500],\n",
        "               'rf__max_features': ['auto', 'log2'],\n",
        "               'rf__min_samples_split': [1.0, 5, 10, 15],\n",
        "               'rf__max_depth': [5, 10, 12, 14, 15, 18]}\n",
        "rf_RandomGrid1 = RandomizedSearchCV(estimator = pipe_rf, \n",
        "                                   param_distributions = rf_grid1, \n",
        "                                   scoring ='neg_mean_squared_error',\n",
        "                                   cv = 2, \n",
        "                                   n_jobs = -1,\n",
        "                                   n_iter = 1,\n",
        "                                   verbose = 1)\n",
        "rf_RandomGrid1.fit(X_train, y_train)"
      ],
      "metadata": {
        "id": "zlq_kmgq011e",
        "colab": {
          "base_uri": "https://localhost:8080/"
        },
        "outputId": "fe3f775e-abd6-4e43-baac-3c913f75fc6a"
      },
      "execution_count": null,
      "outputs": [
        {
          "output_type": "stream",
          "name": "stdout",
          "text": [
            "Fitting 2 folds for each of 1 candidates, totalling 2 fits\n"
          ]
        },
        {
          "output_type": "execute_result",
          "data": {
            "text/plain": [
              "RandomizedSearchCV(cv=2,\n",
              "                   estimator=Pipeline(steps=[('preprocess',\n",
              "                                              ColumnTransformer(transformers=[('num',\n",
              "                                                                               Pipeline(steps=[('imputer',\n",
              "                                                                                                SimpleImputer(strategy='median')),\n",
              "                                                                                               ('scaler',\n",
              "                                                                                                StandardScaler())]),\n",
              "                                                                               [5,\n",
              "                                                                                6,\n",
              "                                                                                7,\n",
              "                                                                                8,\n",
              "                                                                                10,\n",
              "                                                                                11,\n",
              "                                                                                12,\n",
              "                                                                                14,\n",
              "                                                                                15,\n",
              "                                                                                16,\n",
              "                                                                                17,\n",
              "                                                                                21]),\n",
              "                                                                              ('cat',\n",
              "                                                                               Pipeline(steps=[('imputer',\n",
              "                                                                                                SimpleImputer(strategy='constant')),\n",
              "                                                                                               ('ohe',\n",
              "                                                                                                OneHotEncoder(handle_unknown='ignore',\n",
              "                                                                                                              sparse...\n",
              "                                                                                                                ngram_range=(1,\n",
              "                                                                                                                             3),\n",
              "                                                                                                                stop_words='english'))]),\n",
              "                                                                               'content')])),\n",
              "                                             ('rf',\n",
              "                                              RandomForestRegressor(random_state=42))]),\n",
              "                   n_iter=1, n_jobs=-1,\n",
              "                   param_distributions={'rf__max_depth': [5, 10, 12, 14, 15,\n",
              "                                                          18],\n",
              "                                        'rf__max_features': ['auto', 'log2'],\n",
              "                                        'rf__min_samples_split': [1.0, 5, 10,\n",
              "                                                                  15],\n",
              "                                        'rf__n_estimators': [500, 700, 800,\n",
              "                                                             1000, 1100, 1200,\n",
              "                                                             1300, 1400,\n",
              "                                                             1500]},\n",
              "                   scoring='neg_mean_squared_error', verbose=1)"
            ]
          },
          "metadata": {},
          "execution_count": 69
        }
      ]
    },
    {
      "cell_type": "code",
      "source": [
        "print('Best Parameters:', rf_RandomGrid1.best_params_)\n",
        "print('Best Mean Squared Error:', round((rf_RandomGrid1.best_score_ * -1), 4))"
      ],
      "metadata": {
        "id": "fIokeG3q01KT",
        "colab": {
          "base_uri": "https://localhost:8080/"
        },
        "outputId": "643f9ce7-2e86-4730-b807-9249fea5e396"
      },
      "execution_count": null,
      "outputs": [
        {
          "output_type": "stream",
          "name": "stdout",
          "text": [
            "Best Parameters: {'rf__n_estimators': 1000, 'rf__min_samples_split': 1.0, 'rf__max_features': 'auto', 'rf__max_depth': 5}\n",
            "Best Mean Squared Error: 0.12\n"
          ]
        }
      ]
    },
    {
      "cell_type": "code",
      "source": [
        "rf_model = Pipeline(steps=[(\"preprocess\", preprocessing), \n",
        "                  ('svr', RandomForestRegressor(random_state = 2022, max_features = 'sqrt', n_estimators = 1300))])\n",
        "rf_model.fit(X_train, y_train)\n",
        "cv_rf = cross_val_score(rf_model, X_train, y_train, scoring='neg_mean_squared_error', cv=2)\n",
        "print('Cross Validation Score Array:', cv_rf * -1)\n",
        "print('Average CV:', round(-cv_rf.mean(), 4))"
      ],
      "metadata": {
        "colab": {
          "base_uri": "https://localhost:8080/"
        },
        "id": "SuMiUZXkr-Ub",
        "outputId": "ea8970fc-e457-4c34-8bd2-18c06a1b69e9"
      },
      "execution_count": null,
      "outputs": [
        {
          "output_type": "stream",
          "name": "stdout",
          "text": [
            "Cross Validation Score Array: [0.1062035  0.11967331]\n",
            "Average CV: 0.1129\n"
          ]
        }
      ]
    },
    {
      "cell_type": "markdown",
      "source": [
        "## Gradient Boosting Regressor"
      ],
      "metadata": {
        "id": "zWChMLuZRv2i"
      }
    },
    {
      "cell_type": "code",
      "source": [
        "from sklearn.model_selection import RandomizedSearchCV\n",
        "pipe_gbr = Pipeline(steps=[(\"preprocess\", preprocessing), \n",
        "                                    (\"gbr\", GradientBoostingRegressor(random_state = 42))])\n",
        "gbr_grid = {'gbr__n_estimators': [500, 700, 800, 1000, 1100, 1200, 1300, 1400, 1500],\n",
        "               'gbr__max_features': range(7,20,2),\n",
        "               'gbr__min_samples_split': [1.0, 5, 10, 15],\n",
        "               'gbr__max_depth': [5, 10, 12, 14, 15, 18]}\n",
        "gbr_RandomGrid = RandomizedSearchCV(estimator = pipe_gbr, \n",
        "                                   param_distributions = gbr_grid, \n",
        "                                   scoring ='neg_mean_squared_error',\n",
        "                                   cv = 2, \n",
        "                                   n_jobs = -1,\n",
        "                                   n_iter = 1,\n",
        "                                   verbose = 1)\n",
        "gbr_RandomGrid.fit(X_train, y_train)"
      ],
      "metadata": {
        "id": "rTrBkwT_BmFD",
        "colab": {
          "base_uri": "https://localhost:8080/"
        },
        "outputId": "dceca4fb-ed3a-49c4-e96f-26e5f5dde2bc"
      },
      "execution_count": null,
      "outputs": [
        {
          "output_type": "stream",
          "name": "stdout",
          "text": [
            "Fitting 2 folds for each of 1 candidates, totalling 2 fits\n"
          ]
        },
        {
          "output_type": "execute_result",
          "data": {
            "text/plain": [
              "RandomizedSearchCV(cv=2,\n",
              "                   estimator=Pipeline(steps=[('preprocess',\n",
              "                                              ColumnTransformer(transformers=[('num',\n",
              "                                                                               Pipeline(steps=[('imputer',\n",
              "                                                                                                SimpleImputer(strategy='median')),\n",
              "                                                                                               ('scaler',\n",
              "                                                                                                StandardScaler())]),\n",
              "                                                                               [5,\n",
              "                                                                                6,\n",
              "                                                                                7,\n",
              "                                                                                8,\n",
              "                                                                                10,\n",
              "                                                                                11,\n",
              "                                                                                12,\n",
              "                                                                                14,\n",
              "                                                                                15,\n",
              "                                                                                16,\n",
              "                                                                                17,\n",
              "                                                                                21]),\n",
              "                                                                              ('cat',\n",
              "                                                                               Pipeline(steps=[('imputer',\n",
              "                                                                                                SimpleImputer(strategy='constant')),\n",
              "                                                                                               ('ohe',\n",
              "                                                                                                OneHotEncoder(handle_unknown='ignore',\n",
              "                                                                                                              sparse...\n",
              "                                                                                                                             3),\n",
              "                                                                                                                stop_words='english'))]),\n",
              "                                                                               'content')])),\n",
              "                                             ('gbr',\n",
              "                                              GradientBoostingRegressor(random_state=42))]),\n",
              "                   n_iter=1, n_jobs=-1,\n",
              "                   param_distributions={'gbr__max_depth': [5, 10, 12, 14, 15,\n",
              "                                                           18],\n",
              "                                        'gbr__max_features': range(7, 20, 2),\n",
              "                                        'gbr__min_samples_split': [1.0, 5, 10,\n",
              "                                                                   15],\n",
              "                                        'gbr__n_estimators': [500, 700, 800,\n",
              "                                                              1000, 1100, 1200,\n",
              "                                                              1300, 1400,\n",
              "                                                              1500]},\n",
              "                   scoring='neg_mean_squared_error', verbose=1)"
            ]
          },
          "metadata": {},
          "execution_count": 71
        }
      ]
    },
    {
      "cell_type": "code",
      "source": [
        "print('Best Parameters:', gbr_RandomGrid.best_params_)\n",
        "print('Best Mean Squared Error:', round((gbr_RandomGrid.best_score_ * -1), 4))"
      ],
      "metadata": {
        "id": "ZeiFsAe1DkDo",
        "colab": {
          "base_uri": "https://localhost:8080/"
        },
        "outputId": "048cf8b7-80f4-404f-df5e-f8d0b41c134e"
      },
      "execution_count": null,
      "outputs": [
        {
          "output_type": "stream",
          "name": "stdout",
          "text": [
            "Best Parameters: {'gbr__n_estimators': 800, 'gbr__min_samples_split': 10, 'gbr__max_features': 17, 'gbr__max_depth': 18}\n",
            "Best Mean Squared Error: 0.1148\n"
          ]
        }
      ]
    },
    {
      "cell_type": "code",
      "source": [
        "pipe_gbr = Pipeline(steps=[(\"preprocess\", preprocessing), \n",
        "                                    (\"gbr\", GradientBoostingRegressor(random_state = 42))])\n",
        "gbr_grid1 = {'gbr__n_estimators': [40, 50, 60, 70],\n",
        "               'gbr__max_features': range(7,20,2),\n",
        "               'gbr__min_samples_split': range(1000,2100,200),\n",
        "               'gbr__max_depth': [6, 8, 10, 12, 13, 14, 15]}\n",
        "gbr_RandomGrid1 = RandomizedSearchCV(estimator = pipe_gbr, \n",
        "                                   param_distributions = gbr_grid1, \n",
        "                                   scoring ='neg_mean_squared_error',\n",
        "                                   cv = 2, \n",
        "                                   n_jobs = -1,\n",
        "                                   n_iter = 1,\n",
        "                                   verbose = 1)\n",
        "gbr_RandomGrid1.fit(X_train, y_train)"
      ],
      "metadata": {
        "id": "dIit47XzEEKR",
        "colab": {
          "base_uri": "https://localhost:8080/"
        },
        "outputId": "da5bf301-1068-44f6-d5b6-736dabcbaca0"
      },
      "execution_count": null,
      "outputs": [
        {
          "output_type": "stream",
          "name": "stdout",
          "text": [
            "Fitting 2 folds for each of 1 candidates, totalling 2 fits\n"
          ]
        },
        {
          "output_type": "execute_result",
          "data": {
            "text/plain": [
              "RandomizedSearchCV(cv=2,\n",
              "                   estimator=Pipeline(steps=[('preprocess',\n",
              "                                              ColumnTransformer(transformers=[('num',\n",
              "                                                                               Pipeline(steps=[('imputer',\n",
              "                                                                                                SimpleImputer(strategy='median')),\n",
              "                                                                                               ('scaler',\n",
              "                                                                                                StandardScaler())]),\n",
              "                                                                               [5,\n",
              "                                                                                6,\n",
              "                                                                                7,\n",
              "                                                                                8,\n",
              "                                                                                10,\n",
              "                                                                                11,\n",
              "                                                                                12,\n",
              "                                                                                14,\n",
              "                                                                                15,\n",
              "                                                                                16,\n",
              "                                                                                17,\n",
              "                                                                                21]),\n",
              "                                                                              ('cat',\n",
              "                                                                               Pipeline(steps=[('imputer',\n",
              "                                                                                                SimpleImputer(strategy='constant')),\n",
              "                                                                                               ('ohe',\n",
              "                                                                                                OneHotEncoder(handle_unknown='ignore',\n",
              "                                                                                                              sparse...\n",
              "                                                                                                TfidfVectorizer(lowercase=False,\n",
              "                                                                                                                ngram_range=(1,\n",
              "                                                                                                                             3),\n",
              "                                                                                                                stop_words='english'))]),\n",
              "                                                                               'content')])),\n",
              "                                             ('gbr',\n",
              "                                              GradientBoostingRegressor(random_state=42))]),\n",
              "                   n_iter=1, n_jobs=-1,\n",
              "                   param_distributions={'gbr__max_depth': [6, 8, 10, 12, 13, 14,\n",
              "                                                           15],\n",
              "                                        'gbr__max_features': range(7, 20, 2),\n",
              "                                        'gbr__min_samples_split': range(1000, 2100, 200),\n",
              "                                        'gbr__n_estimators': [40, 50, 60, 70]},\n",
              "                   scoring='neg_mean_squared_error', verbose=1)"
            ]
          },
          "metadata": {},
          "execution_count": 73
        }
      ]
    },
    {
      "cell_type": "code",
      "source": [
        "print('Best Parameters:', gbr_RandomGrid1.best_params_)\n",
        "print('Best Mean Squared Error:', round((gbr_RandomGrid1.best_score_ * -1), 4))"
      ],
      "metadata": {
        "id": "SxNqCRVwFYtP",
        "colab": {
          "base_uri": "https://localhost:8080/"
        },
        "outputId": "8526ec91-48cd-48b7-8aec-624885ea5162"
      },
      "execution_count": null,
      "outputs": [
        {
          "output_type": "stream",
          "name": "stdout",
          "text": [
            "Best Parameters: {'gbr__n_estimators': 40, 'gbr__min_samples_split': 2000, 'gbr__max_features': 11, 'gbr__max_depth': 10}\n",
            "Best Mean Squared Error: 0.12\n"
          ]
        }
      ]
    },
    {
      "cell_type": "markdown",
      "source": [
        "## Decision Tree Regressor"
      ],
      "metadata": {
        "id": "e7A-P4trR7Tn"
      }
    },
    {
      "cell_type": "code",
      "source": [
        "from sklearn.model_selection import RandomizedSearchCV\n",
        "pipe_dt = Pipeline(steps=[(\"preprocess\", preprocessing), \n",
        "                                    (\"dt\", DecisionTreeRegressor(random_state = 42))])\n",
        "dt_grid = {'dt__criterion': [\"friedman_mse\", \"squared_error\", \"absolute_error\"],\n",
        "               'dt__max_features': range(7,20,2),\n",
        "               'dt__min_samples_split': [1.0, 5, 10, 15],\n",
        "               'dt__max_depth': [10, 15, 20, 25, 30]}\n",
        "dt_RandomGrid = RandomizedSearchCV(estimator = pipe_dt, \n",
        "                                   param_distributions = dt_grid, \n",
        "                                   scoring ='neg_mean_squared_error',\n",
        "                                   cv = 2, \n",
        "                                   n_jobs = -1,\n",
        "                                   n_iter = 1,\n",
        "                                   verbose = 1)\n",
        "dt_RandomGrid.fit(X_train, y_train)"
      ],
      "metadata": {
        "id": "aGopyktvG_tR",
        "colab": {
          "base_uri": "https://localhost:8080/"
        },
        "outputId": "918af5fd-9daf-4ac9-9661-0bea5e328094"
      },
      "execution_count": null,
      "outputs": [
        {
          "output_type": "stream",
          "name": "stdout",
          "text": [
            "Fitting 2 folds for each of 1 candidates, totalling 2 fits\n"
          ]
        },
        {
          "output_type": "execute_result",
          "data": {
            "text/plain": [
              "RandomizedSearchCV(cv=2,\n",
              "                   estimator=Pipeline(steps=[('preprocess',\n",
              "                                              ColumnTransformer(transformers=[('num',\n",
              "                                                                               Pipeline(steps=[('imputer',\n",
              "                                                                                                SimpleImputer(strategy='median')),\n",
              "                                                                                               ('scaler',\n",
              "                                                                                                StandardScaler())]),\n",
              "                                                                               [5,\n",
              "                                                                                6,\n",
              "                                                                                7,\n",
              "                                                                                8,\n",
              "                                                                                10,\n",
              "                                                                                11,\n",
              "                                                                                12,\n",
              "                                                                                14,\n",
              "                                                                                15,\n",
              "                                                                                16,\n",
              "                                                                                17,\n",
              "                                                                                21]),\n",
              "                                                                              ('cat',\n",
              "                                                                               Pipeline(steps=[('imputer',\n",
              "                                                                                                SimpleImputer(strategy='constant')),\n",
              "                                                                                               ('ohe',\n",
              "                                                                                                OneHotEncoder(handle_unknown='ignore',\n",
              "                                                                                                              sparse...\n",
              "                                                                                                                ngram_range=(1,\n",
              "                                                                                                                             3),\n",
              "                                                                                                                stop_words='english'))]),\n",
              "                                                                               'content')])),\n",
              "                                             ('dt',\n",
              "                                              DecisionTreeRegressor(random_state=42))]),\n",
              "                   n_iter=1, n_jobs=-1,\n",
              "                   param_distributions={'dt__criterion': ['friedman_mse',\n",
              "                                                          'squared_error',\n",
              "                                                          'absolute_error'],\n",
              "                                        'dt__max_depth': [10, 15, 20, 25, 30],\n",
              "                                        'dt__max_features': range(7, 20, 2),\n",
              "                                        'dt__min_samples_split': [1.0, 5, 10,\n",
              "                                                                  15]},\n",
              "                   scoring='neg_mean_squared_error', verbose=1)"
            ]
          },
          "metadata": {},
          "execution_count": 77
        }
      ]
    },
    {
      "cell_type": "code",
      "source": [
        "print('Best Parameters:', dt_RandomGrid.best_params_)\n",
        "print('Best Mean Squared Error:', round((dt_RandomGrid.best_score_ * -1), 4))"
      ],
      "metadata": {
        "id": "yIitYykFJZXG",
        "colab": {
          "base_uri": "https://localhost:8080/"
        },
        "outputId": "60421492-297c-4565-babe-c56ac2702ca6"
      },
      "execution_count": null,
      "outputs": [
        {
          "output_type": "stream",
          "name": "stdout",
          "text": [
            "Best Parameters: {'dt__min_samples_split': 5, 'dt__max_features': 19, 'dt__max_depth': 10, 'dt__criterion': 'absolute_error'}\n",
            "Best Mean Squared Error: 0.1521\n"
          ]
        }
      ]
    },
    {
      "cell_type": "markdown",
      "source": [
        "## Final Model Selection \n",
        "\n",
        "The best model was Support Vector Regression with tuned hyperparameters."
      ],
      "metadata": {
        "id": "M9YPgx98Fht4"
      }
    },
    {
      "cell_type": "code",
      "source": [
        "models = {'Linear Regression \\n Baseline': 0.6713,\n",
        "          'Decision Tree \\n Baseline': 0.2144,\n",
        "          'SGD Regressor \\n Tuned': 0.1812,\n",
        "          'Decision Tree \\n Tuned': 0.1521,\n",
        "          'Gradient Boosting \\n Tuned': 0.1148,\n",
        "          'Extra Trees \\n Tuned': 0.1135,\n",
        "          'Random Forest \\n Baseline': 0.1086,\n",
        "          'SVR Tuned': 0.108}"
      ],
      "metadata": {
        "id": "W5wdnNGb376P"
      },
      "execution_count": null,
      "outputs": []
    },
    {
      "cell_type": "code",
      "source": [
        "fig, ax = plt.subplots(figsize=(13, 8))\n",
        "fig.set_tight_layout(True)\n",
        "sns.set_style('darkgrid')\n",
        "\n",
        "xticklabels = list(models.keys())\n",
        "y = list(models.values())\n",
        "\n",
        "sns.barplot(x=xticklabels, y=y, palette='PuRd_r')\n",
        "ax.set(ylim=(0, 0.8))\n",
        "ax.set_xticklabels(ax.get_xticklabels(), rotation = 45, horizontalalignment='center', fontsize=15)\n",
        "ax.set_ylabel('Mean Squared Error', fontsize=15)\n",
        "ax.set_title('Predictive Model Improvement', fontsize=15);\n"
      ],
      "metadata": {
        "colab": {
          "base_uri": "https://localhost:8080/",
          "height": 581
        },
        "id": "qemUMT6K5TiF",
        "outputId": "434672cf-d0e2-44dd-9eea-7edfc68aca65"
      },
      "execution_count": null,
      "outputs": [
        {
          "output_type": "display_data",
          "data": {
            "text/plain": [
              "<Figure size 936x576 with 1 Axes>"
            ],
            "image/png": "[encoded data removed]"
          },
          "metadata": {}
        }
      ]
    },
    {
      "cell_type": "code",
      "source": [
        "# Support Vector Regression\n",
        "svr_model = Pipeline(steps=[(\"preprocess\", preprocessing), \n",
        "                  ('svr', SVR(C = 1, gamma=0.1))])\n",
        "svr_model.fit(X_train, y_train)\n",
        "cv_svr = cross_val_score(svr_model, X_train, y_train, scoring='neg_mean_squared_error', cv=2)\n",
        "print('Cross Validation Score Array:', cv_svr * -1)\n",
        "print('Average CV:', round(-cv_svr.mean(), 4))"
      ],
      "metadata": {
        "colab": {
          "base_uri": "https://localhost:8080/"
        },
        "id": "_wuU-Jqzqt7J",
        "outputId": "ee4feb43-e6c9-4018-b03f-a2d3b5b13133"
      },
      "execution_count": null,
      "outputs": [
        {
          "output_type": "stream",
          "name": "stdout",
          "text": [
            "Cross Validation Score Array: [0.105286   0.11238067]\n",
            "Average CV: 0.1088\n"
          ]
        }
      ]
    },
    {
      "cell_type": "code",
      "source": [
        "print('Best Model: Support Vector Regressor')\n",
        "svr_y_pred = svr_model.predict(X_test)\n",
        "print('Test Mean Squared Error:', round((mean_squared_error(y_test, svr_y_pred)), 4))"
      ],
      "metadata": {
        "colab": {
          "base_uri": "https://localhost:8080/"
        },
        "id": "Tj5JqDTtvo5B",
        "outputId": "8267472e-c222-4237-989c-c15e4ef93a0b"
      },
      "execution_count": null,
      "outputs": [
        {
          "output_type": "stream",
          "name": "stdout",
          "text": [
            "Best Model: Support Vector Regressor\n",
            "Test Mean Squared Error: 0.1076\n"
          ]
        }
      ]
    },
    {
      "cell_type": "code",
      "source": [
        "# Permutation Importance of SVR \n",
        "result = permutation_importance(svr_model, X_test, y_test, n_repeats = 10, random_state =  2022)\n",
        "sorted_index = result.importances_mean.argsort()\n",
        "\n",
        "fig, ax = plt.subplots(figsize=(15, 8))\n",
        "ax.boxplot(result.importances[sorted_index].T, vert=False, labels=X.columns[sorted_index])\n",
        "\n",
        "ax.set_title('Permutation Importances')\n",
        "fig.show()"
      ],
      "metadata": {
        "id": "LZfny3MdKmvk",
        "colab": {
          "base_uri": "https://localhost:8080/",
          "height": 501
        },
        "outputId": "dc3be6fc-457d-4f49-8e96-11a8322c77a3"
      },
      "execution_count": null,
      "outputs": [
        {
          "output_type": "display_data",
          "data": {
            "text/plain": [
              "<Figure size 1080x576 with 1 Axes>"
            ],
            "image/png": "[encoded data removed]"
          },
          "metadata": {}
        }
      ]
    },
    {
      "cell_type": "code",
      "source": [
        "perm_features = pd.DataFrame(dict(feature_names = X_test.columns.tolist(),\n",
        "                                  feature_importance = result.importances_mean))\n",
        "# Displaying importances from highest to lowest\n",
        "perm_features.sort_values('feature_importance', ascending=False)"
      ],
      "metadata": {
        "id": "crBl7PgLNJpJ",
        "colab": {
          "base_uri": "https://localhost:8080/",
          "height": 771
        },
        "outputId": "bd3f0b90-f6f4-478e-e947-b2d6d60accee"
      },
      "execution_count": null,
      "outputs": [
        {
          "output_type": "execute_result",
          "data": {
            "text/plain": [
              "                   feature_names  feature_importance\n",
              "10                         price            0.095479\n",
              "4                      room_type            0.063029\n",
              "7                       bedrooms            0.053042\n",
              "2   neighbourhood_group_cleansed            0.049726\n",
              "17             number_of_reviews            0.038116\n",
              "5                   accommodates            0.030693\n",
              "3                  property_type            0.029652\n",
              "0             host_response_time            0.027453\n",
              "12                  cleaning_fee            0.027358\n",
              "6                      bathrooms            0.024658\n",
              "19           cancellation_policy            0.020212\n",
              "20                       content            0.020134\n",
              "21                   content_len            0.015799\n",
              "14                  extra_people            0.014848\n",
              "16                maximum_nights            0.012933\n",
              "13               guests_included            0.012728\n",
              "1              host_is_superhost            0.012520\n",
              "8                           beds            0.012175\n",
              "18     review_scores_cleanliness            0.010475\n",
              "11              security_deposit            0.001320\n",
              "15                minimum_nights            0.000028\n",
              "22         review_scores_rating_           -0.000779\n",
              "9                       bed_type           -0.004122"
            ],
            "text/html": [
              "\n",
              "  <div id=\"df-87d55277-bda3-4d7a-a3b0-6d967498b6c1\">\n",
              "    <div class=\"colab-df-container\">\n",
              "      <div>\n",
              "<style scoped>\n",
              "    .dataframe tbody tr th:only-of-type {\n",
              "        vertical-align: middle;\n",
              "    }\n",
              "\n",
              "    .dataframe tbody tr th {\n",
              "        vertical-align: top;\n",
              "    }\n",
              "\n",
              "    .dataframe thead th {\n",
              "        text-align: right;\n",
              "    }\n",
              "</style>\n",
              "<table border=\"1\" class=\"dataframe\">\n",
              "  <thead>\n",
              "    <tr style=\"text-align: right;\">\n",
              "      <th></th>\n",
              "      <th>feature_names</th>\n",
              "      <th>feature_importance</th>\n",
              "    </tr>\n",
              "  </thead>\n",
              "  <tbody>\n",
              "    <tr>\n",
              "      <th>10</th>\n",
              "      <td>price</td>\n",
              "      <td>0.095479</td>\n",
              "    </tr>\n",
              "    <tr>\n",
              "      <th>4</th>\n",
              "      <td>room_type</td>\n",
              "      <td>0.063029</td>\n",
              "    </tr>\n",
              "    <tr>\n",
              "      <th>7</th>\n",
              "      <td>bedrooms</td>\n",
              "      <td>0.053042</td>\n",
              "    </tr>\n",
              "    <tr>\n",
              "      <th>2</th>\n",
              "      <td>neighbourhood_group_cleansed</td>\n",
              "      <td>0.049726</td>\n",
              "    </tr>\n",
              "    <tr>\n",
              "      <th>17</th>\n",
              "      <td>number_of_reviews</td>\n",
              "      <td>0.038116</td>\n",
              "    </tr>\n",
              "    <tr>\n",
              "      <th>5</th>\n",
              "      <td>accommodates</td>\n",
              "      <td>0.030693</td>\n",
              "    </tr>\n",
              "    <tr>\n",
              "      <th>3</th>\n",
              "      <td>property_type</td>\n",
              "      <td>0.029652</td>\n",
              "    </tr>\n",
              "    <tr>\n",
              "      <th>0</th>\n",
              "      <td>host_response_time</td>\n",
              "      <td>0.027453</td>\n",
              "    </tr>\n",
              "    <tr>\n",
              "      <th>12</th>\n",
              "      <td>cleaning_fee</td>\n",
              "      <td>0.027358</td>\n",
              "    </tr>\n",
              "    <tr>\n",
              "      <th>6</th>\n",
              "      <td>bathrooms</td>\n",
              "      <td>0.024658</td>\n",
              "    </tr>\n",
              "    <tr>\n",
              "      <th>19</th>\n",
              "      <td>cancellation_policy</td>\n",
              "      <td>0.020212</td>\n",
              "    </tr>\n",
              "    <tr>\n",
              "      <th>20</th>\n",
              "      <td>content</td>\n",
              "      <td>0.020134</td>\n",
              "    </tr>\n",
              "    <tr>\n",
              "      <th>21</th>\n",
              "      <td>content_len</td>\n",
              "      <td>0.015799</td>\n",
              "    </tr>\n",
              "    <tr>\n",
              "      <th>14</th>\n",
              "      <td>extra_people</td>\n",
              "      <td>0.014848</td>\n",
              "    </tr>\n",
              "    <tr>\n",
              "      <th>16</th>\n",
              "      <td>maximum_nights</td>\n",
              "      <td>0.012933</td>\n",
              "    </tr>\n",
              "    <tr>\n",
              "      <th>13</th>\n",
              "      <td>guests_included</td>\n",
              "      <td>0.012728</td>\n",
              "    </tr>\n",
              "    <tr>\n",
              "      <th>1</th>\n",
              "      <td>host_is_superhost</td>\n",
              "      <td>0.012520</td>\n",
              "    </tr>\n",
              "    <tr>\n",
              "      <th>8</th>\n",
              "      <td>beds</td>\n",
              "      <td>0.012175</td>\n",
              "    </tr>\n",
              "    <tr>\n",
              "      <th>18</th>\n",
              "      <td>review_scores_cleanliness</td>\n",
              "      <td>0.010475</td>\n",
              "    </tr>\n",
              "    <tr>\n",
              "      <th>11</th>\n",
              "      <td>security_deposit</td>\n",
              "      <td>0.001320</td>\n",
              "    </tr>\n",
              "    <tr>\n",
              "      <th>15</th>\n",
              "      <td>minimum_nights</td>\n",
              "      <td>0.000028</td>\n",
              "    </tr>\n",
              "    <tr>\n",
              "      <th>22</th>\n",
              "      <td>review_scores_rating_</td>\n",
              "      <td>-0.000779</td>\n",
              "    </tr>\n",
              "    <tr>\n",
              "      <th>9</th>\n",
              "      <td>bed_type</td>\n",
              "      <td>-0.004122</td>\n",
              "    </tr>\n",
              "  </tbody>\n",
              "</table>\n",
              "</div>\n",
              "      <button class=\"colab-df-convert\" onclick=\"convertToInteractive('df-87d55277-bda3-4d7a-a3b0-6d967498b6c1')\"\n",
              "              title=\"Convert this dataframe to an interactive table.\"\n",
              "              style=\"display:none;\">\n",
              "        \n",
              "  <svg xmlns=\"http://www.w3.org/2000/svg\" height=\"24px\"viewBox=\"0 0 24 24\"\n",
              "       width=\"24px\">\n",
              "    <path d=\"M0 0h24v24H0V0z\" fill=\"none\"/>\n",
              "    <path d=\"M18.56 5.44l.94 2.06.94-2.06 2.06-.94-2.06-.94-.94-2.06-.94 2.06-2.06.94zm-11 1L8.5 8.5l.94-2.06 2.06-.94-2.06-.94L8.5 2.5l-.94 2.06-2.06.94zm10 10l.94 2.06.94-2.06 2.06-.94-2.06-.94-.94-2.06-.94 2.06-2.06.94z\"/><path d=\"M17.41 7.96l-1.37-1.37c-.4-.4-.92-.59-1.43-.59-.52 0-1.04.2-1.43.59L10.3 9.45l-7.72 7.72c-.78.78-.78 2.05 0 2.83L4 21.41c.39.39.9.59 1.41.59.51 0 1.02-.2 1.41-.59l7.78-7.78 2.81-2.81c.8-.78.8-2.07 0-2.86zM5.41 20L4 18.59l7.72-7.72 1.47 1.35L5.41 20z\"/>\n",
              "  </svg>\n",
              "      </button>\n",
              "      \n",
              "  <style>\n",
              "    .colab-df-container {\n",
              "      display:flex;\n",
              "      flex-wrap:wrap;\n",
              "      gap: 12px;\n",
              "    }\n",
              "\n",
              "    .colab-df-convert {\n",
              "      background-color: #E8F0FE;\n",
              "      border: none;\n",
              "      border-radius: 50%;\n",
              "      cursor: pointer;\n",
              "      display: none;\n",
              "      fill: #1967D2;\n",
              "      height: 32px;\n",
              "      padding: 0 0 0 0;\n",
              "      width: 32px;\n",
              "    }\n",
              "\n",
              "    .colab-df-convert:hover {\n",
              "      background-color: #E2EBFA;\n",
              "      box-shadow: 0px 1px 2px rgba(60, 64, 67, 0.3), 0px 1px 3px 1px rgba(60, 64, 67, 0.15);\n",
              "      fill: #174EA6;\n",
              "    }\n",
              "\n",
              "    [theme=dark] .colab-df-convert {\n",
              "      background-color: #3B4455;\n",
              "      fill: #D2E3FC;\n",
              "    }\n",
              "\n",
              "    [theme=dark] .colab-df-convert:hover {\n",
              "      background-color: #434B5C;\n",
              "      box-shadow: 0px 1px 3px 1px rgba(0, 0, 0, 0.15);\n",
              "      filter: drop-shadow(0px 1px 2px rgba(0, 0, 0, 0.3));\n",
              "      fill: #FFFFFF;\n",
              "    }\n",
              "  </style>\n",
              "\n",
              "      <script>\n",
              "        const buttonEl =\n",
              "          document.querySelector('#df-87d55277-bda3-4d7a-a3b0-6d967498b6c1 button.colab-df-convert');\n",
              "        buttonEl.style.display =\n",
              "          google.colab.kernel.accessAllowed ? 'block' : 'none';\n",
              "\n",
              "        async function convertToInteractive(key) {\n",
              "          const element = document.querySelector('#df-87d55277-bda3-4d7a-a3b0-6d967498b6c1');\n",
              "          const dataTable =\n",
              "            await google.colab.kernel.invokeFunction('convertToInteractive',\n",
              "                                                     [key], {});\n",
              "          if (!dataTable) return;\n",
              "\n",
              "          const docLinkHtml = 'Like what you see? Visit the ' +\n",
              "            '<a target=\"_blank\" href=https://colab.research.google.com/notebooks/data_table.ipynb>data table notebook</a>'\n",
              "            + ' to learn more about interactive tables.';\n",
              "          element.innerHTML = '';\n",
              "          dataTable['output_type'] = 'display_data';\n",
              "          await google.colab.output.renderOutput(dataTable, element);\n",
              "          const docLink = document.createElement('div');\n",
              "          docLink.innerHTML = docLinkHtml;\n",
              "          element.appendChild(docLink);\n",
              "        }\n",
              "      </script>\n",
              "    </div>\n",
              "  </div>\n",
              "  "
            ]
          },
          "metadata": {},
          "execution_count": 83
        }
      ]
    },
    {
      "cell_type": "code",
      "source": [
        "# The most important features for SVR\n",
        "top_features = perm_features.sort_values('feature_importance', ascending=False)[0:10]\n",
        "top_names = ['Price', 'Room Type', 'Bedrooms', 'Location', 'Number of Reviews', 'Number of Guests',\n",
        "             'Property Type', 'Host Response Time', 'Cleaning Fee', 'Bathrooms']\n",
        "plt.figure(figsize=(10, 6))\n",
        "\n",
        "ax = sns.barplot(x='feature_names', y='feature_importance', data=top_features, palette='mako')\n",
        "ax.set_xlabel('Features', fontsize=15)\n",
        "ax.set_ylabel('Mean Importances', fontsize=15)\n",
        "ax.set_title('Top 10 Important Features SVR', fontsize=15)\n",
        "plt.xticks(range(len(top_names)), top_names, rotation=90, ha='center')\n",
        "plt.yticks(np.arange(0, 0.1, step=0.010))\n",
        "plt.show()"
      ],
      "metadata": {
        "id": "um3SMuT0k1Ab",
        "colab": {
          "base_uri": "https://localhost:8080/",
          "height": 516
        },
        "outputId": "53c4e225-6d1f-4641-959d-96f4940c0aaa"
      },
      "execution_count": 145,
      "outputs": [
        {
          "output_type": "display_data",
          "data": {
            "text/plain": [
              "<Figure size 720x432 with 1 Axes>"
            ],
            "image/png": "[encoded data removed]"
          },
          "metadata": {}
        }
      ]
    },
    {
      "cell_type": "code",
      "source": [
        "# Permutation Importance of Random Forest\n",
        "rf_bestmodel = Pipeline(steps=[(\"preprocess\", preprocessing), \n",
        "                  ('rf', RandomForestRegressor(random_state = 2022))])\n",
        "rf_bestmodel.fit(X_train, y_train)\n",
        "rf_y_pred = rf_bestmodel.predict(X_test)\n",
        "print('Test Mean Squared Error:', round((mean_squared_error(y_test, rf_y_pred)), 4))\n",
        "cv_rfm = cross_val_score(rf_bestmodel, X_train, y_train, scoring='neg_mean_squared_error', cv=2)\n",
        "print('Cross Validation Score Array:', cv_rfm * -1)\n",
        "print('Average CV:', round(-cv_rfm.mean(), 4))"
      ],
      "metadata": {
        "id": "m4rZnVoj6xcI",
        "colab": {
          "base_uri": "https://localhost:8080/"
        },
        "outputId": "039e4ce8-2cb1-46ef-8d22-e03693c26c09"
      },
      "execution_count": 95,
      "outputs": [
        {
          "output_type": "stream",
          "name": "stdout",
          "text": [
            "Test Mean Squared Error: 0.108\n",
            "Cross Validation Score Array: [0.11001597 0.11542799]\n",
            "Average CV: 0.1127\n"
          ]
        }
      ]
    },
    {
      "cell_type": "code",
      "source": [
        "result_rf = permutation_importance(rf_bestmodel, X_test, y_test, n_repeats = 10, random_state =  2022)\n",
        "sorted_index_rf = result_rf.importances_mean.argsort()\n",
        "\n",
        "fig, ax = plt.subplots(figsize=(15, 8))\n",
        "ax.boxplot(result.importances[sorted_index_rf].T, vert=False, labels=X.columns[sorted_index])\n",
        "\n",
        "ax.set_title('Permutation Importances Random Forest')\n",
        "fig.show()"
      ],
      "metadata": {
        "colab": {
          "base_uri": "https://localhost:8080/",
          "height": 501
        },
        "id": "pVhgxuxxN7zQ",
        "outputId": "b93c3061-1bd5-42fa-a815-9c6969ef31d9"
      },
      "execution_count": 96,
      "outputs": [
        {
          "output_type": "display_data",
          "data": {
            "text/plain": [
              "<Figure size 1080x576 with 1 Axes>"
            ],
            "image/png": "[encoded data removed]"
          },
          "metadata": {}
        }
      ]
    },
    {
      "cell_type": "code",
      "source": [
        "perm_features_rf = pd.DataFrame(dict(feature_names = X_test.columns.tolist(),\n",
        "                                  feature_importance = result_rf.importances_mean))\n",
        "# Displaying importances from highest to lowest\n",
        "perm_features_rf.sort_values('feature_importance', ascending=False)"
      ],
      "metadata": {
        "colab": {
          "base_uri": "https://localhost:8080/",
          "height": 771
        },
        "id": "9qf_bHkAPUgH",
        "outputId": "150cd521-b64c-4023-b955-9421a501b49c"
      },
      "execution_count": 97,
      "outputs": [
        {
          "output_type": "execute_result",
          "data": {
            "text/plain": [
              "                   feature_names  feature_importance\n",
              "20                       content            0.125362\n",
              "17             number_of_reviews            0.044151\n",
              "4                      room_type            0.034039\n",
              "16                maximum_nights            0.017228\n",
              "21                   content_len            0.010018\n",
              "0             host_response_time            0.007062\n",
              "15                minimum_nights            0.003772\n",
              "12                  cleaning_fee            0.003659\n",
              "10                         price            0.003426\n",
              "19           cancellation_policy            0.001548\n",
              "18     review_scores_cleanliness            0.001191\n",
              "3                  property_type            0.000641\n",
              "6                      bathrooms            0.000517\n",
              "7                       bedrooms            0.000466\n",
              "13               guests_included            0.000418\n",
              "5                   accommodates            0.000225\n",
              "11              security_deposit            0.000179\n",
              "2   neighbourhood_group_cleansed            0.000121\n",
              "1              host_is_superhost            0.000102\n",
              "9                       bed_type            0.000094\n",
              "22         review_scores_rating_           -0.000066\n",
              "8                           beds           -0.000097\n",
              "14                  extra_people           -0.000227"
            ],
            "text/html": [
              "\n",
              "  <div id=\"df-51bc3f79-b363-4781-895a-7fd6376d63de\">\n",
              "    <div class=\"colab-df-container\">\n",
              "      <div>\n",
              "<style scoped>\n",
              "    .dataframe tbody tr th:only-of-type {\n",
              "        vertical-align: middle;\n",
              "    }\n",
              "\n",
              "    .dataframe tbody tr th {\n",
              "        vertical-align: top;\n",
              "    }\n",
              "\n",
              "    .dataframe thead th {\n",
              "        text-align: right;\n",
              "    }\n",
              "</style>\n",
              "<table border=\"1\" class=\"dataframe\">\n",
              "  <thead>\n",
              "    <tr style=\"text-align: right;\">\n",
              "      <th></th>\n",
              "      <th>feature_names</th>\n",
              "      <th>feature_importance</th>\n",
              "    </tr>\n",
              "  </thead>\n",
              "  <tbody>\n",
              "    <tr>\n",
              "      <th>20</th>\n",
              "      <td>content</td>\n",
              "      <td>0.125362</td>\n",
              "    </tr>\n",
              "    <tr>\n",
              "      <th>17</th>\n",
              "      <td>number_of_reviews</td>\n",
              "      <td>0.044151</td>\n",
              "    </tr>\n",
              "    <tr>\n",
              "      <th>4</th>\n",
              "      <td>room_type</td>\n",
              "      <td>0.034039</td>\n",
              "    </tr>\n",
              "    <tr>\n",
              "      <th>16</th>\n",
              "      <td>maximum_nights</td>\n",
              "      <td>0.017228</td>\n",
              "    </tr>\n",
              "    <tr>\n",
              "      <th>21</th>\n",
              "      <td>content_len</td>\n",
              "      <td>0.010018</td>\n",
              "    </tr>\n",
              "    <tr>\n",
              "      <th>0</th>\n",
              "      <td>host_response_time</td>\n",
              "      <td>0.007062</td>\n",
              "    </tr>\n",
              "    <tr>\n",
              "      <th>15</th>\n",
              "      <td>minimum_nights</td>\n",
              "      <td>0.003772</td>\n",
              "    </tr>\n",
              "    <tr>\n",
              "      <th>12</th>\n",
              "      <td>cleaning_fee</td>\n",
              "      <td>0.003659</td>\n",
              "    </tr>\n",
              "    <tr>\n",
              "      <th>10</th>\n",
              "      <td>price</td>\n",
              "      <td>0.003426</td>\n",
              "    </tr>\n",
              "    <tr>\n",
              "      <th>19</th>\n",
              "      <td>cancellation_policy</td>\n",
              "      <td>0.001548</td>\n",
              "    </tr>\n",
              "    <tr>\n",
              "      <th>18</th>\n",
              "      <td>review_scores_cleanliness</td>\n",
              "      <td>0.001191</td>\n",
              "    </tr>\n",
              "    <tr>\n",
              "      <th>3</th>\n",
              "      <td>property_type</td>\n",
              "      <td>0.000641</td>\n",
              "    </tr>\n",
              "    <tr>\n",
              "      <th>6</th>\n",
              "      <td>bathrooms</td>\n",
              "      <td>0.000517</td>\n",
              "    </tr>\n",
              "    <tr>\n",
              "      <th>7</th>\n",
              "      <td>bedrooms</td>\n",
              "      <td>0.000466</td>\n",
              "    </tr>\n",
              "    <tr>\n",
              "      <th>13</th>\n",
              "      <td>guests_included</td>\n",
              "      <td>0.000418</td>\n",
              "    </tr>\n",
              "    <tr>\n",
              "      <th>5</th>\n",
              "      <td>accommodates</td>\n",
              "      <td>0.000225</td>\n",
              "    </tr>\n",
              "    <tr>\n",
              "      <th>11</th>\n",
              "      <td>security_deposit</td>\n",
              "      <td>0.000179</td>\n",
              "    </tr>\n",
              "    <tr>\n",
              "      <th>2</th>\n",
              "      <td>neighbourhood_group_cleansed</td>\n",
              "      <td>0.000121</td>\n",
              "    </tr>\n",
              "    <tr>\n",
              "      <th>1</th>\n",
              "      <td>host_is_superhost</td>\n",
              "      <td>0.000102</td>\n",
              "    </tr>\n",
              "    <tr>\n",
              "      <th>9</th>\n",
              "      <td>bed_type</td>\n",
              "      <td>0.000094</td>\n",
              "    </tr>\n",
              "    <tr>\n",
              "      <th>22</th>\n",
              "      <td>review_scores_rating_</td>\n",
              "      <td>-0.000066</td>\n",
              "    </tr>\n",
              "    <tr>\n",
              "      <th>8</th>\n",
              "      <td>beds</td>\n",
              "      <td>-0.000097</td>\n",
              "    </tr>\n",
              "    <tr>\n",
              "      <th>14</th>\n",
              "      <td>extra_people</td>\n",
              "      <td>-0.000227</td>\n",
              "    </tr>\n",
              "  </tbody>\n",
              "</table>\n",
              "</div>\n",
              "      <button class=\"colab-df-convert\" onclick=\"convertToInteractive('df-51bc3f79-b363-4781-895a-7fd6376d63de')\"\n",
              "              title=\"Convert this dataframe to an interactive table.\"\n",
              "              style=\"display:none;\">\n",
              "        \n",
              "  <svg xmlns=\"http://www.w3.org/2000/svg\" height=\"24px\"viewBox=\"0 0 24 24\"\n",
              "       width=\"24px\">\n",
              "    <path d=\"M0 0h24v24H0V0z\" fill=\"none\"/>\n",
              "    <path d=\"M18.56 5.44l.94 2.06.94-2.06 2.06-.94-2.06-.94-.94-2.06-.94 2.06-2.06.94zm-11 1L8.5 8.5l.94-2.06 2.06-.94-2.06-.94L8.5 2.5l-.94 2.06-2.06.94zm10 10l.94 2.06.94-2.06 2.06-.94-2.06-.94-.94-2.06-.94 2.06-2.06.94z\"/><path d=\"M17.41 7.96l-1.37-1.37c-.4-.4-.92-.59-1.43-.59-.52 0-1.04.2-1.43.59L10.3 9.45l-7.72 7.72c-.78.78-.78 2.05 0 2.83L4 21.41c.39.39.9.59 1.41.59.51 0 1.02-.2 1.41-.59l7.78-7.78 2.81-2.81c.8-.78.8-2.07 0-2.86zM5.41 20L4 18.59l7.72-7.72 1.47 1.35L5.41 20z\"/>\n",
              "  </svg>\n",
              "      </button>\n",
              "      \n",
              "  <style>\n",
              "    .colab-df-container {\n",
              "      display:flex;\n",
              "      flex-wrap:wrap;\n",
              "      gap: 12px;\n",
              "    }\n",
              "\n",
              "    .colab-df-convert {\n",
              "      background-color: #E8F0FE;\n",
              "      border: none;\n",
              "      border-radius: 50%;\n",
              "      cursor: pointer;\n",
              "      display: none;\n",
              "      fill: #1967D2;\n",
              "      height: 32px;\n",
              "      padding: 0 0 0 0;\n",
              "      width: 32px;\n",
              "    }\n",
              "\n",
              "    .colab-df-convert:hover {\n",
              "      background-color: #E2EBFA;\n",
              "      box-shadow: 0px 1px 2px rgba(60, 64, 67, 0.3), 0px 1px 3px 1px rgba(60, 64, 67, 0.15);\n",
              "      fill: #174EA6;\n",
              "    }\n",
              "\n",
              "    [theme=dark] .colab-df-convert {\n",
              "      background-color: #3B4455;\n",
              "      fill: #D2E3FC;\n",
              "    }\n",
              "\n",
              "    [theme=dark] .colab-df-convert:hover {\n",
              "      background-color: #434B5C;\n",
              "      box-shadow: 0px 1px 3px 1px rgba(0, 0, 0, 0.15);\n",
              "      filter: drop-shadow(0px 1px 2px rgba(0, 0, 0, 0.3));\n",
              "      fill: #FFFFFF;\n",
              "    }\n",
              "  </style>\n",
              "\n",
              "      <script>\n",
              "        const buttonEl =\n",
              "          document.querySelector('#df-51bc3f79-b363-4781-895a-7fd6376d63de button.colab-df-convert');\n",
              "        buttonEl.style.display =\n",
              "          google.colab.kernel.accessAllowed ? 'block' : 'none';\n",
              "\n",
              "        async function convertToInteractive(key) {\n",
              "          const element = document.querySelector('#df-51bc3f79-b363-4781-895a-7fd6376d63de');\n",
              "          const dataTable =\n",
              "            await google.colab.kernel.invokeFunction('convertToInteractive',\n",
              "                                                     [key], {});\n",
              "          if (!dataTable) return;\n",
              "\n",
              "          const docLinkHtml = 'Like what you see? Visit the ' +\n",
              "            '<a target=\"_blank\" href=https://colab.research.google.com/notebooks/data_table.ipynb>data table notebook</a>'\n",
              "            + ' to learn more about interactive tables.';\n",
              "          element.innerHTML = '';\n",
              "          dataTable['output_type'] = 'display_data';\n",
              "          await google.colab.output.renderOutput(dataTable, element);\n",
              "          const docLink = document.createElement('div');\n",
              "          docLink.innerHTML = docLinkHtml;\n",
              "          element.appendChild(docLink);\n",
              "        }\n",
              "      </script>\n",
              "    </div>\n",
              "  </div>\n",
              "  "
            ]
          },
          "metadata": {},
          "execution_count": 97
        }
      ]
    },
    {
      "cell_type": "code",
      "source": [
        "# The most important features for Random Forest\n",
        "top_features = perm_features_rf.sort_values('feature_importance', ascending=False)[0:10]\n",
        "top_names = ['Descriptions', 'Number of Rviews', 'Room Type', 'Maximum Nights', 'Length of Desctiptions', 'Host Response Time',\n",
        "             'Minimum Nights', 'Cleaning Fee', 'Price', 'Cancellation Policy']\n",
        "plt.figure(figsize=(10, 6))\n",
        "\n",
        "ax = sns.barplot(x='feature_names', y='feature_importance', data=top_features, palette='mako')\n",
        "ax.set_xlabel('Features', fontsize=15)\n",
        "ax.set_ylabel('Mean Importances', fontsize=15)\n",
        "ax.set_title('Top 10 Important Features Random Forest', fontsize=15)\n",
        "plt.xticks(range(len(top_names)), top_names, rotation=90, ha='center')\n",
        "plt.yticks(np.arange(0, 0.15, step=0.010))\n",
        "plt.show()"
      ],
      "metadata": {
        "colab": {
          "base_uri": "https://localhost:8080/",
          "height": 528
        },
        "id": "bTZGjP-YPqMC",
        "outputId": "c6440d6a-02f5-466b-a705-be5f49398d40"
      },
      "execution_count": 144,
      "outputs": [
        {
          "output_type": "display_data",
          "data": {
            "text/plain": [
              "<Figure size 720x432 with 1 Axes>"
            ],
            "image/png": "[encoded data removed]"
          },
          "metadata": {}
        }
      ]
    },
    {
      "cell_type": "markdown",
      "source": [
        "## Results\n",
        "\n",
        "Support Vector Regression and Random Forest were the two best performing models on test data with Mean Squared Error of 10.8. Although Random Forest scored 0.11 on cross validation whereas SVR scored 0.10, it is important to evaluate what features contribute the most to booking rates with the two models. \n",
        "\n",
        "We see that different features have various effects on different models. Price followed by room type and number of bedrooms were the top predictors in SVR model whereas descriptions (NLP text data describing listings), number of reviews and room type were the top predictors in Random Forest. Descriptions have very large effect on booking rates at 12% compared to other features in Random Forest model. However we see that price has less effect 9.5% in SVR compared to descriptions in Random Forest model. We also see that room type is one of the top predictors in both models.\n",
        "\n",
        "As a result, we can conlude that listing descriptions, price, room type, number of reviews and number of bedrooms are the top contibutors to booking rate. To hosts who want to increase their booking rate, I suggest putting more emphasis on these features, such as being more descriptive on their listing summary, lowering price during peak times such as summer and also getting more positive reviews by providing their guests a pleasant experience. "
      ],
      "metadata": {
        "id": "CRbL8dIlQ5jS"
      }
    },
    {
      "cell_type": "markdown",
      "source": [
        "## Contact \n",
        "\n",
        "For any further questions, please reach me:\n",
        "\n",
        "### Hatice K. Erdogan\n",
        "\n",
        "kastanhatice@gmail.com"
      ],
      "metadata": {
        "id": "Eji4jGBXXS4h"
      }
    }
  ]
}